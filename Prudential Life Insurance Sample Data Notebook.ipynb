{
 "cells": [
  {
   "cell_type": "markdown",
   "metadata": {},
   "source": [
    "# Exploratory Data Analysis (EDA) of Prudential Life Insurance Sample Data"
   ]
  },
  {
   "cell_type": "code",
   "execution_count": 1,
   "metadata": {},
   "outputs": [
    {
     "name": "stderr",
     "output_type": "stream",
     "text": [
      "/tmp/ipykernel_276805/2766678410.py:4: DeprecationWarning: `import pandas_profiling` is going to be deprecated by April 1st. Please use `import ydata_profiling` instead.\n",
      "  import pandas_profiling as pdp\n"
     ]
    }
   ],
   "source": [
    "# Import necessary libraries.\n",
    "import pandas as pd\n",
    "import numpy as np\n",
    "import pandas_profiling as pdp\n",
    "import matplotlib.pyplot as plt\n",
    "import seaborn as sns"
   ]
  },
  {
   "cell_type": "code",
   "execution_count": 2,
   "metadata": {},
   "outputs": [],
   "source": [
    "# Read data source csv files.\n",
    "#data=pd.read_csv('''/home/jupyter-seshadhr/DSJungle/python/assignments/insurance/data/prudential_life_insurance_sample_data.csv''')\n",
    "\n",
    "# Read data source csv files.\n",
    "data=pd.read_csv('https://raw.githubusercontent.com/easonlai/eda_for_prudential_life_insurance_sample_data/main/data/prudential_life_insurance_sample_data.csv')"
   ]
  },
  {
   "cell_type": "code",
   "execution_count": 3,
   "metadata": {},
   "outputs": [
    {
     "data": {
      "text/html": [
       "<div>\n",
       "<style scoped>\n",
       "    .dataframe tbody tr th:only-of-type {\n",
       "        vertical-align: middle;\n",
       "    }\n",
       "\n",
       "    .dataframe tbody tr th {\n",
       "        vertical-align: top;\n",
       "    }\n",
       "\n",
       "    .dataframe thead th {\n",
       "        text-align: right;\n",
       "    }\n",
       "</style>\n",
       "<table border=\"1\" class=\"dataframe\">\n",
       "  <thead>\n",
       "    <tr style=\"text-align: right;\">\n",
       "      <th></th>\n",
       "      <th>Id</th>\n",
       "      <th>Product_Info_1</th>\n",
       "      <th>Product_Info_2</th>\n",
       "      <th>Product_Info_3</th>\n",
       "      <th>Product_Info_4</th>\n",
       "      <th>Product_Info_5</th>\n",
       "      <th>Product_Info_6</th>\n",
       "      <th>Product_Info_7</th>\n",
       "      <th>Ins_Age</th>\n",
       "      <th>Ht</th>\n",
       "      <th>...</th>\n",
       "      <th>Medical_Keyword_40</th>\n",
       "      <th>Medical_Keyword_41</th>\n",
       "      <th>Medical_Keyword_42</th>\n",
       "      <th>Medical_Keyword_43</th>\n",
       "      <th>Medical_Keyword_44</th>\n",
       "      <th>Medical_Keyword_45</th>\n",
       "      <th>Medical_Keyword_46</th>\n",
       "      <th>Medical_Keyword_47</th>\n",
       "      <th>Medical_Keyword_48</th>\n",
       "      <th>Response</th>\n",
       "    </tr>\n",
       "  </thead>\n",
       "  <tbody>\n",
       "    <tr>\n",
       "      <th>0</th>\n",
       "      <td>2</td>\n",
       "      <td>1</td>\n",
       "      <td>D3</td>\n",
       "      <td>10</td>\n",
       "      <td>0.076923</td>\n",
       "      <td>2</td>\n",
       "      <td>1</td>\n",
       "      <td>1</td>\n",
       "      <td>0.641791</td>\n",
       "      <td>0.581818</td>\n",
       "      <td>...</td>\n",
       "      <td>0</td>\n",
       "      <td>0</td>\n",
       "      <td>0</td>\n",
       "      <td>0</td>\n",
       "      <td>0</td>\n",
       "      <td>0</td>\n",
       "      <td>0</td>\n",
       "      <td>0</td>\n",
       "      <td>0</td>\n",
       "      <td>8</td>\n",
       "    </tr>\n",
       "    <tr>\n",
       "      <th>1</th>\n",
       "      <td>5</td>\n",
       "      <td>1</td>\n",
       "      <td>A1</td>\n",
       "      <td>26</td>\n",
       "      <td>0.076923</td>\n",
       "      <td>2</td>\n",
       "      <td>3</td>\n",
       "      <td>1</td>\n",
       "      <td>0.059701</td>\n",
       "      <td>0.600000</td>\n",
       "      <td>...</td>\n",
       "      <td>0</td>\n",
       "      <td>0</td>\n",
       "      <td>0</td>\n",
       "      <td>0</td>\n",
       "      <td>0</td>\n",
       "      <td>0</td>\n",
       "      <td>0</td>\n",
       "      <td>0</td>\n",
       "      <td>0</td>\n",
       "      <td>4</td>\n",
       "    </tr>\n",
       "    <tr>\n",
       "      <th>2</th>\n",
       "      <td>6</td>\n",
       "      <td>1</td>\n",
       "      <td>E1</td>\n",
       "      <td>26</td>\n",
       "      <td>0.076923</td>\n",
       "      <td>2</td>\n",
       "      <td>3</td>\n",
       "      <td>1</td>\n",
       "      <td>0.029851</td>\n",
       "      <td>0.745455</td>\n",
       "      <td>...</td>\n",
       "      <td>0</td>\n",
       "      <td>0</td>\n",
       "      <td>0</td>\n",
       "      <td>0</td>\n",
       "      <td>0</td>\n",
       "      <td>0</td>\n",
       "      <td>0</td>\n",
       "      <td>0</td>\n",
       "      <td>0</td>\n",
       "      <td>8</td>\n",
       "    </tr>\n",
       "    <tr>\n",
       "      <th>3</th>\n",
       "      <td>7</td>\n",
       "      <td>1</td>\n",
       "      <td>D4</td>\n",
       "      <td>10</td>\n",
       "      <td>0.487179</td>\n",
       "      <td>2</td>\n",
       "      <td>3</td>\n",
       "      <td>1</td>\n",
       "      <td>0.164179</td>\n",
       "      <td>0.672727</td>\n",
       "      <td>...</td>\n",
       "      <td>0</td>\n",
       "      <td>0</td>\n",
       "      <td>0</td>\n",
       "      <td>0</td>\n",
       "      <td>0</td>\n",
       "      <td>0</td>\n",
       "      <td>0</td>\n",
       "      <td>0</td>\n",
       "      <td>0</td>\n",
       "      <td>8</td>\n",
       "    </tr>\n",
       "    <tr>\n",
       "      <th>4</th>\n",
       "      <td>8</td>\n",
       "      <td>1</td>\n",
       "      <td>D2</td>\n",
       "      <td>26</td>\n",
       "      <td>0.230769</td>\n",
       "      <td>2</td>\n",
       "      <td>3</td>\n",
       "      <td>1</td>\n",
       "      <td>0.417910</td>\n",
       "      <td>0.654545</td>\n",
       "      <td>...</td>\n",
       "      <td>0</td>\n",
       "      <td>0</td>\n",
       "      <td>0</td>\n",
       "      <td>0</td>\n",
       "      <td>0</td>\n",
       "      <td>0</td>\n",
       "      <td>0</td>\n",
       "      <td>0</td>\n",
       "      <td>0</td>\n",
       "      <td>8</td>\n",
       "    </tr>\n",
       "  </tbody>\n",
       "</table>\n",
       "<p>5 rows × 128 columns</p>\n",
       "</div>"
      ],
      "text/plain": [
       "   Id  Product_Info_1 Product_Info_2  Product_Info_3  Product_Info_4  \\\n",
       "0   2               1             D3              10        0.076923   \n",
       "1   5               1             A1              26        0.076923   \n",
       "2   6               1             E1              26        0.076923   \n",
       "3   7               1             D4              10        0.487179   \n",
       "4   8               1             D2              26        0.230769   \n",
       "\n",
       "   Product_Info_5  Product_Info_6  Product_Info_7   Ins_Age        Ht  ...  \\\n",
       "0               2               1               1  0.641791  0.581818  ...   \n",
       "1               2               3               1  0.059701  0.600000  ...   \n",
       "2               2               3               1  0.029851  0.745455  ...   \n",
       "3               2               3               1  0.164179  0.672727  ...   \n",
       "4               2               3               1  0.417910  0.654545  ...   \n",
       "\n",
       "   Medical_Keyword_40  Medical_Keyword_41  Medical_Keyword_42  \\\n",
       "0                   0                   0                   0   \n",
       "1                   0                   0                   0   \n",
       "2                   0                   0                   0   \n",
       "3                   0                   0                   0   \n",
       "4                   0                   0                   0   \n",
       "\n",
       "   Medical_Keyword_43  Medical_Keyword_44  Medical_Keyword_45  \\\n",
       "0                   0                   0                   0   \n",
       "1                   0                   0                   0   \n",
       "2                   0                   0                   0   \n",
       "3                   0                   0                   0   \n",
       "4                   0                   0                   0   \n",
       "\n",
       "   Medical_Keyword_46  Medical_Keyword_47  Medical_Keyword_48  Response  \n",
       "0                   0                   0                   0         8  \n",
       "1                   0                   0                   0         4  \n",
       "2                   0                   0                   0         8  \n",
       "3                   0                   0                   0         8  \n",
       "4                   0                   0                   0         8  \n",
       "\n",
       "[5 rows x 128 columns]"
      ]
     },
     "execution_count": 3,
     "metadata": {},
     "output_type": "execute_result"
    }
   ],
   "source": [
    "# Read header of dataframe.\n",
    "data.head()"
   ]
  },
  {
   "cell_type": "markdown",
   "metadata": {},
   "source": [
    "Data Fields Description\n",
    "* Id, A unique identifier associated with an application.\n",
    "* Product_Info_1-7, A set of normalized variables relating to the product applied for\n",
    "* Ins_Age, Normalized age of applicant\n",
    "* Ht, Normalized height of applicant\n",
    "* Wt, Normalized weight of applicant\n",
    "* BMI, Normalized BMI of applicant\n",
    "* Employment_Info_1-6, A set of normalized variables relating to the employment history of the applicant.\n",
    "* InsuredInfo_1-6, A set of normalized variables providing information about the applicant.\n",
    "* Insurance_History_1-9, A set of normalized variables relating to the insurance history of the applicant.\n",
    "* Family_Hist_1-5, A set of normalized variables relating to the family history of the applicant.\n",
    "* Medical_History_1-41, A set of normalized variables relating to the medical history of the applicant.\n",
    "* Medical_Keyword_1-48, A set of dummy variables relating to the presence of/absence of a medical keyword being associated with the application.\n",
    "* Response, This is the target variable, an ordinal variable relating to the final decision associated with an application"
   ]
  },
  {
   "cell_type": "code",
   "execution_count": 4,
   "metadata": {},
   "outputs": [
    {
     "name": "stdout",
     "output_type": "stream",
     "text": [
      "<class 'pandas.core.frame.DataFrame'>\n",
      "RangeIndex: 59381 entries, 0 to 59380\n",
      "Columns: 128 entries, Id to Response\n",
      "dtypes: float64(18), int64(109), object(1)\n",
      "memory usage: 58.0+ MB\n"
     ]
    }
   ],
   "source": [
    "# Check dataframe information.\n",
    "data.info()"
   ]
  },
  {
   "cell_type": "markdown",
   "metadata": {},
   "source": [
    "# Missing Value Analysis"
   ]
  },
  {
   "cell_type": "code",
   "execution_count": 5,
   "metadata": {},
   "outputs": [],
   "source": [
    "def missing_data(data):\n",
    "    total = data.isnull().sum()\n",
    "    percent = (data.isnull().sum()/data.isnull().count()*100)\n",
    "    tt = pd.concat([total, percent], axis=1, keys=['Total', 'Percent'])\n",
    "    types = []\n",
    "    for col in data.columns:\n",
    "        dtype = str(data[col].dtype)\n",
    "        types.append(dtype)\n",
    "    tt['Types'] = types\n",
    "    return tt"
   ]
  },
  {
   "cell_type": "code",
   "execution_count": 6,
   "metadata": {},
   "outputs": [
    {
     "data": {
      "text/plain": [
       "Medical_History_10    99.061990\n",
       "Medical_History_32    98.135767\n",
       "Medical_History_24    93.598963\n",
       "Medical_History_15    75.101463\n",
       "Family_Hist_5         70.411411\n",
       "                        ...    \n",
       "Medical_History_6      0.000000\n",
       "Medical_History_5      0.000000\n",
       "Medical_History_4      0.000000\n",
       "Medical_History_3      0.000000\n",
       "Response               0.000000\n",
       "Name: Percent, Length: 128, dtype: float64"
      ]
     },
     "execution_count": 6,
     "metadata": {},
     "output_type": "execute_result"
    }
   ],
   "source": [
    "# Check missing value percentage in dataframe\n",
    "missing_data(data)['Percent'].sort_values(ascending=False)"
   ]
  },
  {
   "cell_type": "code",
   "execution_count": 7,
   "metadata": {},
   "outputs": [],
   "source": [
    "# Drop columns which has more than 75% missing value.\n",
    "data=data[data.columns[data.isnull().mean() <= 0.75]]"
   ]
  },
  {
   "cell_type": "code",
   "execution_count": 8,
   "metadata": {},
   "outputs": [
    {
     "data": {
      "text/plain": [
       "Family_Hist_5          41811\n",
       "Family_Hist_3          34241\n",
       "Family_Hist_2          28656\n",
       "Insurance_History_5    25396\n",
       "Family_Hist_4          19184\n",
       "                       ...  \n",
       "Medical_History_6          0\n",
       "Medical_History_5          0\n",
       "Medical_History_4          0\n",
       "Medical_History_3          0\n",
       "Response                   0\n",
       "Length: 124, dtype: int64"
      ]
     },
     "execution_count": 8,
     "metadata": {},
     "output_type": "execute_result"
    }
   ],
   "source": [
    "# Count missing value in columns.\n",
    "data.isnull().sum().sort_values(ascending=False)"
   ]
  },
  {
   "cell_type": "code",
   "execution_count": 9,
   "metadata": {},
   "outputs": [],
   "source": [
    "# Take null value columns name.\n",
    "list_data=data.columns[data.isna().any()].tolist()"
   ]
  },
  {
   "cell_type": "code",
   "execution_count": 10,
   "metadata": {},
   "outputs": [
    {
     "name": "stdout",
     "output_type": "stream",
     "text": [
      "column name:  Employment_Info_1  Dtype: float64\n",
      "column name:  Employment_Info_4  Dtype: float64\n",
      "column name:  Employment_Info_6  Dtype: float64\n",
      "column name:  Insurance_History_5  Dtype: float64\n",
      "column name:  Family_Hist_2  Dtype: float64\n",
      "column name:  Family_Hist_3  Dtype: float64\n",
      "column name:  Family_Hist_4  Dtype: float64\n",
      "column name:  Family_Hist_5  Dtype: float64\n",
      "column name:  Medical_History_1  Dtype: float64\n"
     ]
    }
   ],
   "source": [
    "# Print columns name and data types which has null values.\n",
    "for i in range(0,len(list_data)):\n",
    "    print('column name: ',list_data[i],' Dtype:',data[list_data[i]].dtypes)"
   ]
  },
  {
   "cell_type": "markdown",
   "metadata": {},
   "source": [
    "9 Features have Null values"
   ]
  },
  {
   "cell_type": "code",
   "execution_count": 11,
   "metadata": {},
   "outputs": [],
   "source": [
    "# Fill Null Values With Mean.\n",
    "for column in list_data:\n",
    "    data[column].fillna(data[column].mean(), inplace=True)"
   ]
  },
  {
   "cell_type": "markdown",
   "metadata": {},
   "source": [
    "## Categorical values\n",
    "Encode categorical features using an ordinal encoding scheme."
   ]
  },
  {
   "cell_type": "code",
   "execution_count": 12,
   "metadata": {},
   "outputs": [
    {
     "name": "stdout",
     "output_type": "stream",
     "text": [
      "<class 'pandas.core.frame.DataFrame'>\n",
      "RangeIndex: 59381 entries, 0 to 59380\n",
      "Columns: 124 entries, Id to Response\n",
      "dtypes: float64(14), int64(109), object(1)\n",
      "memory usage: 56.2+ MB\n"
     ]
    }
   ],
   "source": [
    "# Check dataframe information.\n",
    "data.info()"
   ]
  },
  {
   "cell_type": "code",
   "execution_count": 13,
   "metadata": {},
   "outputs": [
    {
     "name": "stdout",
     "output_type": "stream",
     "text": [
      "Id                       int64\n",
      "Product_Info_1           int64\n",
      "Product_Info_2          object\n",
      "Product_Info_3           int64\n",
      "Product_Info_4         float64\n",
      "Product_Info_5           int64\n",
      "Product_Info_6           int64\n",
      "Product_Info_7           int64\n",
      "Ins_Age                float64\n",
      "Ht                     float64\n",
      "Wt                     float64\n",
      "BMI                    float64\n",
      "Employment_Info_1      float64\n",
      "Employment_Info_2        int64\n",
      "Employment_Info_3        int64\n",
      "Employment_Info_4      float64\n",
      "Employment_Info_5        int64\n",
      "Employment_Info_6      float64\n",
      "InsuredInfo_1            int64\n",
      "InsuredInfo_2            int64\n",
      "InsuredInfo_3            int64\n",
      "InsuredInfo_4            int64\n",
      "InsuredInfo_5            int64\n",
      "InsuredInfo_6            int64\n",
      "InsuredInfo_7            int64\n",
      "Insurance_History_1      int64\n",
      "Insurance_History_2      int64\n",
      "Insurance_History_3      int64\n",
      "Insurance_History_4      int64\n",
      "Insurance_History_5    float64\n",
      "Insurance_History_7      int64\n",
      "Insurance_History_8      int64\n",
      "Insurance_History_9      int64\n",
      "Family_Hist_1            int64\n",
      "Family_Hist_2          float64\n",
      "Family_Hist_3          float64\n",
      "Family_Hist_4          float64\n",
      "Family_Hist_5          float64\n",
      "Medical_History_1      float64\n",
      "Medical_History_2        int64\n",
      "Medical_History_3        int64\n",
      "Medical_History_4        int64\n",
      "Medical_History_5        int64\n",
      "Medical_History_6        int64\n",
      "Medical_History_7        int64\n",
      "Medical_History_8        int64\n",
      "Medical_History_9        int64\n",
      "Medical_History_11       int64\n",
      "Medical_History_12       int64\n",
      "Medical_History_13       int64\n",
      "Medical_History_14       int64\n",
      "Medical_History_16       int64\n",
      "Medical_History_17       int64\n",
      "Medical_History_18       int64\n",
      "Medical_History_19       int64\n",
      "Medical_History_20       int64\n",
      "Medical_History_21       int64\n",
      "Medical_History_22       int64\n",
      "Medical_History_23       int64\n",
      "Medical_History_25       int64\n",
      "Medical_History_26       int64\n",
      "Medical_History_27       int64\n",
      "Medical_History_28       int64\n",
      "Medical_History_29       int64\n",
      "Medical_History_30       int64\n",
      "Medical_History_31       int64\n",
      "Medical_History_33       int64\n",
      "Medical_History_34       int64\n",
      "Medical_History_35       int64\n",
      "Medical_History_36       int64\n",
      "Medical_History_37       int64\n",
      "Medical_History_38       int64\n",
      "Medical_History_39       int64\n",
      "Medical_History_40       int64\n",
      "Medical_History_41       int64\n",
      "Medical_Keyword_1        int64\n",
      "Medical_Keyword_2        int64\n",
      "Medical_Keyword_3        int64\n",
      "Medical_Keyword_4        int64\n",
      "Medical_Keyword_5        int64\n",
      "Medical_Keyword_6        int64\n",
      "Medical_Keyword_7        int64\n",
      "Medical_Keyword_8        int64\n",
      "Medical_Keyword_9        int64\n",
      "Medical_Keyword_10       int64\n",
      "Medical_Keyword_11       int64\n",
      "Medical_Keyword_12       int64\n",
      "Medical_Keyword_13       int64\n",
      "Medical_Keyword_14       int64\n",
      "Medical_Keyword_15       int64\n",
      "Medical_Keyword_16       int64\n",
      "Medical_Keyword_17       int64\n",
      "Medical_Keyword_18       int64\n",
      "Medical_Keyword_19       int64\n",
      "Medical_Keyword_20       int64\n",
      "Medical_Keyword_21       int64\n",
      "Medical_Keyword_22       int64\n",
      "Medical_Keyword_23       int64\n",
      "Medical_Keyword_24       int64\n",
      "Medical_Keyword_25       int64\n",
      "Medical_Keyword_26       int64\n",
      "Medical_Keyword_27       int64\n",
      "Medical_Keyword_28       int64\n",
      "Medical_Keyword_29       int64\n",
      "Medical_Keyword_30       int64\n",
      "Medical_Keyword_31       int64\n",
      "Medical_Keyword_32       int64\n",
      "Medical_Keyword_33       int64\n",
      "Medical_Keyword_34       int64\n",
      "Medical_Keyword_35       int64\n",
      "Medical_Keyword_36       int64\n",
      "Medical_Keyword_37       int64\n",
      "Medical_Keyword_38       int64\n",
      "Medical_Keyword_39       int64\n",
      "Medical_Keyword_40       int64\n",
      "Medical_Keyword_41       int64\n",
      "Medical_Keyword_42       int64\n",
      "Medical_Keyword_43       int64\n",
      "Medical_Keyword_44       int64\n",
      "Medical_Keyword_45       int64\n",
      "Medical_Keyword_46       int64\n",
      "Medical_Keyword_47       int64\n",
      "Medical_Keyword_48       int64\n",
      "Response                 int64\n"
     ]
    }
   ],
   "source": [
    "print(data.dtypes.to_string())"
   ]
  },
  {
   "cell_type": "code",
   "execution_count": 14,
   "metadata": {},
   "outputs": [
    {
     "data": {
      "text/plain": [
       "pandas.core.series.Series"
      ]
     },
     "execution_count": 14,
     "metadata": {},
     "output_type": "execute_result"
    }
   ],
   "source": [
    "type(data['Id'])"
   ]
  },
  {
   "cell_type": "code",
   "execution_count": 15,
   "metadata": {},
   "outputs": [
    {
     "name": "stdout",
     "output_type": "stream",
     "text": [
      "                       count          mean           std  min           25%           50%           75%           max\n",
      "Id                   59381.0  39507.211515  22815.883089  2.0  19780.000000  39487.000000  59211.000000  79146.000000\n",
      "Product_Info_1       59381.0      1.026355      0.160191  1.0      1.000000      1.000000      1.000000      2.000000\n",
      "Product_Info_3       59381.0     24.415655      5.072885  1.0     26.000000     26.000000     26.000000     38.000000\n",
      "Product_Info_4       59381.0      0.328952      0.282562  0.0      0.076923      0.230769      0.487179      1.000000\n",
      "Product_Info_5       59381.0      2.006955      0.083107  2.0      2.000000      2.000000      2.000000      3.000000\n",
      "Product_Info_6       59381.0      2.673599      0.739103  1.0      3.000000      3.000000      3.000000      3.000000\n",
      "Product_Info_7       59381.0      1.043583      0.291949  1.0      1.000000      1.000000      1.000000      3.000000\n",
      "Ins_Age              59381.0      0.405567      0.197190  0.0      0.238806      0.402985      0.567164      1.000000\n",
      "Ht                   59381.0      0.707283      0.074239  0.0      0.654545      0.709091      0.763636      1.000000\n",
      "Wt                   59381.0      0.292587      0.089037  0.0      0.225941      0.288703      0.345188      1.000000\n",
      "BMI                  59381.0      0.469462      0.122213  0.0      0.385517      0.451349      0.532858      1.000000\n",
      "Employment_Info_1    59381.0      0.077582      0.082334  0.0      0.035000      0.060000      0.100000      1.000000\n",
      "Employment_Info_2    59381.0      8.641821      4.227082  1.0      9.000000      9.000000      9.000000     38.000000\n",
      "Employment_Info_3    59381.0      1.300904      0.715034  1.0      1.000000      1.000000      1.000000      3.000000\n",
      "Employment_Info_4    59381.0      0.006283      0.030887  0.0      0.000000      0.000000      0.000000      1.000000\n",
      "Employment_Info_5    59381.0      2.142958      0.350033  2.0      2.000000      2.000000      2.000000      3.000000\n",
      "Employment_Info_6    59381.0      0.361469      0.315993  0.0      0.100000      0.350000      0.500000      1.000000\n",
      "InsuredInfo_1        59381.0      1.209326      0.417939  1.0      1.000000      1.000000      1.000000      3.000000\n",
      "InsuredInfo_2        59381.0      2.007427      0.085858  2.0      2.000000      2.000000      2.000000      3.000000\n",
      "InsuredInfo_3        59381.0      5.835840      2.674536  1.0      3.000000      6.000000      8.000000     11.000000\n",
      "InsuredInfo_4        59381.0      2.883666      0.320627  2.0      3.000000      3.000000      3.000000      3.000000\n",
      "InsuredInfo_5        59381.0      1.027180      0.231566  1.0      1.000000      1.000000      1.000000      3.000000\n",
      "InsuredInfo_6        59381.0      1.409188      0.491688  1.0      1.000000      1.000000      2.000000      2.000000\n",
      "InsuredInfo_7        59381.0      1.038531      0.274915  1.0      1.000000      1.000000      1.000000      3.000000\n",
      "Insurance_History_1  59381.0      1.727606      0.445195  1.0      1.000000      2.000000      2.000000      2.000000\n",
      "Insurance_History_2  59381.0      1.055792      0.329328  1.0      1.000000      1.000000      1.000000      3.000000\n",
      "Insurance_History_3  59381.0      2.146983      0.989139  1.0      1.000000      3.000000      3.000000      3.000000\n",
      "Insurance_History_4  59381.0      1.958707      0.945739  1.0      1.000000      2.000000      3.000000      3.000000\n",
      "Insurance_History_5  59381.0      0.001733      0.005551  0.0      0.000667      0.001733      0.001733      1.000000\n",
      "Insurance_History_7  59381.0      1.901989      0.971223  1.0      1.000000      1.000000      3.000000      3.000000\n",
      "Insurance_History_8  59381.0      2.048484      0.755149  1.0      1.000000      2.000000      3.000000      3.000000\n",
      "Insurance_History_9  59381.0      2.419360      0.509577  1.0      2.000000      2.000000      3.000000      3.000000\n",
      "Family_Hist_1        59381.0      2.686230      0.483159  1.0      2.000000      3.000000      3.000000      3.000000\n",
      "Family_Hist_2        59381.0      0.474550      0.111464  0.0      0.449275      0.474550      0.474550      1.000000\n",
      "Family_Hist_3        59381.0      0.497737      0.091214  0.0      0.497737      0.497737      0.497737      1.000000\n",
      "Family_Hist_4        59381.0      0.444890      0.134119  0.0      0.380282      0.444890      0.492958      0.943662\n",
      "Family_Hist_5        59381.0      0.484635      0.070277  0.0      0.484635      0.484635      0.484635      1.000000\n",
      "Medical_History_1    59381.0      7.962172     12.013085  0.0      2.000000      5.000000      8.000000    240.000000\n",
      "Medical_History_2    59381.0    253.987100    178.621154  1.0    112.000000    162.000000    418.000000    648.000000\n",
      "Medical_History_3    59381.0      2.102171      0.303098  1.0      2.000000      2.000000      2.000000      3.000000\n",
      "Medical_History_4    59381.0      1.654873      0.475414  1.0      1.000000      2.000000      2.000000      2.000000\n",
      "Medical_History_5    59381.0      1.007359      0.085864  1.0      1.000000      1.000000      1.000000      3.000000\n",
      "Medical_History_6    59381.0      2.889897      0.456128  1.0      3.000000      3.000000      3.000000      3.000000\n",
      "Medical_History_7    59381.0      2.012277      0.172360  1.0      2.000000      2.000000      2.000000      3.000000\n",
      "Medical_History_8    59381.0      2.044088      0.291353  1.0      2.000000      2.000000      2.000000      3.000000\n",
      "Medical_History_9    59381.0      1.769943      0.421032  1.0      2.000000      2.000000      2.000000      3.000000\n",
      "Medical_History_11   59381.0      2.993836      0.095340  1.0      3.000000      3.000000      3.000000      3.000000\n",
      "Medical_History_12   59381.0      2.056601      0.231153  1.0      2.000000      2.000000      2.000000      3.000000\n",
      "Medical_History_13   59381.0      2.768141      0.640259  1.0      3.000000      3.000000      3.000000      3.000000\n",
      "Medical_History_14   59381.0      2.968542      0.197715  1.0      3.000000      3.000000      3.000000      3.000000\n",
      "Medical_History_16   59381.0      1.327529      0.740118  1.0      1.000000      1.000000      1.000000      3.000000\n",
      "Medical_History_17   59381.0      2.978006      0.146778  1.0      3.000000      3.000000      3.000000      3.000000\n",
      "Medical_History_18   59381.0      1.053536      0.225848  1.0      1.000000      1.000000      1.000000      3.000000\n",
      "Medical_History_19   59381.0      1.034455      0.182859  1.0      1.000000      1.000000      1.000000      3.000000\n",
      "Medical_History_20   59381.0      1.985079      0.121375  1.0      2.000000      2.000000      2.000000      3.000000\n",
      "Medical_History_21   59381.0      1.108991      0.311847  1.0      1.000000      1.000000      1.000000      3.000000\n",
      "Medical_History_22   59381.0      1.981644      0.134236  1.0      2.000000      2.000000      2.000000      2.000000\n",
      "Medical_History_23   59381.0      2.528115      0.849170  1.0      3.000000      3.000000      3.000000      3.000000\n",
      "Medical_History_25   59381.0      1.194961      0.406082  1.0      1.000000      1.000000      1.000000      3.000000\n",
      "Medical_History_26   59381.0      2.808979      0.393237  1.0      3.000000      3.000000      3.000000      3.000000\n",
      "Medical_History_27   59381.0      2.980213      0.197652  1.0      3.000000      3.000000      3.000000      3.000000\n",
      "Medical_History_28   59381.0      1.067210      0.250589  1.0      1.000000      1.000000      1.000000      3.000000\n",
      "Medical_History_29   59381.0      2.542699      0.839904  1.0      3.000000      3.000000      3.000000      3.000000\n",
      "Medical_History_30   59381.0      2.040771      0.198100  1.0      2.000000      2.000000      2.000000      3.000000\n",
      "Medical_History_31   59381.0      2.985265      0.170989  1.0      3.000000      3.000000      3.000000      3.000000\n",
      "Medical_History_33   59381.0      2.804618      0.593798  1.0      3.000000      3.000000      3.000000      3.000000\n",
      "Medical_History_34   59381.0      2.689076      0.724661  1.0      3.000000      3.000000      3.000000      3.000000\n",
      "Medical_History_35   59381.0      1.002055      0.063806  1.0      1.000000      1.000000      1.000000      3.000000\n",
      "Medical_History_36   59381.0      2.179468      0.412633  1.0      2.000000      2.000000      2.000000      3.000000\n",
      "Medical_History_37   59381.0      1.938398      0.240574  1.0      2.000000      2.000000      2.000000      3.000000\n",
      "Medical_History_38   59381.0      1.004850      0.069474  1.0      1.000000      1.000000      1.000000      2.000000\n",
      "Medical_History_39   59381.0      2.830720      0.556665  1.0      3.000000      3.000000      3.000000      3.000000\n",
      "Medical_History_40   59381.0      2.967599      0.252427  1.0      3.000000      3.000000      3.000000      3.000000\n",
      "Medical_History_41   59381.0      1.641064      0.933361  1.0      1.000000      1.000000      3.000000      3.000000\n",
      "Medical_Keyword_1    59381.0      0.042000      0.200591  0.0      0.000000      0.000000      0.000000      1.000000\n",
      "Medical_Keyword_2    59381.0      0.008942      0.094141  0.0      0.000000      0.000000      0.000000      1.000000\n",
      "Medical_Keyword_3    59381.0      0.049275      0.216443  0.0      0.000000      0.000000      0.000000      1.000000\n",
      "Medical_Keyword_4    59381.0      0.014550      0.119744  0.0      0.000000      0.000000      0.000000      1.000000\n",
      "Medical_Keyword_5    59381.0      0.008622      0.092456  0.0      0.000000      0.000000      0.000000      1.000000\n",
      "Medical_Keyword_6    59381.0      0.012597      0.111526  0.0      0.000000      0.000000      0.000000      1.000000\n",
      "Medical_Keyword_7    59381.0      0.013910      0.117119  0.0      0.000000      0.000000      0.000000      1.000000\n",
      "Medical_Keyword_8    59381.0      0.010407      0.101485  0.0      0.000000      0.000000      0.000000      1.000000\n",
      "Medical_Keyword_9    59381.0      0.006652      0.081289  0.0      0.000000      0.000000      0.000000      1.000000\n",
      "Medical_Keyword_10   59381.0      0.036459      0.187432  0.0      0.000000      0.000000      0.000000      1.000000\n",
      "Medical_Keyword_11   59381.0      0.058015      0.233774  0.0      0.000000      0.000000      0.000000      1.000000\n",
      "Medical_Keyword_12   59381.0      0.010003      0.099515  0.0      0.000000      0.000000      0.000000      1.000000\n",
      "Medical_Keyword_13   59381.0      0.005962      0.076981  0.0      0.000000      0.000000      0.000000      1.000000\n",
      "Medical_Keyword_14   59381.0      0.007848      0.088239  0.0      0.000000      0.000000      0.000000      1.000000\n",
      "Medical_Keyword_15   59381.0      0.190465      0.392671  0.0      0.000000      0.000000      0.000000      1.000000\n",
      "Medical_Keyword_16   59381.0      0.012715      0.112040  0.0      0.000000      0.000000      0.000000      1.000000\n",
      "Medical_Keyword_17   59381.0      0.009161      0.095275  0.0      0.000000      0.000000      0.000000      1.000000\n",
      "Medical_Keyword_18   59381.0      0.007494      0.086244  0.0      0.000000      0.000000      0.000000      1.000000\n",
      "Medical_Keyword_19   59381.0      0.009296      0.095967  0.0      0.000000      0.000000      0.000000      1.000000\n",
      "Medical_Keyword_20   59381.0      0.008134      0.089821  0.0      0.000000      0.000000      0.000000      1.000000\n",
      "Medical_Keyword_21   59381.0      0.014601      0.119949  0.0      0.000000      0.000000      0.000000      1.000000\n",
      "Medical_Keyword_22   59381.0      0.037167      0.189172  0.0      0.000000      0.000000      0.000000      1.000000\n",
      "Medical_Keyword_23   59381.0      0.097775      0.297013  0.0      0.000000      0.000000      0.000000      1.000000\n",
      "Medical_Keyword_24   59381.0      0.018895      0.136155  0.0      0.000000      0.000000      0.000000      1.000000\n",
      "Medical_Keyword_25   59381.0      0.089456      0.285404  0.0      0.000000      0.000000      0.000000      1.000000\n",
      "Medical_Keyword_26   59381.0      0.013439      0.115145  0.0      0.000000      0.000000      0.000000      1.000000\n",
      "Medical_Keyword_27   59381.0      0.011856      0.108237  0.0      0.000000      0.000000      0.000000      1.000000\n",
      "Medical_Keyword_28   59381.0      0.014937      0.121304  0.0      0.000000      0.000000      0.000000      1.000000\n",
      "Medical_Keyword_29   59381.0      0.011755      0.107780  0.0      0.000000      0.000000      0.000000      1.000000\n",
      "Medical_Keyword_30   59381.0      0.025042      0.156253  0.0      0.000000      0.000000      0.000000      1.000000\n",
      "Medical_Keyword_31   59381.0      0.010896      0.103813  0.0      0.000000      0.000000      0.000000      1.000000\n",
      "Medical_Keyword_32   59381.0      0.021168      0.143947  0.0      0.000000      0.000000      0.000000      1.000000\n",
      "Medical_Keyword_33   59381.0      0.022836      0.149380  0.0      0.000000      0.000000      0.000000      1.000000\n",
      "Medical_Keyword_34   59381.0      0.020646      0.142198  0.0      0.000000      0.000000      0.000000      1.000000\n",
      "Medical_Keyword_35   59381.0      0.006938      0.083007  0.0      0.000000      0.000000      0.000000      1.000000\n",
      "Medical_Keyword_36   59381.0      0.010407      0.101485  0.0      0.000000      0.000000      0.000000      1.000000\n",
      "Medical_Keyword_37   59381.0      0.066587      0.249307  0.0      0.000000      0.000000      0.000000      1.000000\n",
      "Medical_Keyword_38   59381.0      0.006837      0.082405  0.0      0.000000      0.000000      0.000000      1.000000\n",
      "Medical_Keyword_39   59381.0      0.013658      0.116066  0.0      0.000000      0.000000      0.000000      1.000000\n",
      "Medical_Keyword_40   59381.0      0.056954      0.231757  0.0      0.000000      0.000000      0.000000      1.000000\n",
      "Medical_Keyword_41   59381.0      0.010054      0.099764  0.0      0.000000      0.000000      0.000000      1.000000\n",
      "Medical_Keyword_42   59381.0      0.045536      0.208479  0.0      0.000000      0.000000      0.000000      1.000000\n",
      "Medical_Keyword_43   59381.0      0.010710      0.102937  0.0      0.000000      0.000000      0.000000      1.000000\n",
      "Medical_Keyword_44   59381.0      0.007528      0.086436  0.0      0.000000      0.000000      0.000000      1.000000\n",
      "Medical_Keyword_45   59381.0      0.013691      0.116207  0.0      0.000000      0.000000      0.000000      1.000000\n",
      "Medical_Keyword_46   59381.0      0.008488      0.091737  0.0      0.000000      0.000000      0.000000      1.000000\n",
      "Medical_Keyword_47   59381.0      0.019905      0.139676  0.0      0.000000      0.000000      0.000000      1.000000\n",
      "Medical_Keyword_48   59381.0      0.054496      0.226995  0.0      0.000000      0.000000      0.000000      1.000000\n",
      "Response             59381.0      5.636837      2.456833  1.0      4.000000      6.000000      8.000000      8.000000\n"
     ]
    }
   ],
   "source": [
    "print(data.describe().T.to_string())"
   ]
  },
  {
   "cell_type": "code",
   "execution_count": 16,
   "metadata": {},
   "outputs": [
    {
     "data": {
      "text/html": [
       "<div>\n",
       "<style scoped>\n",
       "    .dataframe tbody tr th:only-of-type {\n",
       "        vertical-align: middle;\n",
       "    }\n",
       "\n",
       "    .dataframe tbody tr th {\n",
       "        vertical-align: top;\n",
       "    }\n",
       "\n",
       "    .dataframe thead th {\n",
       "        text-align: right;\n",
       "    }\n",
       "</style>\n",
       "<table border=\"1\" class=\"dataframe\">\n",
       "  <thead>\n",
       "    <tr style=\"text-align: right;\">\n",
       "      <th></th>\n",
       "      <th>Product_Info_2</th>\n",
       "    </tr>\n",
       "  </thead>\n",
       "  <tbody>\n",
       "    <tr>\n",
       "      <th>0</th>\n",
       "      <td>D3</td>\n",
       "    </tr>\n",
       "    <tr>\n",
       "      <th>1</th>\n",
       "      <td>A1</td>\n",
       "    </tr>\n",
       "    <tr>\n",
       "      <th>2</th>\n",
       "      <td>E1</td>\n",
       "    </tr>\n",
       "    <tr>\n",
       "      <th>3</th>\n",
       "      <td>D4</td>\n",
       "    </tr>\n",
       "    <tr>\n",
       "      <th>4</th>\n",
       "      <td>D2</td>\n",
       "    </tr>\n",
       "    <tr>\n",
       "      <th>...</th>\n",
       "      <td>...</td>\n",
       "    </tr>\n",
       "    <tr>\n",
       "      <th>59376</th>\n",
       "      <td>D1</td>\n",
       "    </tr>\n",
       "    <tr>\n",
       "      <th>59377</th>\n",
       "      <td>D3</td>\n",
       "    </tr>\n",
       "    <tr>\n",
       "      <th>59378</th>\n",
       "      <td>E1</td>\n",
       "    </tr>\n",
       "    <tr>\n",
       "      <th>59379</th>\n",
       "      <td>D2</td>\n",
       "    </tr>\n",
       "    <tr>\n",
       "      <th>59380</th>\n",
       "      <td>A8</td>\n",
       "    </tr>\n",
       "  </tbody>\n",
       "</table>\n",
       "<p>59381 rows × 1 columns</p>\n",
       "</div>"
      ],
      "text/plain": [
       "      Product_Info_2\n",
       "0                 D3\n",
       "1                 A1\n",
       "2                 E1\n",
       "3                 D4\n",
       "4                 D2\n",
       "...              ...\n",
       "59376             D1\n",
       "59377             D3\n",
       "59378             E1\n",
       "59379             D2\n",
       "59380             A8\n",
       "\n",
       "[59381 rows x 1 columns]"
      ]
     },
     "execution_count": 16,
     "metadata": {},
     "output_type": "execute_result"
    }
   ],
   "source": [
    "(data.select_dtypes(include=['object'])) #needs to be transformed"
   ]
  },
  {
   "cell_type": "code",
   "execution_count": 17,
   "metadata": {},
   "outputs": [
    {
     "data": {
      "text/plain": [
       "array(['D3', 'A1', 'E1', 'D4', 'D2', 'A8', 'A2', 'D1', 'A7', 'A6', 'A3',\n",
       "       'A5', 'C4', 'C1', 'B2', 'C3', 'C2', 'A4', 'B1'], dtype=object)"
      ]
     },
     "execution_count": 17,
     "metadata": {},
     "output_type": "execute_result"
    }
   ],
   "source": [
    "data['Product_Info_2'].unique()"
   ]
  },
  {
   "cell_type": "code",
   "execution_count": 18,
   "metadata": {},
   "outputs": [],
   "source": [
    "# Label Encoding\n",
    "from sklearn.preprocessing import LabelEncoder\n",
    "\n",
    "le=LabelEncoder()\n",
    "data['Product_Info_2']= le.fit_transform(data['Product_Info_2'])"
   ]
  },
  {
   "cell_type": "code",
   "execution_count": 19,
   "metadata": {},
   "outputs": [
    {
     "data": {
      "text/plain": [
       "array([16,  0, 18, 17, 15,  7,  1, 14,  6,  5,  2,  4, 13, 10,  9, 12, 11,\n",
       "        3,  8])"
      ]
     },
     "execution_count": 19,
     "metadata": {},
     "output_type": "execute_result"
    }
   ],
   "source": [
    "data['Product_Info_2'].unique()"
   ]
  },
  {
   "cell_type": "markdown",
   "metadata": {},
   "source": [
    "## What are other types of encoding schemes? \n",
    "TODO --->>  Try OneHotEncoder"
   ]
  },
  {
   "cell_type": "markdown",
   "metadata": {},
   "source": [
    "Let's try using OneHotEncoder for 'Product_Info_2' to see how they differ!"
   ]
  },
  {
   "cell_type": "code",
   "execution_count": 20,
   "metadata": {},
   "outputs": [
    {
     "name": "stdout",
     "output_type": "stream",
     "text": [
      "Unique values in column Product_Info_2_0:\n",
      "[0. 1.]\n",
      "\n",
      "Unique values in column Product_Info_2_1:\n",
      "[0. 1.]\n",
      "\n",
      "Unique values in column Product_Info_2_2:\n",
      "[0. 1.]\n",
      "\n",
      "Unique values in column Product_Info_2_3:\n",
      "[0. 1.]\n",
      "\n",
      "Unique values in column Product_Info_2_4:\n",
      "[0. 1.]\n",
      "\n",
      "Unique values in column Product_Info_2_5:\n",
      "[0. 1.]\n",
      "\n",
      "Unique values in column Product_Info_2_6:\n",
      "[0. 1.]\n",
      "\n",
      "Unique values in column Product_Info_2_7:\n",
      "[0. 1.]\n",
      "\n",
      "Unique values in column Product_Info_2_8:\n",
      "[0. 1.]\n",
      "\n",
      "Unique values in column Product_Info_2_9:\n",
      "[0. 1.]\n",
      "\n",
      "Unique values in column Product_Info_2_10:\n",
      "[0. 1.]\n",
      "\n",
      "Unique values in column Product_Info_2_11:\n",
      "[0. 1.]\n",
      "\n",
      "Unique values in column Product_Info_2_12:\n",
      "[0. 1.]\n",
      "\n",
      "Unique values in column Product_Info_2_13:\n",
      "[0. 1.]\n",
      "\n",
      "Unique values in column Product_Info_2_14:\n",
      "[0. 1.]\n",
      "\n",
      "Unique values in column Product_Info_2_15:\n",
      "[0. 1.]\n",
      "\n",
      "Unique values in column Product_Info_2_16:\n",
      "[1. 0.]\n",
      "\n",
      "Unique values in column Product_Info_2_17:\n",
      "[0. 1.]\n",
      "\n",
      "Unique values in column Product_Info_2_18:\n",
      "[0. 1.]\n",
      "\n"
     ]
    },
    {
     "name": "stderr",
     "output_type": "stream",
     "text": [
      "/home/jupyter-tanggn/.local/lib/python3.10/site-packages/sklearn/preprocessing/_encoders.py:975: FutureWarning: `sparse` was renamed to `sparse_output` in version 1.2 and will be removed in 1.4. `sparse_output` is ignored unless you leave `sparse` to its default value.\n",
      "  warnings.warn(\n"
     ]
    }
   ],
   "source": [
    "# Using OneHotEncoder from sklearn. \n",
    "from sklearn.preprocessing import OneHotEncoder\n",
    "\n",
    "# First, we must initialize the encoder. \n",
    "encoder = OneHotEncoder(sparse=False)\n",
    "\n",
    "#We're going to do this for the 'Product_Info_2' column, but instead of label encoding, we're going to use OHE.\n",
    "\n",
    "# Fiting and transforming the column\n",
    "encoded_data = encoder.fit_transform(data[['Product_Info_2']])\n",
    "\n",
    "# Getting category names from encoder. \n",
    "categories = encoder.categories_[0]\n",
    "\n",
    "# Creating new column names based on the category. \n",
    "new_columns = [f'Product_Info_2_{category}' for category in categories]\n",
    "\n",
    "# Creating a new df with the OHE data and the new column names\n",
    "encoded_df = pd.DataFrame(encoded_data, columns=new_columns)\n",
    "\n",
    "# I want to see if this worked, so I'm going to print the values in the one-hot encoded columns\n",
    "for column in encoded_df.columns:\n",
    "    unique_values = encoded_df[column].unique()\n",
    "    print(f'Unique values in column {column}:\\n{unique_values}\\n')\n",
    "\n",
    "# Yep, that looks right to me. Now 'Product_Info_2' is one-hot encoded. "
   ]
  },
  {
   "cell_type": "markdown",
   "metadata": {},
   "source": [
    "# As we can see, there are multiple ways to handle encoding with categorical variables. \n",
    "\n",
    "## Label Encoding\n",
    "With label encoding, we assign a unique integer to each category within a categorical variable. This can be a useful way to handle encoding if there is an ordinal relationship between categories. For instance, if the categories have a clear order like \"low\", \"medium\", or \"high\" label encoding can be a very valuable tool in the representation of this order. However, a con is that in cases where there is no clear order, using label encoding might give a false sense of order which will skew results and impact accuracy. Sometimes integer values can be mistaken as numerical data by certain algorithms as well, so it is always important to check.\n",
    "\n",
    "## One-Hot Encoding (OneHotEncoder)\n",
    "We used one-hot encoding as the second approach to handle encoding with categorical variables. This approach is often used when there is no ranking between categories, and all of them are of equal importance. Each category is transformed into a binary vector, so this technique works quite well for most categorical variables because it keeps the independence of each. Although it is important to note that using one-hot encoding may significantly increase the dimensionality in the dataset, which is not optimal when working with large data or data with a lot of missing data. It also might lead to some multicollinearity which, as you imagine, can be a glaring issue with this method. \n",
    "\n",
    "## Binary Encoding\n",
    "Binary Encoding is a technique that is similar to a hybrid of label encoding and one-hot encoding. It assigns a unique integer to each category (label encoding), then converts those integers into binary code and separates the digits as columns (OHE). This can be a good method to utilize since it can preserve the original categorical information and also aid in reducing dimensionality in comparison to OHE. However, ordinality may be present if it is not used carefully so it is crucial to be attentive to this fact. \n",
    "\n",
    "## Count Encoding\n",
    "Count encoding is another way to handle encoding with categorical variables. Essentially, this approach replaces each category with the count of occurrences of the category in the dataset. This can be a good method to use when you want to capture the frequency information of categories. It can also be useful when working with datasets where the categorical variable has a very large amount of unique categories or levels. This can help reduce dimensionality, which can be helpful. However, the con of this method is that it may not work well if there are two different categories with the same count, since they would receive the same encoding. \n",
    "\n",
    "In any case, choosing the right method for encoding depends on the specific dataset, ML algorithms used, as well as the nature of these categorical variables. It is always a good idea to experiment with different ones and see which works best for your coding purposes! "
   ]
  },
  {
   "cell_type": "markdown",
   "metadata": {},
   "source": [
    "## Analysing features"
   ]
  },
  {
   "cell_type": "code",
   "execution_count": 21,
   "metadata": {},
   "outputs": [
    {
     "name": "stderr",
     "output_type": "stream",
     "text": [
      "/opt/tljh/user/lib/python3.10/site-packages/seaborn/_oldcore.py:1599: UserWarning: Vertical orientation ignored with only `x` specified.\n",
      "  warnings.warn(single_var_warning.format(\"Vertical\", \"x\"))\n",
      "/tmp/ipykernel_276805/1465350867.py:4: UserWarning: \n",
      "\n",
      "`distplot` is a deprecated function and will be removed in seaborn v0.14.0.\n",
      "\n",
      "Please adapt your code to use either `displot` (a figure-level function with\n",
      "similar flexibility) or `histplot` (an axes-level function for histograms).\n",
      "\n",
      "For a guide to updating your code to use the new functions, please see\n",
      "https://gist.github.com/mwaskom/de44147ed2974457ad6372750bbe5751\n",
      "\n",
      "  sns.distplot(data['Wt'],  ax=axes[1])\n"
     ]
    },
    {
     "data": {
      "text/plain": [
       "<Axes: xlabel='Wt', ylabel='Density'>"
      ]
     },
     "execution_count": 21,
     "metadata": {},
     "output_type": "execute_result"
    },
    {
     "data": {
      "image/png": "[encoded data removed]",
      "text/plain": [
       "<Figure size 1500x700 with 2 Axes>"
      ]
     },
     "metadata": {},
     "output_type": "display_data"
    }
   ],
   "source": [
    "# Weight\n",
    "f, axes = plt.subplots(1, 2, figsize=(15,7))\n",
    "sns.boxplot(x = 'Wt', data=data,  orient='v' , ax=axes[0])\n",
    "sns.distplot(data['Wt'],  ax=axes[1])"
   ]
  },
  {
   "cell_type": "code",
   "execution_count": 22,
   "metadata": {},
   "outputs": [
    {
     "name": "stderr",
     "output_type": "stream",
     "text": [
      "/opt/tljh/user/lib/python3.10/site-packages/seaborn/_oldcore.py:1599: UserWarning: Vertical orientation ignored with only `x` specified.\n",
      "  warnings.warn(single_var_warning.format(\"Vertical\", \"x\"))\n",
      "/tmp/ipykernel_276805/741276995.py:4: UserWarning: \n",
      "\n",
      "`distplot` is a deprecated function and will be removed in seaborn v0.14.0.\n",
      "\n",
      "Please adapt your code to use either `displot` (a figure-level function with\n",
      "similar flexibility) or `histplot` (an axes-level function for histograms).\n",
      "\n",
      "For a guide to updating your code to use the new functions, please see\n",
      "https://gist.github.com/mwaskom/de44147ed2974457ad6372750bbe5751\n",
      "\n",
      "  sns.distplot(data['Ht'],  ax=axes[1])\n"
     ]
    },
    {
     "data": {
      "text/plain": [
       "<Axes: xlabel='Ht', ylabel='Density'>"
      ]
     },
     "execution_count": 22,
     "metadata": {},
     "output_type": "execute_result"
    },
    {
     "data": {
      "image/png": "[encoded data removed]",
      "text/plain": [
       "<Figure size 1500x700 with 2 Axes>"
      ]
     },
     "metadata": {},
     "output_type": "display_data"
    }
   ],
   "source": [
    "# Height\n",
    "f, axes = plt.subplots(1, 2, figsize=(15,7))\n",
    "sns.boxplot(x = 'Ht', data=data,  orient='v' , ax=axes[0])\n",
    "sns.distplot(data['Ht'],  ax=axes[1])"
   ]
  },
  {
   "cell_type": "code",
   "execution_count": 23,
   "metadata": {},
   "outputs": [
    {
     "name": "stderr",
     "output_type": "stream",
     "text": [
      "/opt/tljh/user/lib/python3.10/site-packages/seaborn/_oldcore.py:1599: UserWarning: Vertical orientation ignored with only `x` specified.\n",
      "  warnings.warn(single_var_warning.format(\"Vertical\", \"x\"))\n",
      "/tmp/ipykernel_276805/3043868735.py:4: UserWarning: \n",
      "\n",
      "`distplot` is a deprecated function and will be removed in seaborn v0.14.0.\n",
      "\n",
      "Please adapt your code to use either `displot` (a figure-level function with\n",
      "similar flexibility) or `histplot` (an axes-level function for histograms).\n",
      "\n",
      "For a guide to updating your code to use the new functions, please see\n",
      "https://gist.github.com/mwaskom/de44147ed2974457ad6372750bbe5751\n",
      "\n",
      "  sns.distplot(data['BMI'],  ax=axes[1])\n"
     ]
    },
    {
     "data": {
      "text/plain": [
       "<Axes: xlabel='BMI', ylabel='Density'>"
      ]
     },
     "execution_count": 23,
     "metadata": {},
     "output_type": "execute_result"
    },
    {
     "data": {
      "image/png": "[encoded data removed]",
      "text/plain": [
       "<Figure size 1500x700 with 2 Axes>"
      ]
     },
     "metadata": {},
     "output_type": "display_data"
    }
   ],
   "source": [
    "# BMI\n",
    "f, axes = plt.subplots(1, 2, figsize=(15,7))\n",
    "sns.boxplot(x = 'BMI', data=data,  orient='v' , ax=axes[0])\n",
    "sns.distplot(data['BMI'],  ax=axes[1])"
   ]
  },
  {
   "cell_type": "code",
   "execution_count": 24,
   "metadata": {},
   "outputs": [
    {
     "name": "stderr",
     "output_type": "stream",
     "text": [
      "/opt/tljh/user/lib/python3.10/site-packages/seaborn/_oldcore.py:1599: UserWarning: Vertical orientation ignored with only `x` specified.\n",
      "  warnings.warn(single_var_warning.format(\"Vertical\", \"x\"))\n",
      "/tmp/ipykernel_276805/3047901050.py:4: UserWarning: \n",
      "\n",
      "`distplot` is a deprecated function and will be removed in seaborn v0.14.0.\n",
      "\n",
      "Please adapt your code to use either `displot` (a figure-level function with\n",
      "similar flexibility) or `histplot` (an axes-level function for histograms).\n",
      "\n",
      "For a guide to updating your code to use the new functions, please see\n",
      "https://gist.github.com/mwaskom/de44147ed2974457ad6372750bbe5751\n",
      "\n",
      "  sns.distplot(data['Ins_Age'],ax=axes[1])\n"
     ]
    },
    {
     "data": {
      "text/plain": [
       "<Axes: xlabel='Ins_Age', ylabel='Density'>"
      ]
     },
     "execution_count": 24,
     "metadata": {},
     "output_type": "execute_result"
    },
    {
     "data": {
      "image/png": "[encoded data removed]",
      "text/plain": [
       "<Figure size 1500x700 with 2 Axes>"
      ]
     },
     "metadata": {},
     "output_type": "display_data"
    }
   ],
   "source": [
    "# Age\n",
    "f,axes=plt.subplots(1,2,figsize=(15,7))\n",
    "sns.boxplot(x='Ins_Age',data=data,orient='v',ax=axes[0])\n",
    "sns.distplot(data['Ins_Age'],ax=axes[1])"
   ]
  },
  {
   "cell_type": "markdown",
   "metadata": {},
   "source": [
    "# Target Variable Analysis"
   ]
  },
  {
   "cell_type": "code",
   "execution_count": 25,
   "metadata": {},
   "outputs": [],
   "source": [
    "#f,ax=plt.subplots(1,2,figsize=(18,8))\n",
    "#data['Response'].value_counts().plot.pie(autopct='%1.1f%%',ax=ax[0],shadow=True)\n",
    "#ax[0].set_title('Response')\n",
    "#ax[0].set_ylabel('')\n",
    "#sns.countplot('Response',data=data,ax=ax[1])\n",
    "#ax[1].set_title('Response')\n",
    "#plt.show()"
   ]
  },
  {
   "cell_type": "code",
   "execution_count": 26,
   "metadata": {},
   "outputs": [],
   "source": [
    "# Make 0 to 7 as one class and 8 as another class.\n",
    "# Create a function to create a new target variable based on conditions.\n",
    "def new_target(row):\n",
    "    if (row['Response']<=7) & (row['Response']>=0):\n",
    "        val=0\n",
    "    elif (row['Response']==8):\n",
    "        val=1\n",
    "    else:\n",
    "        val=-1\n",
    "    return val"
   ]
  },
  {
   "cell_type": "code",
   "execution_count": 27,
   "metadata": {},
   "outputs": [],
   "source": [
    "# Create a copy of original dataframe.\n",
    "new_data=data.copy()"
   ]
  },
  {
   "cell_type": "code",
   "execution_count": 28,
   "metadata": {},
   "outputs": [],
   "source": [
    "# Create a new column.\n",
    "new_data['Final_Response']=new_data.apply(new_target,axis=1)"
   ]
  },
  {
   "cell_type": "code",
   "execution_count": 29,
   "metadata": {},
   "outputs": [
    {
     "data": {
      "text/plain": [
       "Final_Response\n",
       "0    39892\n",
       "1    19489\n",
       "Name: count, dtype: int64"
      ]
     },
     "execution_count": 29,
     "metadata": {},
     "output_type": "execute_result"
    }
   ],
   "source": [
    "new_data['Final_Response'].value_counts()"
   ]
  },
  {
   "cell_type": "code",
   "execution_count": 30,
   "metadata": {},
   "outputs": [
    {
     "data": {
      "text/plain": [
       "Text(0.5, 1.0, 'Distribution of rows by response categories')"
      ]
     },
     "execution_count": 30,
     "metadata": {},
     "output_type": "execute_result"
    },
    {
     "data": {
      "image/png": "[encoded data removed]",
      "text/plain": [
       "<Figure size 640x480 with 1 Axes>"
      ]
     },
     "metadata": {},
     "output_type": "display_data"
    }
   ],
   "source": [
    "# Distribution plot for target classes\n",
    "sns.countplot(x=new_data.Final_Response).set_title('Distribution of rows by response categories')"
   ]
  },
  {
   "cell_type": "code",
   "execution_count": 31,
   "metadata": {},
   "outputs": [],
   "source": [
    "# Drop already existing column.\n",
    "new_data.drop(['Response'],axis=1,inplace=True)\n",
    "data=new_data\n",
    "del new_data"
   ]
  },
  {
   "cell_type": "code",
   "execution_count": 32,
   "metadata": {},
   "outputs": [],
   "source": [
    "data.rename(columns={'Final_Response':'Response'},inplace=True)"
   ]
  },
  {
   "cell_type": "markdown",
   "metadata": {},
   "source": [
    "Response = 0 (Life Insurance Policy is not being approved, from class 0-7)\n",
    "\n",
    "Response = 1 (Life Insurance Policy is approved, from class 8)"
   ]
  },
  {
   "cell_type": "markdown",
   "metadata": {},
   "source": [
    "# Analysis based on BMI, AGE, HEIGHT and WEIGHT vs Response (0, 1)"
   ]
  },
  {
   "cell_type": "code",
   "execution_count": 33,
   "metadata": {},
   "outputs": [],
   "source": [
    "# BMI, AGE, HEIGHT and WEIGHT categorization based on their values.\n",
    "# BMI Categorization\n",
    "conditions = [\n",
    "    (data['BMI'] <= data['BMI'].quantile(0.25)),\n",
    "    (data['BMI'] > data['BMI'].quantile(0.25)) & (data['BMI'] <= data['BMI'].quantile(0.75)),\n",
    "    (data['BMI'] > data['BMI'].quantile(0.75))]\n",
    "\n",
    "choices = ['under_weight', 'average', 'overweight']\n",
    "\n",
    "data['BMI_Wt'] = np.select(conditions, choices)\n",
    "\n",
    "# Age Categorization\n",
    "conditions = [\n",
    "    (data['Ins_Age'] <= data['Ins_Age'].quantile(0.25)),\n",
    "    (data['Ins_Age'] > data['Ins_Age'].quantile(0.25)) & (data['Ins_Age'] <= data['Ins_Age'].quantile(0.75)),\n",
    "    (data['Ins_Age'] > data['Ins_Age'].quantile(0.75))]\n",
    "\n",
    "choices = ['young', 'average', 'old']\n",
    "data['Old_Young'] = np.select(conditions, choices)\n",
    "\n",
    "# Height Categorization\n",
    "conditions = [\n",
    "    (data['Ht'] <= data['Ht'].quantile(0.25)),\n",
    "    (data['Ht'] > data['Ht'].quantile(0.25)) & (data['Ht'] <= data['Ht'].quantile(0.75)),\n",
    "    (data['Ht'] > data['Ht'].quantile(0.75))]\n",
    "\n",
    "choices = ['short', 'average', 'tall']\n",
    "\n",
    "data['Short_Tall'] = np.select(conditions, choices)\n",
    "\n",
    "# Weight Categorization\n",
    "conditions = [\n",
    "    (data['Wt'] <= data['Wt'].quantile(0.25)),\n",
    "    (data['Wt'] > data['Wt'].quantile(0.25)) & (data['Wt'] <= data['Wt'].quantile(0.75)),\n",
    "    (data['Wt'] > data['Wt'].quantile(0.75))]\n",
    "\n",
    "choices = ['thin', 'average', 'fat']\n",
    "\n",
    "data['Thin_Fat'] = np.select(conditions, choices)"
   ]
  },
  {
   "cell_type": "code",
   "execution_count": 34,
   "metadata": {},
   "outputs": [
    {
     "ename": "AttributeError",
     "evalue": "'numpy.int64' object has no attribute 'startswith'",
     "output_type": "error",
     "traceback": [
      "\u001b[0;31m---------------------------------------------------------------------------\u001b[0m",
      "\u001b[0;31mAttributeError\u001b[0m                            Traceback (most recent call last)",
      "Cell \u001b[0;32mIn[34], line 2\u001b[0m\n\u001b[1;32m      1\u001b[0m plt\u001b[38;5;241m.\u001b[39mfigure(figsize\u001b[38;5;241m=\u001b[39m(\u001b[38;5;241m10\u001b[39m,\u001b[38;5;241m7\u001b[39m))\n\u001b[0;32m----> 2\u001b[0m \u001b[43msns\u001b[49m\u001b[38;5;241;43m.\u001b[39;49m\u001b[43mcountplot\u001b[49m\u001b[43m(\u001b[49m\u001b[43mx\u001b[49m\u001b[43m \u001b[49m\u001b[38;5;241;43m=\u001b[39;49m\u001b[43m \u001b[49m\u001b[38;5;124;43m'\u001b[39;49m\u001b[38;5;124;43mBMI_Wt\u001b[39;49m\u001b[38;5;124;43m'\u001b[39;49m\u001b[43m,\u001b[49m\u001b[43m \u001b[49m\u001b[43mhue\u001b[49m\u001b[43m \u001b[49m\u001b[38;5;241;43m=\u001b[39;49m\u001b[43m \u001b[49m\u001b[38;5;124;43m'\u001b[39;49m\u001b[38;5;124;43mResponse\u001b[39;49m\u001b[38;5;124;43m'\u001b[39;49m\u001b[43m,\u001b[49m\u001b[43m \u001b[49m\u001b[43mdata\u001b[49m\u001b[43m \u001b[49m\u001b[38;5;241;43m=\u001b[39;49m\u001b[43m \u001b[49m\u001b[43mdata\u001b[49m\u001b[43m)\u001b[49m\n",
      "File \u001b[0;32m/opt/tljh/user/lib/python3.10/site-packages/seaborn/categorical.py:2955\u001b[0m, in \u001b[0;36mcountplot\u001b[0;34m(data, x, y, hue, order, hue_order, orient, color, palette, saturation, width, dodge, ax, **kwargs)\u001b[0m\n\u001b[1;32m   2952\u001b[0m \u001b[38;5;28;01mif\u001b[39;00m ax \u001b[38;5;129;01mis\u001b[39;00m \u001b[38;5;28;01mNone\u001b[39;00m:\n\u001b[1;32m   2953\u001b[0m     ax \u001b[38;5;241m=\u001b[39m plt\u001b[38;5;241m.\u001b[39mgca()\n\u001b[0;32m-> 2955\u001b[0m \u001b[43mplotter\u001b[49m\u001b[38;5;241;43m.\u001b[39;49m\u001b[43mplot\u001b[49m\u001b[43m(\u001b[49m\u001b[43max\u001b[49m\u001b[43m,\u001b[49m\u001b[43m \u001b[49m\u001b[43mkwargs\u001b[49m\u001b[43m)\u001b[49m\n\u001b[1;32m   2956\u001b[0m \u001b[38;5;28;01mreturn\u001b[39;00m ax\n",
      "File \u001b[0;32m/opt/tljh/user/lib/python3.10/site-packages/seaborn/categorical.py:1587\u001b[0m, in \u001b[0;36m_BarPlotter.plot\u001b[0;34m(self, ax, bar_kws)\u001b[0m\n\u001b[1;32m   1585\u001b[0m \u001b[38;5;250m\u001b[39m\u001b[38;5;124;03m\"\"\"Make the plot.\"\"\"\u001b[39;00m\n\u001b[1;32m   1586\u001b[0m \u001b[38;5;28mself\u001b[39m\u001b[38;5;241m.\u001b[39mdraw_bars(ax, bar_kws)\n\u001b[0;32m-> 1587\u001b[0m \u001b[38;5;28;43mself\u001b[39;49m\u001b[38;5;241;43m.\u001b[39;49m\u001b[43mannotate_axes\u001b[49m\u001b[43m(\u001b[49m\u001b[43max\u001b[49m\u001b[43m)\u001b[49m\n\u001b[1;32m   1588\u001b[0m \u001b[38;5;28;01mif\u001b[39;00m \u001b[38;5;28mself\u001b[39m\u001b[38;5;241m.\u001b[39morient \u001b[38;5;241m==\u001b[39m \u001b[38;5;124m\"\u001b[39m\u001b[38;5;124mh\u001b[39m\u001b[38;5;124m\"\u001b[39m:\n\u001b[1;32m   1589\u001b[0m     ax\u001b[38;5;241m.\u001b[39minvert_yaxis()\n",
      "File \u001b[0;32m/opt/tljh/user/lib/python3.10/site-packages/seaborn/categorical.py:767\u001b[0m, in \u001b[0;36m_CategoricalPlotter.annotate_axes\u001b[0;34m(self, ax)\u001b[0m\n\u001b[1;32m    764\u001b[0m     ax\u001b[38;5;241m.\u001b[39mset_ylim(\u001b[38;5;241m-\u001b[39m\u001b[38;5;241m.5\u001b[39m, \u001b[38;5;28mlen\u001b[39m(\u001b[38;5;28mself\u001b[39m\u001b[38;5;241m.\u001b[39mplot_data) \u001b[38;5;241m-\u001b[39m \u001b[38;5;241m.5\u001b[39m, auto\u001b[38;5;241m=\u001b[39m\u001b[38;5;28;01mNone\u001b[39;00m)\n\u001b[1;32m    766\u001b[0m \u001b[38;5;28;01mif\u001b[39;00m \u001b[38;5;28mself\u001b[39m\u001b[38;5;241m.\u001b[39mhue_names \u001b[38;5;129;01mis\u001b[39;00m \u001b[38;5;129;01mnot\u001b[39;00m \u001b[38;5;28;01mNone\u001b[39;00m:\n\u001b[0;32m--> 767\u001b[0m     \u001b[43max\u001b[49m\u001b[38;5;241;43m.\u001b[39;49m\u001b[43mlegend\u001b[49m\u001b[43m(\u001b[49m\u001b[43mloc\u001b[49m\u001b[38;5;241;43m=\u001b[39;49m\u001b[38;5;124;43m\"\u001b[39;49m\u001b[38;5;124;43mbest\u001b[39;49m\u001b[38;5;124;43m\"\u001b[39;49m\u001b[43m,\u001b[49m\u001b[43m \u001b[49m\u001b[43mtitle\u001b[49m\u001b[38;5;241;43m=\u001b[39;49m\u001b[38;5;28;43mself\u001b[39;49m\u001b[38;5;241;43m.\u001b[39;49m\u001b[43mhue_title\u001b[49m\u001b[43m)\u001b[49m\n",
      "File \u001b[0;32m/opt/tljh/user/lib/python3.10/site-packages/matplotlib/axes/_axes.py:322\u001b[0m, in \u001b[0;36mAxes.legend\u001b[0;34m(self, *args, **kwargs)\u001b[0m\n\u001b[1;32m    204\u001b[0m \u001b[38;5;129m@_docstring\u001b[39m\u001b[38;5;241m.\u001b[39mdedent_interpd\n\u001b[1;32m    205\u001b[0m \u001b[38;5;28;01mdef\u001b[39;00m \u001b[38;5;21mlegend\u001b[39m(\u001b[38;5;28mself\u001b[39m, \u001b[38;5;241m*\u001b[39margs, \u001b[38;5;241m*\u001b[39m\u001b[38;5;241m*\u001b[39mkwargs):\n\u001b[1;32m    206\u001b[0m \u001b[38;5;250m    \u001b[39m\u001b[38;5;124;03m\"\"\"\u001b[39;00m\n\u001b[1;32m    207\u001b[0m \u001b[38;5;124;03m    Place a legend on the Axes.\u001b[39;00m\n\u001b[1;32m    208\u001b[0m \n\u001b[0;32m   (...)\u001b[0m\n\u001b[1;32m    320\u001b[0m \u001b[38;5;124;03m    .. plot:: gallery/text_labels_and_annotations/legend.py\u001b[39;00m\n\u001b[1;32m    321\u001b[0m \u001b[38;5;124;03m    \"\"\"\u001b[39;00m\n\u001b[0;32m--> 322\u001b[0m     handles, labels, kwargs \u001b[38;5;241m=\u001b[39m \u001b[43mmlegend\u001b[49m\u001b[38;5;241;43m.\u001b[39;49m\u001b[43m_parse_legend_args\u001b[49m\u001b[43m(\u001b[49m\u001b[43m[\u001b[49m\u001b[38;5;28;43mself\u001b[39;49m\u001b[43m]\u001b[49m\u001b[43m,\u001b[49m\u001b[43m \u001b[49m\u001b[38;5;241;43m*\u001b[39;49m\u001b[43margs\u001b[49m\u001b[43m,\u001b[49m\u001b[43m \u001b[49m\u001b[38;5;241;43m*\u001b[39;49m\u001b[38;5;241;43m*\u001b[39;49m\u001b[43mkwargs\u001b[49m\u001b[43m)\u001b[49m\n\u001b[1;32m    323\u001b[0m     \u001b[38;5;28mself\u001b[39m\u001b[38;5;241m.\u001b[39mlegend_ \u001b[38;5;241m=\u001b[39m mlegend\u001b[38;5;241m.\u001b[39mLegend(\u001b[38;5;28mself\u001b[39m, handles, labels, \u001b[38;5;241m*\u001b[39m\u001b[38;5;241m*\u001b[39mkwargs)\n\u001b[1;32m    324\u001b[0m     \u001b[38;5;28mself\u001b[39m\u001b[38;5;241m.\u001b[39mlegend_\u001b[38;5;241m.\u001b[39m_remove_method \u001b[38;5;241m=\u001b[39m \u001b[38;5;28mself\u001b[39m\u001b[38;5;241m.\u001b[39m_remove_legend\n",
      "File \u001b[0;32m/opt/tljh/user/lib/python3.10/site-packages/matplotlib/legend.py:1361\u001b[0m, in \u001b[0;36m_parse_legend_args\u001b[0;34m(axs, handles, labels, *args, **kwargs)\u001b[0m\n\u001b[1;32m   1357\u001b[0m     handles \u001b[38;5;241m=\u001b[39m [handle \u001b[38;5;28;01mfor\u001b[39;00m handle, label\n\u001b[1;32m   1358\u001b[0m                \u001b[38;5;129;01min\u001b[39;00m \u001b[38;5;28mzip\u001b[39m(_get_legend_handles(axs, handlers), labels)]\n\u001b[1;32m   1360\u001b[0m \u001b[38;5;28;01melif\u001b[39;00m \u001b[38;5;28mlen\u001b[39m(args) \u001b[38;5;241m==\u001b[39m \u001b[38;5;241m0\u001b[39m:  \u001b[38;5;66;03m# 0 args: automatically detect labels and handles.\u001b[39;00m\n\u001b[0;32m-> 1361\u001b[0m     handles, labels \u001b[38;5;241m=\u001b[39m \u001b[43m_get_legend_handles_labels\u001b[49m\u001b[43m(\u001b[49m\u001b[43maxs\u001b[49m\u001b[43m,\u001b[49m\u001b[43m \u001b[49m\u001b[43mhandlers\u001b[49m\u001b[43m)\u001b[49m\n\u001b[1;32m   1362\u001b[0m     \u001b[38;5;28;01mif\u001b[39;00m \u001b[38;5;129;01mnot\u001b[39;00m handles:\n\u001b[1;32m   1363\u001b[0m         log\u001b[38;5;241m.\u001b[39mwarning(\n\u001b[1;32m   1364\u001b[0m             \u001b[38;5;124m\"\u001b[39m\u001b[38;5;124mNo artists with labels found to put in legend.  Note that \u001b[39m\u001b[38;5;124m\"\u001b[39m\n\u001b[1;32m   1365\u001b[0m             \u001b[38;5;124m\"\u001b[39m\u001b[38;5;124martists whose label start with an underscore are ignored \u001b[39m\u001b[38;5;124m\"\u001b[39m\n\u001b[1;32m   1366\u001b[0m             \u001b[38;5;124m\"\u001b[39m\u001b[38;5;124mwhen legend() is called with no argument.\u001b[39m\u001b[38;5;124m\"\u001b[39m)\n",
      "File \u001b[0;32m/opt/tljh/user/lib/python3.10/site-packages/matplotlib/legend.py:1291\u001b[0m, in \u001b[0;36m_get_legend_handles_labels\u001b[0;34m(axs, legend_handler_map)\u001b[0m\n\u001b[1;32m   1289\u001b[0m \u001b[38;5;28;01mfor\u001b[39;00m handle \u001b[38;5;129;01min\u001b[39;00m _get_legend_handles(axs, legend_handler_map):\n\u001b[1;32m   1290\u001b[0m     label \u001b[38;5;241m=\u001b[39m handle\u001b[38;5;241m.\u001b[39mget_label()\n\u001b[0;32m-> 1291\u001b[0m     \u001b[38;5;28;01mif\u001b[39;00m label \u001b[38;5;129;01mand\u001b[39;00m \u001b[38;5;129;01mnot\u001b[39;00m \u001b[43mlabel\u001b[49m\u001b[38;5;241;43m.\u001b[39;49m\u001b[43mstartswith\u001b[49m(\u001b[38;5;124m'\u001b[39m\u001b[38;5;124m_\u001b[39m\u001b[38;5;124m'\u001b[39m):\n\u001b[1;32m   1292\u001b[0m         handles\u001b[38;5;241m.\u001b[39mappend(handle)\n\u001b[1;32m   1293\u001b[0m         labels\u001b[38;5;241m.\u001b[39mappend(label)\n",
      "\u001b[0;31mAttributeError\u001b[0m: 'numpy.int64' object has no attribute 'startswith'"
     ]
    },
    {
     "data": {
      "image/png": "[encoded data removed]",
      "text/plain": [
       "<Figure size 1000x700 with 1 Axes>"
      ]
     },
     "metadata": {},
     "output_type": "display_data"
    }
   ],
   "source": [
    "plt.figure(figsize=(10,7))\n",
    "sns.countplot(x = 'BMI_Wt', hue = 'Response', data = data)"
   ]
  },
  {
   "cell_type": "markdown",
   "metadata": {},
   "source": [
    "* Overweighted (High BMI) policyholders are not being approved for Life Insurance Policy in most cases."
   ]
  },
  {
   "cell_type": "code",
   "execution_count": null,
   "metadata": {},
   "outputs": [],
   "source": [
    "plt.figure(figsize=(10,7))\n",
    "sns.countplot(x = 'Old_Young', hue = 'Response', data = data)"
   ]
  },
  {
   "cell_type": "markdown",
   "metadata": {},
   "source": [
    "* Old age policyholders are not being approved for Life Insurance Policy in most cases, comparing with Young and Average.\n",
    "\n",
    "* Average age policyholders are not being approved for Life Insurance Policy in most cases, it's really depends on other factors/feature situation."
   ]
  },
  {
   "cell_type": "code",
   "execution_count": 35,
   "metadata": {},
   "outputs": [
    {
     "ename": "AttributeError",
     "evalue": "'numpy.int64' object has no attribute 'startswith'",
     "output_type": "error",
     "traceback": [
      "\u001b[0;31m---------------------------------------------------------------------------\u001b[0m",
      "\u001b[0;31mAttributeError\u001b[0m                            Traceback (most recent call last)",
      "Cell \u001b[0;32mIn[35], line 2\u001b[0m\n\u001b[1;32m      1\u001b[0m plt\u001b[38;5;241m.\u001b[39mfigure(figsize\u001b[38;5;241m=\u001b[39m(\u001b[38;5;241m10\u001b[39m,\u001b[38;5;241m7\u001b[39m))\n\u001b[0;32m----> 2\u001b[0m \u001b[43msns\u001b[49m\u001b[38;5;241;43m.\u001b[39;49m\u001b[43mcountplot\u001b[49m\u001b[43m(\u001b[49m\u001b[43mx\u001b[49m\u001b[43m \u001b[49m\u001b[38;5;241;43m=\u001b[39;49m\u001b[43m \u001b[49m\u001b[38;5;124;43m'\u001b[39;49m\u001b[38;5;124;43mShort_Tall\u001b[39;49m\u001b[38;5;124;43m'\u001b[39;49m\u001b[43m,\u001b[49m\u001b[43m \u001b[49m\u001b[43mhue\u001b[49m\u001b[43m \u001b[49m\u001b[38;5;241;43m=\u001b[39;49m\u001b[43m \u001b[49m\u001b[38;5;124;43m'\u001b[39;49m\u001b[38;5;124;43mResponse\u001b[39;49m\u001b[38;5;124;43m'\u001b[39;49m\u001b[43m,\u001b[49m\u001b[43m \u001b[49m\u001b[43mdata\u001b[49m\u001b[43m \u001b[49m\u001b[38;5;241;43m=\u001b[39;49m\u001b[43m \u001b[49m\u001b[43mdata\u001b[49m\u001b[43m)\u001b[49m\n",
      "File \u001b[0;32m/opt/tljh/user/lib/python3.10/site-packages/seaborn/categorical.py:2955\u001b[0m, in \u001b[0;36mcountplot\u001b[0;34m(data, x, y, hue, order, hue_order, orient, color, palette, saturation, width, dodge, ax, **kwargs)\u001b[0m\n\u001b[1;32m   2952\u001b[0m \u001b[38;5;28;01mif\u001b[39;00m ax \u001b[38;5;129;01mis\u001b[39;00m \u001b[38;5;28;01mNone\u001b[39;00m:\n\u001b[1;32m   2953\u001b[0m     ax \u001b[38;5;241m=\u001b[39m plt\u001b[38;5;241m.\u001b[39mgca()\n\u001b[0;32m-> 2955\u001b[0m \u001b[43mplotter\u001b[49m\u001b[38;5;241;43m.\u001b[39;49m\u001b[43mplot\u001b[49m\u001b[43m(\u001b[49m\u001b[43max\u001b[49m\u001b[43m,\u001b[49m\u001b[43m \u001b[49m\u001b[43mkwargs\u001b[49m\u001b[43m)\u001b[49m\n\u001b[1;32m   2956\u001b[0m \u001b[38;5;28;01mreturn\u001b[39;00m ax\n",
      "File \u001b[0;32m/opt/tljh/user/lib/python3.10/site-packages/seaborn/categorical.py:1587\u001b[0m, in \u001b[0;36m_BarPlotter.plot\u001b[0;34m(self, ax, bar_kws)\u001b[0m\n\u001b[1;32m   1585\u001b[0m \u001b[38;5;250m\u001b[39m\u001b[38;5;124;03m\"\"\"Make the plot.\"\"\"\u001b[39;00m\n\u001b[1;32m   1586\u001b[0m \u001b[38;5;28mself\u001b[39m\u001b[38;5;241m.\u001b[39mdraw_bars(ax, bar_kws)\n\u001b[0;32m-> 1587\u001b[0m \u001b[38;5;28;43mself\u001b[39;49m\u001b[38;5;241;43m.\u001b[39;49m\u001b[43mannotate_axes\u001b[49m\u001b[43m(\u001b[49m\u001b[43max\u001b[49m\u001b[43m)\u001b[49m\n\u001b[1;32m   1588\u001b[0m \u001b[38;5;28;01mif\u001b[39;00m \u001b[38;5;28mself\u001b[39m\u001b[38;5;241m.\u001b[39morient \u001b[38;5;241m==\u001b[39m \u001b[38;5;124m\"\u001b[39m\u001b[38;5;124mh\u001b[39m\u001b[38;5;124m\"\u001b[39m:\n\u001b[1;32m   1589\u001b[0m     ax\u001b[38;5;241m.\u001b[39minvert_yaxis()\n",
      "File \u001b[0;32m/opt/tljh/user/lib/python3.10/site-packages/seaborn/categorical.py:767\u001b[0m, in \u001b[0;36m_CategoricalPlotter.annotate_axes\u001b[0;34m(self, ax)\u001b[0m\n\u001b[1;32m    764\u001b[0m     ax\u001b[38;5;241m.\u001b[39mset_ylim(\u001b[38;5;241m-\u001b[39m\u001b[38;5;241m.5\u001b[39m, \u001b[38;5;28mlen\u001b[39m(\u001b[38;5;28mself\u001b[39m\u001b[38;5;241m.\u001b[39mplot_data) \u001b[38;5;241m-\u001b[39m \u001b[38;5;241m.5\u001b[39m, auto\u001b[38;5;241m=\u001b[39m\u001b[38;5;28;01mNone\u001b[39;00m)\n\u001b[1;32m    766\u001b[0m \u001b[38;5;28;01mif\u001b[39;00m \u001b[38;5;28mself\u001b[39m\u001b[38;5;241m.\u001b[39mhue_names \u001b[38;5;129;01mis\u001b[39;00m \u001b[38;5;129;01mnot\u001b[39;00m \u001b[38;5;28;01mNone\u001b[39;00m:\n\u001b[0;32m--> 767\u001b[0m     \u001b[43max\u001b[49m\u001b[38;5;241;43m.\u001b[39;49m\u001b[43mlegend\u001b[49m\u001b[43m(\u001b[49m\u001b[43mloc\u001b[49m\u001b[38;5;241;43m=\u001b[39;49m\u001b[38;5;124;43m\"\u001b[39;49m\u001b[38;5;124;43mbest\u001b[39;49m\u001b[38;5;124;43m\"\u001b[39;49m\u001b[43m,\u001b[49m\u001b[43m \u001b[49m\u001b[43mtitle\u001b[49m\u001b[38;5;241;43m=\u001b[39;49m\u001b[38;5;28;43mself\u001b[39;49m\u001b[38;5;241;43m.\u001b[39;49m\u001b[43mhue_title\u001b[49m\u001b[43m)\u001b[49m\n",
      "File \u001b[0;32m/opt/tljh/user/lib/python3.10/site-packages/matplotlib/axes/_axes.py:322\u001b[0m, in \u001b[0;36mAxes.legend\u001b[0;34m(self, *args, **kwargs)\u001b[0m\n\u001b[1;32m    204\u001b[0m \u001b[38;5;129m@_docstring\u001b[39m\u001b[38;5;241m.\u001b[39mdedent_interpd\n\u001b[1;32m    205\u001b[0m \u001b[38;5;28;01mdef\u001b[39;00m \u001b[38;5;21mlegend\u001b[39m(\u001b[38;5;28mself\u001b[39m, \u001b[38;5;241m*\u001b[39margs, \u001b[38;5;241m*\u001b[39m\u001b[38;5;241m*\u001b[39mkwargs):\n\u001b[1;32m    206\u001b[0m \u001b[38;5;250m    \u001b[39m\u001b[38;5;124;03m\"\"\"\u001b[39;00m\n\u001b[1;32m    207\u001b[0m \u001b[38;5;124;03m    Place a legend on the Axes.\u001b[39;00m\n\u001b[1;32m    208\u001b[0m \n\u001b[0;32m   (...)\u001b[0m\n\u001b[1;32m    320\u001b[0m \u001b[38;5;124;03m    .. plot:: gallery/text_labels_and_annotations/legend.py\u001b[39;00m\n\u001b[1;32m    321\u001b[0m \u001b[38;5;124;03m    \"\"\"\u001b[39;00m\n\u001b[0;32m--> 322\u001b[0m     handles, labels, kwargs \u001b[38;5;241m=\u001b[39m \u001b[43mmlegend\u001b[49m\u001b[38;5;241;43m.\u001b[39;49m\u001b[43m_parse_legend_args\u001b[49m\u001b[43m(\u001b[49m\u001b[43m[\u001b[49m\u001b[38;5;28;43mself\u001b[39;49m\u001b[43m]\u001b[49m\u001b[43m,\u001b[49m\u001b[43m \u001b[49m\u001b[38;5;241;43m*\u001b[39;49m\u001b[43margs\u001b[49m\u001b[43m,\u001b[49m\u001b[43m \u001b[49m\u001b[38;5;241;43m*\u001b[39;49m\u001b[38;5;241;43m*\u001b[39;49m\u001b[43mkwargs\u001b[49m\u001b[43m)\u001b[49m\n\u001b[1;32m    323\u001b[0m     \u001b[38;5;28mself\u001b[39m\u001b[38;5;241m.\u001b[39mlegend_ \u001b[38;5;241m=\u001b[39m mlegend\u001b[38;5;241m.\u001b[39mLegend(\u001b[38;5;28mself\u001b[39m, handles, labels, \u001b[38;5;241m*\u001b[39m\u001b[38;5;241m*\u001b[39mkwargs)\n\u001b[1;32m    324\u001b[0m     \u001b[38;5;28mself\u001b[39m\u001b[38;5;241m.\u001b[39mlegend_\u001b[38;5;241m.\u001b[39m_remove_method \u001b[38;5;241m=\u001b[39m \u001b[38;5;28mself\u001b[39m\u001b[38;5;241m.\u001b[39m_remove_legend\n",
      "File \u001b[0;32m/opt/tljh/user/lib/python3.10/site-packages/matplotlib/legend.py:1361\u001b[0m, in \u001b[0;36m_parse_legend_args\u001b[0;34m(axs, handles, labels, *args, **kwargs)\u001b[0m\n\u001b[1;32m   1357\u001b[0m     handles \u001b[38;5;241m=\u001b[39m [handle \u001b[38;5;28;01mfor\u001b[39;00m handle, label\n\u001b[1;32m   1358\u001b[0m                \u001b[38;5;129;01min\u001b[39;00m \u001b[38;5;28mzip\u001b[39m(_get_legend_handles(axs, handlers), labels)]\n\u001b[1;32m   1360\u001b[0m \u001b[38;5;28;01melif\u001b[39;00m \u001b[38;5;28mlen\u001b[39m(args) \u001b[38;5;241m==\u001b[39m \u001b[38;5;241m0\u001b[39m:  \u001b[38;5;66;03m# 0 args: automatically detect labels and handles.\u001b[39;00m\n\u001b[0;32m-> 1361\u001b[0m     handles, labels \u001b[38;5;241m=\u001b[39m \u001b[43m_get_legend_handles_labels\u001b[49m\u001b[43m(\u001b[49m\u001b[43maxs\u001b[49m\u001b[43m,\u001b[49m\u001b[43m \u001b[49m\u001b[43mhandlers\u001b[49m\u001b[43m)\u001b[49m\n\u001b[1;32m   1362\u001b[0m     \u001b[38;5;28;01mif\u001b[39;00m \u001b[38;5;129;01mnot\u001b[39;00m handles:\n\u001b[1;32m   1363\u001b[0m         log\u001b[38;5;241m.\u001b[39mwarning(\n\u001b[1;32m   1364\u001b[0m             \u001b[38;5;124m\"\u001b[39m\u001b[38;5;124mNo artists with labels found to put in legend.  Note that \u001b[39m\u001b[38;5;124m\"\u001b[39m\n\u001b[1;32m   1365\u001b[0m             \u001b[38;5;124m\"\u001b[39m\u001b[38;5;124martists whose label start with an underscore are ignored \u001b[39m\u001b[38;5;124m\"\u001b[39m\n\u001b[1;32m   1366\u001b[0m             \u001b[38;5;124m\"\u001b[39m\u001b[38;5;124mwhen legend() is called with no argument.\u001b[39m\u001b[38;5;124m\"\u001b[39m)\n",
      "File \u001b[0;32m/opt/tljh/user/lib/python3.10/site-packages/matplotlib/legend.py:1291\u001b[0m, in \u001b[0;36m_get_legend_handles_labels\u001b[0;34m(axs, legend_handler_map)\u001b[0m\n\u001b[1;32m   1289\u001b[0m \u001b[38;5;28;01mfor\u001b[39;00m handle \u001b[38;5;129;01min\u001b[39;00m _get_legend_handles(axs, legend_handler_map):\n\u001b[1;32m   1290\u001b[0m     label \u001b[38;5;241m=\u001b[39m handle\u001b[38;5;241m.\u001b[39mget_label()\n\u001b[0;32m-> 1291\u001b[0m     \u001b[38;5;28;01mif\u001b[39;00m label \u001b[38;5;129;01mand\u001b[39;00m \u001b[38;5;129;01mnot\u001b[39;00m \u001b[43mlabel\u001b[49m\u001b[38;5;241;43m.\u001b[39;49m\u001b[43mstartswith\u001b[49m(\u001b[38;5;124m'\u001b[39m\u001b[38;5;124m_\u001b[39m\u001b[38;5;124m'\u001b[39m):\n\u001b[1;32m   1292\u001b[0m         handles\u001b[38;5;241m.\u001b[39mappend(handle)\n\u001b[1;32m   1293\u001b[0m         labels\u001b[38;5;241m.\u001b[39mappend(label)\n",
      "\u001b[0;31mAttributeError\u001b[0m: 'numpy.int64' object has no attribute 'startswith'"
     ]
    },
    {
     "data": {
      "image/png": "[encoded data removed]",
      "text/plain": [
       "<Figure size 1000x700 with 1 Axes>"
      ]
     },
     "metadata": {},
     "output_type": "display_data"
    }
   ],
   "source": [
    "plt.figure(figsize=(10,7))\n",
    "sns.countplot(x = 'Short_Tall', hue = 'Response', data = data)"
   ]
  },
  {
   "cell_type": "markdown",
   "metadata": {},
   "source": [
    "* Short or Tall did not indicate any insight."
   ]
  },
  {
   "cell_type": "code",
   "execution_count": null,
   "metadata": {},
   "outputs": [],
   "source": [
    "plt.figure(figsize=(10,7))\n",
    "sns.countplot(x = 'Thin_Fat', hue = 'Response', data = data)"
   ]
  },
  {
   "cell_type": "markdown",
   "metadata": {},
   "source": [
    "* Similar as Overweighted (High BMI) situation, policyholders are not being approved for Life Insurance Policy in most cases."
   ]
  },
  {
   "cell_type": "markdown",
   "metadata": {},
   "source": [
    "Let's based on 3 key factors/features to go deeper analysis."
   ]
  },
  {
   "cell_type": "code",
   "execution_count": 36,
   "metadata": {},
   "outputs": [],
   "source": [
    "def new_target(row):\n",
    "    if (row['BMI_Wt']=='overweight') or (row['Old_Young']=='old')  or (row['Thin_Fat']=='fat'):\n",
    "        val='extremely_risky'\n",
    "    else:\n",
    "        val='not_extremely_risky'\n",
    "    return val\n",
    "\n",
    "data['extreme_risk'] = data.apply(new_target,axis=1)"
   ]
  },
  {
   "cell_type": "code",
   "execution_count": 37,
   "metadata": {},
   "outputs": [
    {
     "ename": "AttributeError",
     "evalue": "'numpy.int64' object has no attribute 'startswith'",
     "output_type": "error",
     "traceback": [
      "\u001b[0;31m---------------------------------------------------------------------------\u001b[0m",
      "\u001b[0;31mAttributeError\u001b[0m                            Traceback (most recent call last)",
      "Cell \u001b[0;32mIn[37], line 2\u001b[0m\n\u001b[1;32m      1\u001b[0m plt\u001b[38;5;241m.\u001b[39mfigure(figsize\u001b[38;5;241m=\u001b[39m(\u001b[38;5;241m10\u001b[39m,\u001b[38;5;241m7\u001b[39m))\n\u001b[0;32m----> 2\u001b[0m \u001b[43msns\u001b[49m\u001b[38;5;241;43m.\u001b[39;49m\u001b[43mcountplot\u001b[49m\u001b[43m(\u001b[49m\u001b[43mx\u001b[49m\u001b[43m \u001b[49m\u001b[38;5;241;43m=\u001b[39;49m\u001b[43m \u001b[49m\u001b[38;5;124;43m'\u001b[39;49m\u001b[38;5;124;43mextreme_risk\u001b[39;49m\u001b[38;5;124;43m'\u001b[39;49m\u001b[43m,\u001b[49m\u001b[43m \u001b[49m\u001b[43mhue\u001b[49m\u001b[43m \u001b[49m\u001b[38;5;241;43m=\u001b[39;49m\u001b[43m \u001b[49m\u001b[38;5;124;43m'\u001b[39;49m\u001b[38;5;124;43mResponse\u001b[39;49m\u001b[38;5;124;43m'\u001b[39;49m\u001b[43m,\u001b[49m\u001b[43m \u001b[49m\u001b[43mdata\u001b[49m\u001b[43m \u001b[49m\u001b[38;5;241;43m=\u001b[39;49m\u001b[43m \u001b[49m\u001b[43mdata\u001b[49m\u001b[43m)\u001b[49m\n",
      "File \u001b[0;32m/opt/tljh/user/lib/python3.10/site-packages/seaborn/categorical.py:2955\u001b[0m, in \u001b[0;36mcountplot\u001b[0;34m(data, x, y, hue, order, hue_order, orient, color, palette, saturation, width, dodge, ax, **kwargs)\u001b[0m\n\u001b[1;32m   2952\u001b[0m \u001b[38;5;28;01mif\u001b[39;00m ax \u001b[38;5;129;01mis\u001b[39;00m \u001b[38;5;28;01mNone\u001b[39;00m:\n\u001b[1;32m   2953\u001b[0m     ax \u001b[38;5;241m=\u001b[39m plt\u001b[38;5;241m.\u001b[39mgca()\n\u001b[0;32m-> 2955\u001b[0m \u001b[43mplotter\u001b[49m\u001b[38;5;241;43m.\u001b[39;49m\u001b[43mplot\u001b[49m\u001b[43m(\u001b[49m\u001b[43max\u001b[49m\u001b[43m,\u001b[49m\u001b[43m \u001b[49m\u001b[43mkwargs\u001b[49m\u001b[43m)\u001b[49m\n\u001b[1;32m   2956\u001b[0m \u001b[38;5;28;01mreturn\u001b[39;00m ax\n",
      "File \u001b[0;32m/opt/tljh/user/lib/python3.10/site-packages/seaborn/categorical.py:1587\u001b[0m, in \u001b[0;36m_BarPlotter.plot\u001b[0;34m(self, ax, bar_kws)\u001b[0m\n\u001b[1;32m   1585\u001b[0m \u001b[38;5;250m\u001b[39m\u001b[38;5;124;03m\"\"\"Make the plot.\"\"\"\u001b[39;00m\n\u001b[1;32m   1586\u001b[0m \u001b[38;5;28mself\u001b[39m\u001b[38;5;241m.\u001b[39mdraw_bars(ax, bar_kws)\n\u001b[0;32m-> 1587\u001b[0m \u001b[38;5;28;43mself\u001b[39;49m\u001b[38;5;241;43m.\u001b[39;49m\u001b[43mannotate_axes\u001b[49m\u001b[43m(\u001b[49m\u001b[43max\u001b[49m\u001b[43m)\u001b[49m\n\u001b[1;32m   1588\u001b[0m \u001b[38;5;28;01mif\u001b[39;00m \u001b[38;5;28mself\u001b[39m\u001b[38;5;241m.\u001b[39morient \u001b[38;5;241m==\u001b[39m \u001b[38;5;124m\"\u001b[39m\u001b[38;5;124mh\u001b[39m\u001b[38;5;124m\"\u001b[39m:\n\u001b[1;32m   1589\u001b[0m     ax\u001b[38;5;241m.\u001b[39minvert_yaxis()\n",
      "File \u001b[0;32m/opt/tljh/user/lib/python3.10/site-packages/seaborn/categorical.py:767\u001b[0m, in \u001b[0;36m_CategoricalPlotter.annotate_axes\u001b[0;34m(self, ax)\u001b[0m\n\u001b[1;32m    764\u001b[0m     ax\u001b[38;5;241m.\u001b[39mset_ylim(\u001b[38;5;241m-\u001b[39m\u001b[38;5;241m.5\u001b[39m, \u001b[38;5;28mlen\u001b[39m(\u001b[38;5;28mself\u001b[39m\u001b[38;5;241m.\u001b[39mplot_data) \u001b[38;5;241m-\u001b[39m \u001b[38;5;241m.5\u001b[39m, auto\u001b[38;5;241m=\u001b[39m\u001b[38;5;28;01mNone\u001b[39;00m)\n\u001b[1;32m    766\u001b[0m \u001b[38;5;28;01mif\u001b[39;00m \u001b[38;5;28mself\u001b[39m\u001b[38;5;241m.\u001b[39mhue_names \u001b[38;5;129;01mis\u001b[39;00m \u001b[38;5;129;01mnot\u001b[39;00m \u001b[38;5;28;01mNone\u001b[39;00m:\n\u001b[0;32m--> 767\u001b[0m     \u001b[43max\u001b[49m\u001b[38;5;241;43m.\u001b[39;49m\u001b[43mlegend\u001b[49m\u001b[43m(\u001b[49m\u001b[43mloc\u001b[49m\u001b[38;5;241;43m=\u001b[39;49m\u001b[38;5;124;43m\"\u001b[39;49m\u001b[38;5;124;43mbest\u001b[39;49m\u001b[38;5;124;43m\"\u001b[39;49m\u001b[43m,\u001b[49m\u001b[43m \u001b[49m\u001b[43mtitle\u001b[49m\u001b[38;5;241;43m=\u001b[39;49m\u001b[38;5;28;43mself\u001b[39;49m\u001b[38;5;241;43m.\u001b[39;49m\u001b[43mhue_title\u001b[49m\u001b[43m)\u001b[49m\n",
      "File \u001b[0;32m/opt/tljh/user/lib/python3.10/site-packages/matplotlib/axes/_axes.py:322\u001b[0m, in \u001b[0;36mAxes.legend\u001b[0;34m(self, *args, **kwargs)\u001b[0m\n\u001b[1;32m    204\u001b[0m \u001b[38;5;129m@_docstring\u001b[39m\u001b[38;5;241m.\u001b[39mdedent_interpd\n\u001b[1;32m    205\u001b[0m \u001b[38;5;28;01mdef\u001b[39;00m \u001b[38;5;21mlegend\u001b[39m(\u001b[38;5;28mself\u001b[39m, \u001b[38;5;241m*\u001b[39margs, \u001b[38;5;241m*\u001b[39m\u001b[38;5;241m*\u001b[39mkwargs):\n\u001b[1;32m    206\u001b[0m \u001b[38;5;250m    \u001b[39m\u001b[38;5;124;03m\"\"\"\u001b[39;00m\n\u001b[1;32m    207\u001b[0m \u001b[38;5;124;03m    Place a legend on the Axes.\u001b[39;00m\n\u001b[1;32m    208\u001b[0m \n\u001b[0;32m   (...)\u001b[0m\n\u001b[1;32m    320\u001b[0m \u001b[38;5;124;03m    .. plot:: gallery/text_labels_and_annotations/legend.py\u001b[39;00m\n\u001b[1;32m    321\u001b[0m \u001b[38;5;124;03m    \"\"\"\u001b[39;00m\n\u001b[0;32m--> 322\u001b[0m     handles, labels, kwargs \u001b[38;5;241m=\u001b[39m \u001b[43mmlegend\u001b[49m\u001b[38;5;241;43m.\u001b[39;49m\u001b[43m_parse_legend_args\u001b[49m\u001b[43m(\u001b[49m\u001b[43m[\u001b[49m\u001b[38;5;28;43mself\u001b[39;49m\u001b[43m]\u001b[49m\u001b[43m,\u001b[49m\u001b[43m \u001b[49m\u001b[38;5;241;43m*\u001b[39;49m\u001b[43margs\u001b[49m\u001b[43m,\u001b[49m\u001b[43m \u001b[49m\u001b[38;5;241;43m*\u001b[39;49m\u001b[38;5;241;43m*\u001b[39;49m\u001b[43mkwargs\u001b[49m\u001b[43m)\u001b[49m\n\u001b[1;32m    323\u001b[0m     \u001b[38;5;28mself\u001b[39m\u001b[38;5;241m.\u001b[39mlegend_ \u001b[38;5;241m=\u001b[39m mlegend\u001b[38;5;241m.\u001b[39mLegend(\u001b[38;5;28mself\u001b[39m, handles, labels, \u001b[38;5;241m*\u001b[39m\u001b[38;5;241m*\u001b[39mkwargs)\n\u001b[1;32m    324\u001b[0m     \u001b[38;5;28mself\u001b[39m\u001b[38;5;241m.\u001b[39mlegend_\u001b[38;5;241m.\u001b[39m_remove_method \u001b[38;5;241m=\u001b[39m \u001b[38;5;28mself\u001b[39m\u001b[38;5;241m.\u001b[39m_remove_legend\n",
      "File \u001b[0;32m/opt/tljh/user/lib/python3.10/site-packages/matplotlib/legend.py:1361\u001b[0m, in \u001b[0;36m_parse_legend_args\u001b[0;34m(axs, handles, labels, *args, **kwargs)\u001b[0m\n\u001b[1;32m   1357\u001b[0m     handles \u001b[38;5;241m=\u001b[39m [handle \u001b[38;5;28;01mfor\u001b[39;00m handle, label\n\u001b[1;32m   1358\u001b[0m                \u001b[38;5;129;01min\u001b[39;00m \u001b[38;5;28mzip\u001b[39m(_get_legend_handles(axs, handlers), labels)]\n\u001b[1;32m   1360\u001b[0m \u001b[38;5;28;01melif\u001b[39;00m \u001b[38;5;28mlen\u001b[39m(args) \u001b[38;5;241m==\u001b[39m \u001b[38;5;241m0\u001b[39m:  \u001b[38;5;66;03m# 0 args: automatically detect labels and handles.\u001b[39;00m\n\u001b[0;32m-> 1361\u001b[0m     handles, labels \u001b[38;5;241m=\u001b[39m \u001b[43m_get_legend_handles_labels\u001b[49m\u001b[43m(\u001b[49m\u001b[43maxs\u001b[49m\u001b[43m,\u001b[49m\u001b[43m \u001b[49m\u001b[43mhandlers\u001b[49m\u001b[43m)\u001b[49m\n\u001b[1;32m   1362\u001b[0m     \u001b[38;5;28;01mif\u001b[39;00m \u001b[38;5;129;01mnot\u001b[39;00m handles:\n\u001b[1;32m   1363\u001b[0m         log\u001b[38;5;241m.\u001b[39mwarning(\n\u001b[1;32m   1364\u001b[0m             \u001b[38;5;124m\"\u001b[39m\u001b[38;5;124mNo artists with labels found to put in legend.  Note that \u001b[39m\u001b[38;5;124m\"\u001b[39m\n\u001b[1;32m   1365\u001b[0m             \u001b[38;5;124m\"\u001b[39m\u001b[38;5;124martists whose label start with an underscore are ignored \u001b[39m\u001b[38;5;124m\"\u001b[39m\n\u001b[1;32m   1366\u001b[0m             \u001b[38;5;124m\"\u001b[39m\u001b[38;5;124mwhen legend() is called with no argument.\u001b[39m\u001b[38;5;124m\"\u001b[39m)\n",
      "File \u001b[0;32m/opt/tljh/user/lib/python3.10/site-packages/matplotlib/legend.py:1291\u001b[0m, in \u001b[0;36m_get_legend_handles_labels\u001b[0;34m(axs, legend_handler_map)\u001b[0m\n\u001b[1;32m   1289\u001b[0m \u001b[38;5;28;01mfor\u001b[39;00m handle \u001b[38;5;129;01min\u001b[39;00m _get_legend_handles(axs, legend_handler_map):\n\u001b[1;32m   1290\u001b[0m     label \u001b[38;5;241m=\u001b[39m handle\u001b[38;5;241m.\u001b[39mget_label()\n\u001b[0;32m-> 1291\u001b[0m     \u001b[38;5;28;01mif\u001b[39;00m label \u001b[38;5;129;01mand\u001b[39;00m \u001b[38;5;129;01mnot\u001b[39;00m \u001b[43mlabel\u001b[49m\u001b[38;5;241;43m.\u001b[39;49m\u001b[43mstartswith\u001b[49m(\u001b[38;5;124m'\u001b[39m\u001b[38;5;124m_\u001b[39m\u001b[38;5;124m'\u001b[39m):\n\u001b[1;32m   1292\u001b[0m         handles\u001b[38;5;241m.\u001b[39mappend(handle)\n\u001b[1;32m   1293\u001b[0m         labels\u001b[38;5;241m.\u001b[39mappend(label)\n",
      "\u001b[0;31mAttributeError\u001b[0m: 'numpy.int64' object has no attribute 'startswith'"
     ]
    },
    {
     "data": {
      "image/png": "[encoded data removed]",
      "text/plain": [
       "<Figure size 1000x700 with 1 Axes>"
      ]
     },
     "metadata": {},
     "output_type": "display_data"
    }
   ],
   "source": [
    "plt.figure(figsize=(10,7))\n",
    "sns.countplot(x = 'extreme_risk', hue = 'Response', data = data)"
   ]
  },
  {
   "cell_type": "markdown",
   "metadata": {},
   "source": [
    "* In most cases, policyholders are not being approved for Life Insurance Policy if it's under high risk (High BMI, Old Age, Overweighted)."
   ]
  },
  {
   "cell_type": "code",
   "execution_count": null,
   "metadata": {},
   "outputs": [],
   "source": [
    "def new_target(row):\n",
    "    if (row['BMI_Wt']=='average') or (row['Old_Young']=='average')  or (row['Thin_Fat']=='average'):\n",
    "        val='average'\n",
    "    else:\n",
    "        val='non_average'\n",
    "    return val\n",
    "\n",
    "data['average_risk'] = data.apply(new_target,axis=1)"
   ]
  },
  {
   "cell_type": "code",
   "execution_count": null,
   "metadata": {},
   "outputs": [],
   "source": [
    "plt.figure(figsize=(10,7))\n",
    "sns.countplot(x = 'average_risk', hue = 'Response', data = data)"
   ]
  },
  {
   "cell_type": "markdown",
   "metadata": {},
   "source": [
    "* Average did not indicate any insight."
   ]
  },
  {
   "cell_type": "code",
   "execution_count": null,
   "metadata": {},
   "outputs": [],
   "source": [
    "def new_target(row):\n",
    "    if (row['BMI_Wt']=='under_weight') or (row['Old_Young']=='young')  or (row['Thin_Fat']=='thin'):\n",
    "        val='low_end'\n",
    "    else:\n",
    "        val='non_low_end'\n",
    "    return val\n",
    "\n",
    "data['low_end_risk'] = data.apply(new_target,axis=1)"
   ]
  },
  {
   "cell_type": "code",
   "execution_count": 38,
   "metadata": {},
   "outputs": [
    {
     "ename": "ValueError",
     "evalue": "Could not interpret input 'low_end_risk'",
     "output_type": "error",
     "traceback": [
      "\u001b[0;31m---------------------------------------------------------------------------\u001b[0m",
      "\u001b[0;31mValueError\u001b[0m                                Traceback (most recent call last)",
      "Cell \u001b[0;32mIn[38], line 2\u001b[0m\n\u001b[1;32m      1\u001b[0m plt\u001b[38;5;241m.\u001b[39mfigure(figsize\u001b[38;5;241m=\u001b[39m(\u001b[38;5;241m10\u001b[39m,\u001b[38;5;241m7\u001b[39m))\n\u001b[0;32m----> 2\u001b[0m \u001b[43msns\u001b[49m\u001b[38;5;241;43m.\u001b[39;49m\u001b[43mcountplot\u001b[49m\u001b[43m(\u001b[49m\u001b[43mx\u001b[49m\u001b[43m \u001b[49m\u001b[38;5;241;43m=\u001b[39;49m\u001b[43m \u001b[49m\u001b[38;5;124;43m'\u001b[39;49m\u001b[38;5;124;43mlow_end_risk\u001b[39;49m\u001b[38;5;124;43m'\u001b[39;49m\u001b[43m,\u001b[49m\u001b[43m \u001b[49m\u001b[43mhue\u001b[49m\u001b[43m \u001b[49m\u001b[38;5;241;43m=\u001b[39;49m\u001b[43m \u001b[49m\u001b[38;5;124;43m'\u001b[39;49m\u001b[38;5;124;43mResponse\u001b[39;49m\u001b[38;5;124;43m'\u001b[39;49m\u001b[43m,\u001b[49m\u001b[43m \u001b[49m\u001b[43mdata\u001b[49m\u001b[43m \u001b[49m\u001b[38;5;241;43m=\u001b[39;49m\u001b[43m \u001b[49m\u001b[43mdata\u001b[49m\u001b[43m)\u001b[49m\n",
      "File \u001b[0;32m/opt/tljh/user/lib/python3.10/site-packages/seaborn/categorical.py:2943\u001b[0m, in \u001b[0;36mcountplot\u001b[0;34m(data, x, y, hue, order, hue_order, orient, color, palette, saturation, width, dodge, ax, **kwargs)\u001b[0m\n\u001b[1;32m   2940\u001b[0m \u001b[38;5;28;01melif\u001b[39;00m x \u001b[38;5;129;01mis\u001b[39;00m \u001b[38;5;129;01mnot\u001b[39;00m \u001b[38;5;28;01mNone\u001b[39;00m \u001b[38;5;129;01mand\u001b[39;00m y \u001b[38;5;129;01mis\u001b[39;00m \u001b[38;5;129;01mnot\u001b[39;00m \u001b[38;5;28;01mNone\u001b[39;00m:\n\u001b[1;32m   2941\u001b[0m     \u001b[38;5;28;01mraise\u001b[39;00m \u001b[38;5;167;01mValueError\u001b[39;00m(\u001b[38;5;124m\"\u001b[39m\u001b[38;5;124mCannot pass values for both `x` and `y`\u001b[39m\u001b[38;5;124m\"\u001b[39m)\n\u001b[0;32m-> 2943\u001b[0m plotter \u001b[38;5;241m=\u001b[39m \u001b[43m_CountPlotter\u001b[49m\u001b[43m(\u001b[49m\n\u001b[1;32m   2944\u001b[0m \u001b[43m    \u001b[49m\u001b[43mx\u001b[49m\u001b[43m,\u001b[49m\u001b[43m \u001b[49m\u001b[43my\u001b[49m\u001b[43m,\u001b[49m\u001b[43m \u001b[49m\u001b[43mhue\u001b[49m\u001b[43m,\u001b[49m\u001b[43m \u001b[49m\u001b[43mdata\u001b[49m\u001b[43m,\u001b[49m\u001b[43m \u001b[49m\u001b[43morder\u001b[49m\u001b[43m,\u001b[49m\u001b[43m \u001b[49m\u001b[43mhue_order\u001b[49m\u001b[43m,\u001b[49m\n\u001b[1;32m   2945\u001b[0m \u001b[43m    \u001b[49m\u001b[43mestimator\u001b[49m\u001b[43m,\u001b[49m\u001b[43m \u001b[49m\u001b[43merrorbar\u001b[49m\u001b[43m,\u001b[49m\u001b[43m \u001b[49m\u001b[43mn_boot\u001b[49m\u001b[43m,\u001b[49m\u001b[43m \u001b[49m\u001b[43munits\u001b[49m\u001b[43m,\u001b[49m\u001b[43m \u001b[49m\u001b[43mseed\u001b[49m\u001b[43m,\u001b[49m\n\u001b[1;32m   2946\u001b[0m \u001b[43m    \u001b[49m\u001b[43morient\u001b[49m\u001b[43m,\u001b[49m\u001b[43m \u001b[49m\u001b[43mcolor\u001b[49m\u001b[43m,\u001b[49m\u001b[43m \u001b[49m\u001b[43mpalette\u001b[49m\u001b[43m,\u001b[49m\u001b[43m \u001b[49m\u001b[43msaturation\u001b[49m\u001b[43m,\u001b[49m\n\u001b[1;32m   2947\u001b[0m \u001b[43m    \u001b[49m\u001b[43mwidth\u001b[49m\u001b[43m,\u001b[49m\u001b[43m \u001b[49m\u001b[43merrcolor\u001b[49m\u001b[43m,\u001b[49m\u001b[43m \u001b[49m\u001b[43merrwidth\u001b[49m\u001b[43m,\u001b[49m\u001b[43m \u001b[49m\u001b[43mcapsize\u001b[49m\u001b[43m,\u001b[49m\u001b[43m \u001b[49m\u001b[43mdodge\u001b[49m\n\u001b[1;32m   2948\u001b[0m \u001b[43m\u001b[49m\u001b[43m)\u001b[49m\n\u001b[1;32m   2950\u001b[0m plotter\u001b[38;5;241m.\u001b[39mvalue_label \u001b[38;5;241m=\u001b[39m \u001b[38;5;124m\"\u001b[39m\u001b[38;5;124mcount\u001b[39m\u001b[38;5;124m\"\u001b[39m\n\u001b[1;32m   2952\u001b[0m \u001b[38;5;28;01mif\u001b[39;00m ax \u001b[38;5;129;01mis\u001b[39;00m \u001b[38;5;28;01mNone\u001b[39;00m:\n",
      "File \u001b[0;32m/opt/tljh/user/lib/python3.10/site-packages/seaborn/categorical.py:1530\u001b[0m, in \u001b[0;36m_BarPlotter.__init__\u001b[0;34m(self, x, y, hue, data, order, hue_order, estimator, errorbar, n_boot, units, seed, orient, color, palette, saturation, width, errcolor, errwidth, capsize, dodge)\u001b[0m\n\u001b[1;32m   1525\u001b[0m \u001b[38;5;28;01mdef\u001b[39;00m \u001b[38;5;21m__init__\u001b[39m(\u001b[38;5;28mself\u001b[39m, x, y, hue, data, order, hue_order,\n\u001b[1;32m   1526\u001b[0m              estimator, errorbar, n_boot, units, seed,\n\u001b[1;32m   1527\u001b[0m              orient, color, palette, saturation, width,\n\u001b[1;32m   1528\u001b[0m              errcolor, errwidth, capsize, dodge):\n\u001b[1;32m   1529\u001b[0m \u001b[38;5;250m    \u001b[39m\u001b[38;5;124;03m\"\"\"Initialize the plotter.\"\"\"\u001b[39;00m\n\u001b[0;32m-> 1530\u001b[0m     \u001b[38;5;28;43mself\u001b[39;49m\u001b[38;5;241;43m.\u001b[39;49m\u001b[43mestablish_variables\u001b[49m\u001b[43m(\u001b[49m\u001b[43mx\u001b[49m\u001b[43m,\u001b[49m\u001b[43m \u001b[49m\u001b[43my\u001b[49m\u001b[43m,\u001b[49m\u001b[43m \u001b[49m\u001b[43mhue\u001b[49m\u001b[43m,\u001b[49m\u001b[43m \u001b[49m\u001b[43mdata\u001b[49m\u001b[43m,\u001b[49m\u001b[43m \u001b[49m\u001b[43morient\u001b[49m\u001b[43m,\u001b[49m\n\u001b[1;32m   1531\u001b[0m \u001b[43m                             \u001b[49m\u001b[43morder\u001b[49m\u001b[43m,\u001b[49m\u001b[43m \u001b[49m\u001b[43mhue_order\u001b[49m\u001b[43m,\u001b[49m\u001b[43m \u001b[49m\u001b[43munits\u001b[49m\u001b[43m)\u001b[49m\n\u001b[1;32m   1532\u001b[0m     \u001b[38;5;28mself\u001b[39m\u001b[38;5;241m.\u001b[39mestablish_colors(color, palette, saturation)\n\u001b[1;32m   1533\u001b[0m     \u001b[38;5;28mself\u001b[39m\u001b[38;5;241m.\u001b[39mestimate_statistic(estimator, errorbar, n_boot, seed)\n",
      "File \u001b[0;32m/opt/tljh/user/lib/python3.10/site-packages/seaborn/categorical.py:541\u001b[0m, in \u001b[0;36m_CategoricalPlotter.establish_variables\u001b[0;34m(self, x, y, hue, data, orient, order, hue_order, units)\u001b[0m\n\u001b[1;32m    539\u001b[0m     \u001b[38;5;28;01mif\u001b[39;00m \u001b[38;5;28misinstance\u001b[39m(var, \u001b[38;5;28mstr\u001b[39m):\n\u001b[1;32m    540\u001b[0m         err \u001b[38;5;241m=\u001b[39m \u001b[38;5;124mf\u001b[39m\u001b[38;5;124m\"\u001b[39m\u001b[38;5;124mCould not interpret input \u001b[39m\u001b[38;5;124m'\u001b[39m\u001b[38;5;132;01m{\u001b[39;00mvar\u001b[38;5;132;01m}\u001b[39;00m\u001b[38;5;124m'\u001b[39m\u001b[38;5;124m\"\u001b[39m\n\u001b[0;32m--> 541\u001b[0m         \u001b[38;5;28;01mraise\u001b[39;00m \u001b[38;5;167;01mValueError\u001b[39;00m(err)\n\u001b[1;32m    543\u001b[0m \u001b[38;5;66;03m# Figure out the plotting orientation\u001b[39;00m\n\u001b[1;32m    544\u001b[0m orient \u001b[38;5;241m=\u001b[39m infer_orient(\n\u001b[1;32m    545\u001b[0m     x, y, orient, require_numeric\u001b[38;5;241m=\u001b[39m\u001b[38;5;28mself\u001b[39m\u001b[38;5;241m.\u001b[39mrequire_numeric\n\u001b[1;32m    546\u001b[0m )\n",
      "\u001b[0;31mValueError\u001b[0m: Could not interpret input 'low_end_risk'"
     ]
    },
    {
     "data": {
      "text/plain": [
       "<Figure size 1000x700 with 0 Axes>"
      ]
     },
     "metadata": {},
     "output_type": "display_data"
    }
   ],
   "source": [
    "plt.figure(figsize=(10,7))\n",
    "sns.countplot(x = 'low_end_risk', hue = 'Response', data = data)"
   ]
  },
  {
   "cell_type": "markdown",
   "metadata": {},
   "source": [
    "* If fall into low_end risk category, approval is nearly 50%. In another angle, if not fall into low_end risk category, higher chance not being approved."
   ]
  },
  {
   "cell_type": "code",
   "execution_count": 39,
   "metadata": {},
   "outputs": [
    {
     "name": "stderr",
     "output_type": "stream",
     "text": [
      "/tmp/ipykernel_276805/2257320511.py:2: UserWarning: \n",
      "\n",
      "`distplot` is a deprecated function and will be removed in seaborn v0.14.0.\n",
      "\n",
      "Please adapt your code to use either `displot` (a figure-level function with\n",
      "similar flexibility) or `kdeplot` (an axes-level function for kernel density plots).\n",
      "\n",
      "For a guide to updating your code to use the new functions, please see\n",
      "https://gist.github.com/mwaskom/de44147ed2974457ad6372750bbe5751\n",
      "\n",
      "  sns.distplot(data[data['Response']==0]['Product_Info_1'],hist=False,label='Rejected') # Blue Line\n",
      "/tmp/ipykernel_276805/2257320511.py:3: UserWarning: \n",
      "\n",
      "`distplot` is a deprecated function and will be removed in seaborn v0.14.0.\n",
      "\n",
      "Please adapt your code to use either `displot` (a figure-level function with\n",
      "similar flexibility) or `kdeplot` (an axes-level function for kernel density plots).\n",
      "\n",
      "For a guide to updating your code to use the new functions, please see\n",
      "https://gist.github.com/mwaskom/de44147ed2974457ad6372750bbe5751\n",
      "\n",
      "  sns.distplot(data[data['Response']==1]['Product_Info_1'],hist=False,label='Accepted') # Orange Line\n"
     ]
    },
    {
     "data": {
      "text/plain": [
       "<Axes: xlabel='Product_Info_1', ylabel='Density'>"
      ]
     },
     "execution_count": 39,
     "metadata": {},
     "output_type": "execute_result"
    },
    {
     "data": {
      "image/png": "[encoded data removed]",
      "text/plain": [
       "<Figure size 640x480 with 1 Axes>"
      ]
     },
     "metadata": {},
     "output_type": "display_data"
    }
   ],
   "source": [
    "# Discover relationship between Product1 vs Response.\n",
    "sns.distplot(data[data['Response']==0]['Product_Info_1'],hist=False,label='Rejected') # Blue Line\n",
    "sns.distplot(data[data['Response']==1]['Product_Info_1'],hist=False,label='Accepted') # Orange Line"
   ]
  },
  {
   "cell_type": "code",
   "execution_count": 40,
   "metadata": {},
   "outputs": [
    {
     "name": "stderr",
     "output_type": "stream",
     "text": [
      "/tmp/ipykernel_276805/2416893575.py:2: UserWarning: \n",
      "\n",
      "`distplot` is a deprecated function and will be removed in seaborn v0.14.0.\n",
      "\n",
      "Please adapt your code to use either `displot` (a figure-level function with\n",
      "similar flexibility) or `kdeplot` (an axes-level function for kernel density plots).\n",
      "\n",
      "For a guide to updating your code to use the new functions, please see\n",
      "https://gist.github.com/mwaskom/de44147ed2974457ad6372750bbe5751\n",
      "\n",
      "  sns.distplot(data[data['Response']==0]['Product_Info_2'],hist=False,label='Rejected')\n",
      "/tmp/ipykernel_276805/2416893575.py:3: UserWarning: \n",
      "\n",
      "`distplot` is a deprecated function and will be removed in seaborn v0.14.0.\n",
      "\n",
      "Please adapt your code to use either `displot` (a figure-level function with\n",
      "similar flexibility) or `kdeplot` (an axes-level function for kernel density plots).\n",
      "\n",
      "For a guide to updating your code to use the new functions, please see\n",
      "https://gist.github.com/mwaskom/de44147ed2974457ad6372750bbe5751\n",
      "\n",
      "  sns.distplot(data[data['Response']==1]['Product_Info_2'],hist=False,label='Accepted')\n"
     ]
    },
    {
     "data": {
      "text/plain": [
       "<Axes: xlabel='Product_Info_2', ylabel='Density'>"
      ]
     },
     "execution_count": 40,
     "metadata": {},
     "output_type": "execute_result"
    },
    {
     "data": {
      "image/png": "[encoded data removed]",
      "text/plain": [
       "<Figure size 640x480 with 1 Axes>"
      ]
     },
     "metadata": {},
     "output_type": "display_data"
    }
   ],
   "source": [
    "# Discover relationship between Product2 vs Response.\n",
    "sns.distplot(data[data['Response']==0]['Product_Info_2'],hist=False,label='Rejected')\n",
    "sns.distplot(data[data['Response']==1]['Product_Info_2'],hist=False,label='Accepted')"
   ]
  },
  {
   "cell_type": "code",
   "execution_count": 41,
   "metadata": {},
   "outputs": [
    {
     "name": "stderr",
     "output_type": "stream",
     "text": [
      "/tmp/ipykernel_276805/498495297.py:2: UserWarning: \n",
      "\n",
      "`distplot` is a deprecated function and will be removed in seaborn v0.14.0.\n",
      "\n",
      "Please adapt your code to use either `displot` (a figure-level function with\n",
      "similar flexibility) or `kdeplot` (an axes-level function for kernel density plots).\n",
      "\n",
      "For a guide to updating your code to use the new functions, please see\n",
      "https://gist.github.com/mwaskom/de44147ed2974457ad6372750bbe5751\n",
      "\n",
      "  sns.distplot(data[data['Response']==0]['Product_Info_3'],hist=False,label='Rejected')\n",
      "/tmp/ipykernel_276805/498495297.py:3: UserWarning: \n",
      "\n",
      "`distplot` is a deprecated function and will be removed in seaborn v0.14.0.\n",
      "\n",
      "Please adapt your code to use either `displot` (a figure-level function with\n",
      "similar flexibility) or `kdeplot` (an axes-level function for kernel density plots).\n",
      "\n",
      "For a guide to updating your code to use the new functions, please see\n",
      "https://gist.github.com/mwaskom/de44147ed2974457ad6372750bbe5751\n",
      "\n",
      "  sns.distplot(data[data['Response']==1]['Product_Info_3'],hist=False,label='Accepted')\n"
     ]
    },
    {
     "data": {
      "text/plain": [
       "<Axes: xlabel='Product_Info_3', ylabel='Density'>"
      ]
     },
     "execution_count": 41,
     "metadata": {},
     "output_type": "execute_result"
    },
    {
     "data": {
      "image/png": "[encoded data removed]",
      "text/plain": [
       "<Figure size 640x480 with 1 Axes>"
      ]
     },
     "metadata": {},
     "output_type": "display_data"
    }
   ],
   "source": [
    "# Discover relationship between Product3 vs Response.\n",
    "sns.distplot(data[data['Response']==0]['Product_Info_3'],hist=False,label='Rejected')\n",
    "sns.distplot(data[data['Response']==1]['Product_Info_3'],hist=False,label='Accepted')"
   ]
  },
  {
   "cell_type": "code",
   "execution_count": 42,
   "metadata": {},
   "outputs": [
    {
     "ename": "ValueError",
     "evalue": "could not convert string to float: 'under_weight'",
     "output_type": "error",
     "traceback": [
      "\u001b[0;31m---------------------------------------------------------------------------\u001b[0m",
      "\u001b[0;31mValueError\u001b[0m                                Traceback (most recent call last)",
      "Cell \u001b[0;32mIn[42], line 3\u001b[0m\n\u001b[1;32m      1\u001b[0m \u001b[38;5;66;03m# Print overall heatmap of all columns.\u001b[39;00m\n\u001b[1;32m      2\u001b[0m plt\u001b[38;5;241m.\u001b[39mfigure(figsize \u001b[38;5;241m=\u001b[39m (\u001b[38;5;241m30\u001b[39m,\u001b[38;5;241m30\u001b[39m))\n\u001b[0;32m----> 3\u001b[0m corr \u001b[38;5;241m=\u001b[39m \u001b[43mdata\u001b[49m\u001b[38;5;241;43m.\u001b[39;49m\u001b[43mcorr\u001b[49m\u001b[43m(\u001b[49m\u001b[43m)\u001b[49m\n\u001b[1;32m      4\u001b[0m ax \u001b[38;5;241m=\u001b[39m sns\u001b[38;5;241m.\u001b[39mheatmap(\n\u001b[1;32m      5\u001b[0m     corr, \n\u001b[1;32m      6\u001b[0m     vmin\u001b[38;5;241m=\u001b[39m\u001b[38;5;241m-\u001b[39m\u001b[38;5;241m1\u001b[39m, vmax\u001b[38;5;241m=\u001b[39m\u001b[38;5;241m1\u001b[39m, center\u001b[38;5;241m=\u001b[39m\u001b[38;5;241m0\u001b[39m,\n\u001b[1;32m      7\u001b[0m     cmap\u001b[38;5;241m=\u001b[39msns\u001b[38;5;241m.\u001b[39mdiverging_palette(\u001b[38;5;241m100\u001b[39m, \u001b[38;5;241m370\u001b[39m, n\u001b[38;5;241m=\u001b[39m\u001b[38;5;241m200\u001b[39m),\n\u001b[1;32m      8\u001b[0m     square\u001b[38;5;241m=\u001b[39m\u001b[38;5;28;01mTrue\u001b[39;00m\n\u001b[1;32m      9\u001b[0m )\n\u001b[1;32m     10\u001b[0m ax\u001b[38;5;241m.\u001b[39mset_xticklabels(\n\u001b[1;32m     11\u001b[0m     ax\u001b[38;5;241m.\u001b[39mget_xticklabels(),\n\u001b[1;32m     12\u001b[0m     rotation\u001b[38;5;241m=\u001b[39m\u001b[38;5;241m45\u001b[39m,\n\u001b[1;32m     13\u001b[0m     horizontalalignment\u001b[38;5;241m=\u001b[39m\u001b[38;5;124m'\u001b[39m\u001b[38;5;124mright\u001b[39m\u001b[38;5;124m'\u001b[39m\n\u001b[1;32m     14\u001b[0m );\n",
      "File \u001b[0;32m/opt/tljh/user/lib/python3.10/site-packages/pandas/core/frame.py:10054\u001b[0m, in \u001b[0;36mDataFrame.corr\u001b[0;34m(self, method, min_periods, numeric_only)\u001b[0m\n\u001b[1;32m  10052\u001b[0m cols \u001b[38;5;241m=\u001b[39m data\u001b[38;5;241m.\u001b[39mcolumns\n\u001b[1;32m  10053\u001b[0m idx \u001b[38;5;241m=\u001b[39m cols\u001b[38;5;241m.\u001b[39mcopy()\n\u001b[0;32m> 10054\u001b[0m mat \u001b[38;5;241m=\u001b[39m \u001b[43mdata\u001b[49m\u001b[38;5;241;43m.\u001b[39;49m\u001b[43mto_numpy\u001b[49m\u001b[43m(\u001b[49m\u001b[43mdtype\u001b[49m\u001b[38;5;241;43m=\u001b[39;49m\u001b[38;5;28;43mfloat\u001b[39;49m\u001b[43m,\u001b[49m\u001b[43m \u001b[49m\u001b[43mna_value\u001b[49m\u001b[38;5;241;43m=\u001b[39;49m\u001b[43mnp\u001b[49m\u001b[38;5;241;43m.\u001b[39;49m\u001b[43mnan\u001b[49m\u001b[43m,\u001b[49m\u001b[43m \u001b[49m\u001b[43mcopy\u001b[49m\u001b[38;5;241;43m=\u001b[39;49m\u001b[38;5;28;43;01mFalse\u001b[39;49;00m\u001b[43m)\u001b[49m\n\u001b[1;32m  10056\u001b[0m \u001b[38;5;28;01mif\u001b[39;00m method \u001b[38;5;241m==\u001b[39m \u001b[38;5;124m\"\u001b[39m\u001b[38;5;124mpearson\u001b[39m\u001b[38;5;124m\"\u001b[39m:\n\u001b[1;32m  10057\u001b[0m     correl \u001b[38;5;241m=\u001b[39m libalgos\u001b[38;5;241m.\u001b[39mnancorr(mat, minp\u001b[38;5;241m=\u001b[39mmin_periods)\n",
      "File \u001b[0;32m/opt/tljh/user/lib/python3.10/site-packages/pandas/core/frame.py:1838\u001b[0m, in \u001b[0;36mDataFrame.to_numpy\u001b[0;34m(self, dtype, copy, na_value)\u001b[0m\n\u001b[1;32m   1836\u001b[0m \u001b[38;5;28;01mif\u001b[39;00m dtype \u001b[38;5;129;01mis\u001b[39;00m \u001b[38;5;129;01mnot\u001b[39;00m \u001b[38;5;28;01mNone\u001b[39;00m:\n\u001b[1;32m   1837\u001b[0m     dtype \u001b[38;5;241m=\u001b[39m np\u001b[38;5;241m.\u001b[39mdtype(dtype)\n\u001b[0;32m-> 1838\u001b[0m result \u001b[38;5;241m=\u001b[39m \u001b[38;5;28;43mself\u001b[39;49m\u001b[38;5;241;43m.\u001b[39;49m\u001b[43m_mgr\u001b[49m\u001b[38;5;241;43m.\u001b[39;49m\u001b[43mas_array\u001b[49m\u001b[43m(\u001b[49m\u001b[43mdtype\u001b[49m\u001b[38;5;241;43m=\u001b[39;49m\u001b[43mdtype\u001b[49m\u001b[43m,\u001b[49m\u001b[43m \u001b[49m\u001b[43mcopy\u001b[49m\u001b[38;5;241;43m=\u001b[39;49m\u001b[43mcopy\u001b[49m\u001b[43m,\u001b[49m\u001b[43m \u001b[49m\u001b[43mna_value\u001b[49m\u001b[38;5;241;43m=\u001b[39;49m\u001b[43mna_value\u001b[49m\u001b[43m)\u001b[49m\n\u001b[1;32m   1839\u001b[0m \u001b[38;5;28;01mif\u001b[39;00m result\u001b[38;5;241m.\u001b[39mdtype \u001b[38;5;129;01mis\u001b[39;00m \u001b[38;5;129;01mnot\u001b[39;00m dtype:\n\u001b[1;32m   1840\u001b[0m     result \u001b[38;5;241m=\u001b[39m np\u001b[38;5;241m.\u001b[39marray(result, dtype\u001b[38;5;241m=\u001b[39mdtype, copy\u001b[38;5;241m=\u001b[39m\u001b[38;5;28;01mFalse\u001b[39;00m)\n",
      "File \u001b[0;32m/opt/tljh/user/lib/python3.10/site-packages/pandas/core/internals/managers.py:1732\u001b[0m, in \u001b[0;36mBlockManager.as_array\u001b[0;34m(self, dtype, copy, na_value)\u001b[0m\n\u001b[1;32m   1730\u001b[0m         arr\u001b[38;5;241m.\u001b[39mflags\u001b[38;5;241m.\u001b[39mwriteable \u001b[38;5;241m=\u001b[39m \u001b[38;5;28;01mFalse\u001b[39;00m\n\u001b[1;32m   1731\u001b[0m \u001b[38;5;28;01melse\u001b[39;00m:\n\u001b[0;32m-> 1732\u001b[0m     arr \u001b[38;5;241m=\u001b[39m \u001b[38;5;28;43mself\u001b[39;49m\u001b[38;5;241;43m.\u001b[39;49m\u001b[43m_interleave\u001b[49m\u001b[43m(\u001b[49m\u001b[43mdtype\u001b[49m\u001b[38;5;241;43m=\u001b[39;49m\u001b[43mdtype\u001b[49m\u001b[43m,\u001b[49m\u001b[43m \u001b[49m\u001b[43mna_value\u001b[49m\u001b[38;5;241;43m=\u001b[39;49m\u001b[43mna_value\u001b[49m\u001b[43m)\u001b[49m\n\u001b[1;32m   1733\u001b[0m     \u001b[38;5;66;03m# The underlying data was copied within _interleave, so no need\u001b[39;00m\n\u001b[1;32m   1734\u001b[0m     \u001b[38;5;66;03m# to further copy if copy=True or setting na_value\u001b[39;00m\n\u001b[1;32m   1736\u001b[0m \u001b[38;5;28;01mif\u001b[39;00m na_value \u001b[38;5;129;01mis\u001b[39;00m \u001b[38;5;129;01mnot\u001b[39;00m lib\u001b[38;5;241m.\u001b[39mno_default:\n",
      "File \u001b[0;32m/opt/tljh/user/lib/python3.10/site-packages/pandas/core/internals/managers.py:1794\u001b[0m, in \u001b[0;36mBlockManager._interleave\u001b[0;34m(self, dtype, na_value)\u001b[0m\n\u001b[1;32m   1792\u001b[0m     \u001b[38;5;28;01melse\u001b[39;00m:\n\u001b[1;32m   1793\u001b[0m         arr \u001b[38;5;241m=\u001b[39m blk\u001b[38;5;241m.\u001b[39mget_values(dtype)\n\u001b[0;32m-> 1794\u001b[0m     \u001b[43mresult\u001b[49m\u001b[43m[\u001b[49m\u001b[43mrl\u001b[49m\u001b[38;5;241;43m.\u001b[39;49m\u001b[43mindexer\u001b[49m\u001b[43m]\u001b[49m \u001b[38;5;241m=\u001b[39m arr\n\u001b[1;32m   1795\u001b[0m     itemmask[rl\u001b[38;5;241m.\u001b[39mindexer] \u001b[38;5;241m=\u001b[39m \u001b[38;5;241m1\u001b[39m\n\u001b[1;32m   1797\u001b[0m \u001b[38;5;28;01mif\u001b[39;00m \u001b[38;5;129;01mnot\u001b[39;00m itemmask\u001b[38;5;241m.\u001b[39mall():\n",
      "\u001b[0;31mValueError\u001b[0m: could not convert string to float: 'under_weight'"
     ]
    },
    {
     "data": {
      "text/plain": [
       "<Figure size 3000x3000 with 0 Axes>"
      ]
     },
     "metadata": {},
     "output_type": "display_data"
    }
   ],
   "source": [
    "# Print overall heatmap of all columns.\n",
    "plt.figure(figsize = (30,30))\n",
    "corr = data.corr()\n",
    "ax = sns.heatmap(\n",
    "    corr, \n",
    "    vmin=-1, vmax=1, center=0,\n",
    "    cmap=sns.diverging_palette(100, 370, n=200),\n",
    "    square=True\n",
    ")\n",
    "ax.set_xticklabels(\n",
    "    ax.get_xticklabels(),\n",
    "    rotation=45,\n",
    "    horizontalalignment='right'\n",
    ");"
   ]
  },
  {
   "cell_type": "markdown",
   "metadata": {},
   "source": [
    "Dark Reds and Darg Greens are Higly Correlated Features \n",
    "- Reduce the Dimensions of the features slightly\n",
    "- However, will lose some explainatory power \n",
    "\n",
    "TradeOff between Efficacy vs Interpretability Anlaysis\n"
   ]
  },
  {
   "cell_type": "markdown",
   "metadata": {},
   "source": [
    "## Using Pandas Profiler to Analyze every feature"
   ]
  },
  {
   "cell_type": "code",
   "execution_count": null,
   "metadata": {},
   "outputs": [],
   "source": [
    "#%pip install pandas_profiling"
   ]
  },
  {
   "cell_type": "code",
   "execution_count": null,
   "metadata": {},
   "outputs": [],
   "source": [
    "#Can take some time run - Uncomment below for the second run of this notebook\n",
    "#profile = pdp.ProfileReport(data, title=\"Pandas Profiling Report\")\n",
    "#profile"
   ]
  },
  {
   "cell_type": "markdown",
   "metadata": {},
   "source": [
    "## Further Feature Analysis"
   ]
  },
  {
   "cell_type": "code",
   "execution_count": 43,
   "metadata": {},
   "outputs": [
    {
     "data": {
      "text/plain": [
       "Index(['Id', 'Product_Info_1', 'Product_Info_2', 'Product_Info_3',\n",
       "       'Product_Info_4', 'Product_Info_5', 'Product_Info_6', 'Product_Info_7',\n",
       "       'Ins_Age', 'Ht',\n",
       "       ...\n",
       "       'Medical_Keyword_45', 'Medical_Keyword_46', 'Medical_Keyword_47',\n",
       "       'Medical_Keyword_48', 'Response', 'BMI_Wt', 'Old_Young', 'Short_Tall',\n",
       "       'Thin_Fat', 'extreme_risk'],\n",
       "      dtype='object', length=129)"
      ]
     },
     "execution_count": 43,
     "metadata": {},
     "output_type": "execute_result"
    }
   ],
   "source": [
    "data.columns"
   ]
  },
  {
   "cell_type": "code",
   "execution_count": 44,
   "metadata": {},
   "outputs": [],
   "source": [
    "dfFeatureCorr = pd.DataFrame(columns=['feature','corr'])\n",
    "for col in data.columns:\n",
    "    #print(col)\n",
    "    if col in ('BMI_Wt', 'Old_Young', 'Thin_Fat', 'Short_Tall', 'extreme_risk', 'average_risk', 'low_end_risk', 'Response'):\n",
    "        continue\n",
    "    dfFeatureCorr.loc[len(dfFeatureCorr.index)] = [col, data[col].corr(data['Response'])]"
   ]
  },
  {
   "cell_type": "code",
   "execution_count": 45,
   "metadata": {},
   "outputs": [
    {
     "data": {
      "text/html": [
       "<div>\n",
       "<style scoped>\n",
       "    .dataframe tbody tr th:only-of-type {\n",
       "        vertical-align: middle;\n",
       "    }\n",
       "\n",
       "    .dataframe tbody tr th {\n",
       "        vertical-align: top;\n",
       "    }\n",
       "\n",
       "    .dataframe thead th {\n",
       "        text-align: right;\n",
       "    }\n",
       "</style>\n",
       "<table border=\"1\" class=\"dataframe\">\n",
       "  <thead>\n",
       "    <tr style=\"text-align: right;\">\n",
       "      <th></th>\n",
       "      <th>feature</th>\n",
       "      <th>corr</th>\n",
       "    </tr>\n",
       "  </thead>\n",
       "  <tbody>\n",
       "    <tr>\n",
       "      <th>0</th>\n",
       "      <td>Id</td>\n",
       "      <td>-0.004526</td>\n",
       "    </tr>\n",
       "    <tr>\n",
       "      <th>1</th>\n",
       "      <td>Product_Info_1</td>\n",
       "      <td>-0.019621</td>\n",
       "    </tr>\n",
       "    <tr>\n",
       "      <th>2</th>\n",
       "      <td>Product_Info_2</td>\n",
       "      <td>-0.010644</td>\n",
       "    </tr>\n",
       "    <tr>\n",
       "      <th>3</th>\n",
       "      <td>Product_Info_3</td>\n",
       "      <td>-0.094939</td>\n",
       "    </tr>\n",
       "    <tr>\n",
       "      <th>4</th>\n",
       "      <td>Product_Info_4</td>\n",
       "      <td>0.174690</td>\n",
       "    </tr>\n",
       "    <tr>\n",
       "      <th>...</th>\n",
       "      <td>...</td>\n",
       "      <td>...</td>\n",
       "    </tr>\n",
       "    <tr>\n",
       "      <th>118</th>\n",
       "      <td>Medical_Keyword_44</td>\n",
       "      <td>-0.017720</td>\n",
       "    </tr>\n",
       "    <tr>\n",
       "      <th>119</th>\n",
       "      <td>Medical_Keyword_45</td>\n",
       "      <td>0.002213</td>\n",
       "    </tr>\n",
       "    <tr>\n",
       "      <th>120</th>\n",
       "      <td>Medical_Keyword_46</td>\n",
       "      <td>-0.048249</td>\n",
       "    </tr>\n",
       "    <tr>\n",
       "      <th>121</th>\n",
       "      <td>Medical_Keyword_47</td>\n",
       "      <td>-0.039269</td>\n",
       "    </tr>\n",
       "    <tr>\n",
       "      <th>122</th>\n",
       "      <td>Medical_Keyword_48</td>\n",
       "      <td>-0.125934</td>\n",
       "    </tr>\n",
       "  </tbody>\n",
       "</table>\n",
       "<p>123 rows × 2 columns</p>\n",
       "</div>"
      ],
      "text/plain": [
       "                feature      corr\n",
       "0                    Id -0.004526\n",
       "1        Product_Info_1 -0.019621\n",
       "2        Product_Info_2 -0.010644\n",
       "3        Product_Info_3 -0.094939\n",
       "4        Product_Info_4  0.174690\n",
       "..                  ...       ...\n",
       "118  Medical_Keyword_44 -0.017720\n",
       "119  Medical_Keyword_45  0.002213\n",
       "120  Medical_Keyword_46 -0.048249\n",
       "121  Medical_Keyword_47 -0.039269\n",
       "122  Medical_Keyword_48 -0.125934\n",
       "\n",
       "[123 rows x 2 columns]"
      ]
     },
     "execution_count": 45,
     "metadata": {},
     "output_type": "execute_result"
    }
   ],
   "source": [
    "dfFeatureCorr"
   ]
  },
  {
   "cell_type": "code",
   "execution_count": 46,
   "metadata": {},
   "outputs": [
    {
     "data": {
      "text/plain": [
       "<Axes: xlabel='feature', ylabel='corr'>"
      ]
     },
     "execution_count": 46,
     "metadata": {},
     "output_type": "execute_result"
    },
    {
     "data": {
      "image/png": "[encoded data removed]",
      "text/plain": [
       "<Figure size 640x480 with 1 Axes>"
      ]
     },
     "metadata": {},
     "output_type": "display_data"
    }
   ],
   "source": [
    "sns.scatterplot(data=dfFeatureCorr, x=\"feature\", y=\"corr\")"
   ]
  },
  {
   "cell_type": "markdown",
   "metadata": {},
   "source": [
    "Many features are uncorrelated to response\n",
    "- However the relationship betweeen these features could still explain Response"
   ]
  },
  {
   "cell_type": "code",
   "execution_count": 47,
   "metadata": {},
   "outputs": [
    {
     "data": {
      "text/plain": [
       "array(['Id', 'Product_Info_1', 'Product_Info_2', 'Product_Info_3',\n",
       "       'Product_Info_4', 'Product_Info_5', 'Product_Info_6',\n",
       "       'Product_Info_7', 'Ins_Age', 'Ht', 'Wt', 'BMI',\n",
       "       'Employment_Info_1', 'Employment_Info_2', 'Employment_Info_3',\n",
       "       'Employment_Info_4', 'Employment_Info_5', 'Employment_Info_6',\n",
       "       'InsuredInfo_1', 'InsuredInfo_2', 'InsuredInfo_3', 'InsuredInfo_4',\n",
       "       'InsuredInfo_5', 'InsuredInfo_6', 'InsuredInfo_7',\n",
       "       'Insurance_History_1', 'Insurance_History_2',\n",
       "       'Insurance_History_3', 'Insurance_History_4',\n",
       "       'Insurance_History_5', 'Insurance_History_7',\n",
       "       'Insurance_History_8', 'Insurance_History_9', 'Family_Hist_1',\n",
       "       'Family_Hist_2', 'Family_Hist_3', 'Family_Hist_4', 'Family_Hist_5',\n",
       "       'Medical_History_1', 'Medical_History_2', 'Medical_History_3',\n",
       "       'Medical_History_4', 'Medical_History_5', 'Medical_History_6',\n",
       "       'Medical_History_7', 'Medical_History_8', 'Medical_History_9',\n",
       "       'Medical_History_11', 'Medical_History_12', 'Medical_History_13',\n",
       "       'Medical_History_14', 'Medical_History_16', 'Medical_History_17',\n",
       "       'Medical_History_18', 'Medical_History_19', 'Medical_History_20',\n",
       "       'Medical_History_21', 'Medical_History_22', 'Medical_History_23',\n",
       "       'Medical_History_25', 'Medical_History_26', 'Medical_History_27',\n",
       "       'Medical_History_28', 'Medical_History_29', 'Medical_History_30',\n",
       "       'Medical_History_31', 'Medical_History_33', 'Medical_History_34',\n",
       "       'Medical_History_35', 'Medical_History_36', 'Medical_History_37',\n",
       "       'Medical_History_38', 'Medical_History_39', 'Medical_History_40',\n",
       "       'Medical_History_41', 'Medical_Keyword_1', 'Medical_Keyword_2',\n",
       "       'Medical_Keyword_3', 'Medical_Keyword_4', 'Medical_Keyword_5',\n",
       "       'Medical_Keyword_6', 'Medical_Keyword_7', 'Medical_Keyword_8',\n",
       "       'Medical_Keyword_9', 'Medical_Keyword_10', 'Medical_Keyword_11',\n",
       "       'Medical_Keyword_12', 'Medical_Keyword_13', 'Medical_Keyword_14',\n",
       "       'Medical_Keyword_15', 'Medical_Keyword_16', 'Medical_Keyword_17',\n",
       "       'Medical_Keyword_18', 'Medical_Keyword_19', 'Medical_Keyword_20',\n",
       "       'Medical_Keyword_21', 'Medical_Keyword_22', 'Medical_Keyword_23',\n",
       "       'Medical_Keyword_24', 'Medical_Keyword_25', 'Medical_Keyword_26',\n",
       "       'Medical_Keyword_27', 'Medical_Keyword_28', 'Medical_Keyword_29',\n",
       "       'Medical_Keyword_30', 'Medical_Keyword_31', 'Medical_Keyword_32',\n",
       "       'Medical_Keyword_33', 'Medical_Keyword_34', 'Medical_Keyword_35',\n",
       "       'Medical_Keyword_36', 'Medical_Keyword_37', 'Medical_Keyword_38',\n",
       "       'Medical_Keyword_39', 'Medical_Keyword_40', 'Medical_Keyword_41',\n",
       "       'Medical_Keyword_42', 'Medical_Keyword_43', 'Medical_Keyword_44',\n",
       "       'Medical_Keyword_45', 'Medical_Keyword_46', 'Medical_Keyword_47',\n",
       "       'Medical_Keyword_48'], dtype=object)"
      ]
     },
     "execution_count": 47,
     "metadata": {},
     "output_type": "execute_result"
    }
   ],
   "source": [
    "dfFeatureCorr['feature'].values\n",
    "\n",
    "corr = data.corr(numeric_only=True)"
   ]
  },
  {
   "cell_type": "code",
   "execution_count": 48,
   "metadata": {},
   "outputs": [
    {
     "data": {
      "text/plain": [
       "0                      Id\n",
       "1          Product_Info_1\n",
       "2          Product_Info_2\n",
       "3          Product_Info_3\n",
       "4          Product_Info_4\n",
       "              ...        \n",
       "118    Medical_Keyword_44\n",
       "119    Medical_Keyword_45\n",
       "120    Medical_Keyword_46\n",
       "121    Medical_Keyword_47\n",
       "122    Medical_Keyword_48\n",
       "Name: feature, Length: 123, dtype: object"
      ]
     },
     "execution_count": 48,
     "metadata": {},
     "output_type": "execute_result"
    }
   ],
   "source": [
    "dfFeatureCorr['feature']"
   ]
  },
  {
   "cell_type": "code",
   "execution_count": 49,
   "metadata": {},
   "outputs": [
    {
     "name": "stderr",
     "output_type": "stream",
     "text": [
      "/tmp/ipykernel_276805/2185145523.py:3: SettingWithCopyWarning: \n",
      "A value is trying to be set on a copy of a slice from a DataFrame.\n",
      "Try using .loc[row_indexer,col_indexer] = value instead\n",
      "\n",
      "See the caveats in the documentation: https://pandas.pydata.org/pandas-docs/stable/user_guide/indexing.html#returning-a-view-versus-a-copy\n",
      "  dfXY['Response'] = data['Response']\n"
     ]
    },
    {
     "data": {
      "text/html": [
       "<div>\n",
       "<style scoped>\n",
       "    .dataframe tbody tr th:only-of-type {\n",
       "        vertical-align: middle;\n",
       "    }\n",
       "\n",
       "    .dataframe tbody tr th {\n",
       "        vertical-align: top;\n",
       "    }\n",
       "\n",
       "    .dataframe thead th {\n",
       "        text-align: right;\n",
       "    }\n",
       "</style>\n",
       "<table border=\"1\" class=\"dataframe\">\n",
       "  <thead>\n",
       "    <tr style=\"text-align: right;\">\n",
       "      <th></th>\n",
       "      <th>Id</th>\n",
       "      <th>Product_Info_1</th>\n",
       "      <th>Product_Info_2</th>\n",
       "      <th>Product_Info_3</th>\n",
       "      <th>Product_Info_4</th>\n",
       "      <th>Product_Info_5</th>\n",
       "      <th>Product_Info_6</th>\n",
       "      <th>Product_Info_7</th>\n",
       "      <th>Ins_Age</th>\n",
       "      <th>Ht</th>\n",
       "      <th>...</th>\n",
       "      <th>Medical_Keyword_40</th>\n",
       "      <th>Medical_Keyword_41</th>\n",
       "      <th>Medical_Keyword_42</th>\n",
       "      <th>Medical_Keyword_43</th>\n",
       "      <th>Medical_Keyword_44</th>\n",
       "      <th>Medical_Keyword_45</th>\n",
       "      <th>Medical_Keyword_46</th>\n",
       "      <th>Medical_Keyword_47</th>\n",
       "      <th>Medical_Keyword_48</th>\n",
       "      <th>Response</th>\n",
       "    </tr>\n",
       "  </thead>\n",
       "  <tbody>\n",
       "    <tr>\n",
       "      <th>0</th>\n",
       "      <td>2</td>\n",
       "      <td>1</td>\n",
       "      <td>16</td>\n",
       "      <td>10</td>\n",
       "      <td>0.076923</td>\n",
       "      <td>2</td>\n",
       "      <td>1</td>\n",
       "      <td>1</td>\n",
       "      <td>0.641791</td>\n",
       "      <td>0.581818</td>\n",
       "      <td>...</td>\n",
       "      <td>0</td>\n",
       "      <td>0</td>\n",
       "      <td>0</td>\n",
       "      <td>0</td>\n",
       "      <td>0</td>\n",
       "      <td>0</td>\n",
       "      <td>0</td>\n",
       "      <td>0</td>\n",
       "      <td>0</td>\n",
       "      <td>1</td>\n",
       "    </tr>\n",
       "    <tr>\n",
       "      <th>1</th>\n",
       "      <td>5</td>\n",
       "      <td>1</td>\n",
       "      <td>0</td>\n",
       "      <td>26</td>\n",
       "      <td>0.076923</td>\n",
       "      <td>2</td>\n",
       "      <td>3</td>\n",
       "      <td>1</td>\n",
       "      <td>0.059701</td>\n",
       "      <td>0.600000</td>\n",
       "      <td>...</td>\n",
       "      <td>0</td>\n",
       "      <td>0</td>\n",
       "      <td>0</td>\n",
       "      <td>0</td>\n",
       "      <td>0</td>\n",
       "      <td>0</td>\n",
       "      <td>0</td>\n",
       "      <td>0</td>\n",
       "      <td>0</td>\n",
       "      <td>0</td>\n",
       "    </tr>\n",
       "    <tr>\n",
       "      <th>2</th>\n",
       "      <td>6</td>\n",
       "      <td>1</td>\n",
       "      <td>18</td>\n",
       "      <td>26</td>\n",
       "      <td>0.076923</td>\n",
       "      <td>2</td>\n",
       "      <td>3</td>\n",
       "      <td>1</td>\n",
       "      <td>0.029851</td>\n",
       "      <td>0.745455</td>\n",
       "      <td>...</td>\n",
       "      <td>0</td>\n",
       "      <td>0</td>\n",
       "      <td>0</td>\n",
       "      <td>0</td>\n",
       "      <td>0</td>\n",
       "      <td>0</td>\n",
       "      <td>0</td>\n",
       "      <td>0</td>\n",
       "      <td>0</td>\n",
       "      <td>1</td>\n",
       "    </tr>\n",
       "    <tr>\n",
       "      <th>3</th>\n",
       "      <td>7</td>\n",
       "      <td>1</td>\n",
       "      <td>17</td>\n",
       "      <td>10</td>\n",
       "      <td>0.487179</td>\n",
       "      <td>2</td>\n",
       "      <td>3</td>\n",
       "      <td>1</td>\n",
       "      <td>0.164179</td>\n",
       "      <td>0.672727</td>\n",
       "      <td>...</td>\n",
       "      <td>0</td>\n",
       "      <td>0</td>\n",
       "      <td>0</td>\n",
       "      <td>0</td>\n",
       "      <td>0</td>\n",
       "      <td>0</td>\n",
       "      <td>0</td>\n",
       "      <td>0</td>\n",
       "      <td>0</td>\n",
       "      <td>1</td>\n",
       "    </tr>\n",
       "    <tr>\n",
       "      <th>4</th>\n",
       "      <td>8</td>\n",
       "      <td>1</td>\n",
       "      <td>15</td>\n",
       "      <td>26</td>\n",
       "      <td>0.230769</td>\n",
       "      <td>2</td>\n",
       "      <td>3</td>\n",
       "      <td>1</td>\n",
       "      <td>0.417910</td>\n",
       "      <td>0.654545</td>\n",
       "      <td>...</td>\n",
       "      <td>0</td>\n",
       "      <td>0</td>\n",
       "      <td>0</td>\n",
       "      <td>0</td>\n",
       "      <td>0</td>\n",
       "      <td>0</td>\n",
       "      <td>0</td>\n",
       "      <td>0</td>\n",
       "      <td>0</td>\n",
       "      <td>1</td>\n",
       "    </tr>\n",
       "    <tr>\n",
       "      <th>...</th>\n",
       "      <td>...</td>\n",
       "      <td>...</td>\n",
       "      <td>...</td>\n",
       "      <td>...</td>\n",
       "      <td>...</td>\n",
       "      <td>...</td>\n",
       "      <td>...</td>\n",
       "      <td>...</td>\n",
       "      <td>...</td>\n",
       "      <td>...</td>\n",
       "      <td>...</td>\n",
       "      <td>...</td>\n",
       "      <td>...</td>\n",
       "      <td>...</td>\n",
       "      <td>...</td>\n",
       "      <td>...</td>\n",
       "      <td>...</td>\n",
       "      <td>...</td>\n",
       "      <td>...</td>\n",
       "      <td>...</td>\n",
       "      <td>...</td>\n",
       "    </tr>\n",
       "    <tr>\n",
       "      <th>59376</th>\n",
       "      <td>79142</td>\n",
       "      <td>1</td>\n",
       "      <td>14</td>\n",
       "      <td>10</td>\n",
       "      <td>0.230769</td>\n",
       "      <td>2</td>\n",
       "      <td>3</td>\n",
       "      <td>1</td>\n",
       "      <td>0.074627</td>\n",
       "      <td>0.709091</td>\n",
       "      <td>...</td>\n",
       "      <td>0</td>\n",
       "      <td>0</td>\n",
       "      <td>0</td>\n",
       "      <td>0</td>\n",
       "      <td>0</td>\n",
       "      <td>0</td>\n",
       "      <td>0</td>\n",
       "      <td>0</td>\n",
       "      <td>0</td>\n",
       "      <td>0</td>\n",
       "    </tr>\n",
       "    <tr>\n",
       "      <th>59377</th>\n",
       "      <td>79143</td>\n",
       "      <td>1</td>\n",
       "      <td>16</td>\n",
       "      <td>26</td>\n",
       "      <td>0.230769</td>\n",
       "      <td>2</td>\n",
       "      <td>3</td>\n",
       "      <td>1</td>\n",
       "      <td>0.432836</td>\n",
       "      <td>0.800000</td>\n",
       "      <td>...</td>\n",
       "      <td>0</td>\n",
       "      <td>0</td>\n",
       "      <td>0</td>\n",
       "      <td>0</td>\n",
       "      <td>0</td>\n",
       "      <td>0</td>\n",
       "      <td>0</td>\n",
       "      <td>0</td>\n",
       "      <td>0</td>\n",
       "      <td>0</td>\n",
       "    </tr>\n",
       "    <tr>\n",
       "      <th>59378</th>\n",
       "      <td>79144</td>\n",
       "      <td>1</td>\n",
       "      <td>18</td>\n",
       "      <td>26</td>\n",
       "      <td>0.076923</td>\n",
       "      <td>2</td>\n",
       "      <td>3</td>\n",
       "      <td>1</td>\n",
       "      <td>0.104478</td>\n",
       "      <td>0.745455</td>\n",
       "      <td>...</td>\n",
       "      <td>0</td>\n",
       "      <td>0</td>\n",
       "      <td>0</td>\n",
       "      <td>0</td>\n",
       "      <td>0</td>\n",
       "      <td>0</td>\n",
       "      <td>0</td>\n",
       "      <td>0</td>\n",
       "      <td>0</td>\n",
       "      <td>1</td>\n",
       "    </tr>\n",
       "    <tr>\n",
       "      <th>59379</th>\n",
       "      <td>79145</td>\n",
       "      <td>1</td>\n",
       "      <td>15</td>\n",
       "      <td>10</td>\n",
       "      <td>0.230769</td>\n",
       "      <td>2</td>\n",
       "      <td>3</td>\n",
       "      <td>1</td>\n",
       "      <td>0.507463</td>\n",
       "      <td>0.690909</td>\n",
       "      <td>...</td>\n",
       "      <td>1</td>\n",
       "      <td>0</td>\n",
       "      <td>0</td>\n",
       "      <td>0</td>\n",
       "      <td>0</td>\n",
       "      <td>0</td>\n",
       "      <td>0</td>\n",
       "      <td>0</td>\n",
       "      <td>0</td>\n",
       "      <td>1</td>\n",
       "    </tr>\n",
       "    <tr>\n",
       "      <th>59380</th>\n",
       "      <td>79146</td>\n",
       "      <td>1</td>\n",
       "      <td>7</td>\n",
       "      <td>26</td>\n",
       "      <td>0.076923</td>\n",
       "      <td>2</td>\n",
       "      <td>3</td>\n",
       "      <td>1</td>\n",
       "      <td>0.447761</td>\n",
       "      <td>0.781818</td>\n",
       "      <td>...</td>\n",
       "      <td>0</td>\n",
       "      <td>0</td>\n",
       "      <td>0</td>\n",
       "      <td>0</td>\n",
       "      <td>0</td>\n",
       "      <td>0</td>\n",
       "      <td>0</td>\n",
       "      <td>0</td>\n",
       "      <td>0</td>\n",
       "      <td>0</td>\n",
       "    </tr>\n",
       "  </tbody>\n",
       "</table>\n",
       "<p>59381 rows × 124 columns</p>\n",
       "</div>"
      ],
      "text/plain": [
       "          Id  Product_Info_1  Product_Info_2  Product_Info_3  Product_Info_4  \\\n",
       "0          2               1              16              10        0.076923   \n",
       "1          5               1               0              26        0.076923   \n",
       "2          6               1              18              26        0.076923   \n",
       "3          7               1              17              10        0.487179   \n",
       "4          8               1              15              26        0.230769   \n",
       "...      ...             ...             ...             ...             ...   \n",
       "59376  79142               1              14              10        0.230769   \n",
       "59377  79143               1              16              26        0.230769   \n",
       "59378  79144               1              18              26        0.076923   \n",
       "59379  79145               1              15              10        0.230769   \n",
       "59380  79146               1               7              26        0.076923   \n",
       "\n",
       "       Product_Info_5  Product_Info_6  Product_Info_7   Ins_Age        Ht  \\\n",
       "0                   2               1               1  0.641791  0.581818   \n",
       "1                   2               3               1  0.059701  0.600000   \n",
       "2                   2               3               1  0.029851  0.745455   \n",
       "3                   2               3               1  0.164179  0.672727   \n",
       "4                   2               3               1  0.417910  0.654545   \n",
       "...               ...             ...             ...       ...       ...   \n",
       "59376               2               3               1  0.074627  0.709091   \n",
       "59377               2               3               1  0.432836  0.800000   \n",
       "59378               2               3               1  0.104478  0.745455   \n",
       "59379               2               3               1  0.507463  0.690909   \n",
       "59380               2               3               1  0.447761  0.781818   \n",
       "\n",
       "       ...  Medical_Keyword_40  Medical_Keyword_41  Medical_Keyword_42  \\\n",
       "0      ...                   0                   0                   0   \n",
       "1      ...                   0                   0                   0   \n",
       "2      ...                   0                   0                   0   \n",
       "3      ...                   0                   0                   0   \n",
       "4      ...                   0                   0                   0   \n",
       "...    ...                 ...                 ...                 ...   \n",
       "59376  ...                   0                   0                   0   \n",
       "59377  ...                   0                   0                   0   \n",
       "59378  ...                   0                   0                   0   \n",
       "59379  ...                   1                   0                   0   \n",
       "59380  ...                   0                   0                   0   \n",
       "\n",
       "       Medical_Keyword_43  Medical_Keyword_44  Medical_Keyword_45  \\\n",
       "0                       0                   0                   0   \n",
       "1                       0                   0                   0   \n",
       "2                       0                   0                   0   \n",
       "3                       0                   0                   0   \n",
       "4                       0                   0                   0   \n",
       "...                   ...                 ...                 ...   \n",
       "59376                   0                   0                   0   \n",
       "59377                   0                   0                   0   \n",
       "59378                   0                   0                   0   \n",
       "59379                   0                   0                   0   \n",
       "59380                   0                   0                   0   \n",
       "\n",
       "       Medical_Keyword_46  Medical_Keyword_47  Medical_Keyword_48  Response  \n",
       "0                       0                   0                   0         1  \n",
       "1                       0                   0                   0         0  \n",
       "2                       0                   0                   0         1  \n",
       "3                       0                   0                   0         1  \n",
       "4                       0                   0                   0         1  \n",
       "...                   ...                 ...                 ...       ...  \n",
       "59376                   0                   0                   0         0  \n",
       "59377                   0                   0                   0         0  \n",
       "59378                   0                   0                   0         1  \n",
       "59379                   0                   0                   0         1  \n",
       "59380                   0                   0                   0         0  \n",
       "\n",
       "[59381 rows x 124 columns]"
      ]
     },
     "execution_count": 49,
     "metadata": {},
     "output_type": "execute_result"
    }
   ],
   "source": [
    "#Subset columns - only feature columns from data + Response Column\n",
    "dfXY = data[dfFeatureCorr['feature'].values]\n",
    "dfXY['Response'] = data['Response']\n",
    "dfXY"
   ]
  },
  {
   "cell_type": "code",
   "execution_count": 50,
   "metadata": {},
   "outputs": [
    {
     "name": "stdout",
     "output_type": "stream",
     "text": [
      "                       count          mean           std  min           25%           50%           75%           max\n",
      "Id                   59381.0  39507.211515  22815.883089  2.0  19780.000000  39487.000000  59211.000000  79146.000000\n",
      "Product_Info_1       59381.0      1.026355      0.160191  1.0      1.000000      1.000000      1.000000      2.000000\n",
      "Product_Info_2       59381.0     12.505381      5.415902  0.0      7.000000     15.000000     16.000000     18.000000\n",
      "Product_Info_3       59381.0     24.415655      5.072885  1.0     26.000000     26.000000     26.000000     38.000000\n",
      "Product_Info_4       59381.0      0.328952      0.282562  0.0      0.076923      0.230769      0.487179      1.000000\n",
      "Product_Info_5       59381.0      2.006955      0.083107  2.0      2.000000      2.000000      2.000000      3.000000\n",
      "Product_Info_6       59381.0      2.673599      0.739103  1.0      3.000000      3.000000      3.000000      3.000000\n",
      "Product_Info_7       59381.0      1.043583      0.291949  1.0      1.000000      1.000000      1.000000      3.000000\n",
      "Ins_Age              59381.0      0.405567      0.197190  0.0      0.238806      0.402985      0.567164      1.000000\n",
      "Ht                   59381.0      0.707283      0.074239  0.0      0.654545      0.709091      0.763636      1.000000\n",
      "Wt                   59381.0      0.292587      0.089037  0.0      0.225941      0.288703      0.345188      1.000000\n",
      "BMI                  59381.0      0.469462      0.122213  0.0      0.385517      0.451349      0.532858      1.000000\n",
      "Employment_Info_1    59381.0      0.077582      0.082334  0.0      0.035000      0.060000      0.100000      1.000000\n",
      "Employment_Info_2    59381.0      8.641821      4.227082  1.0      9.000000      9.000000      9.000000     38.000000\n",
      "Employment_Info_3    59381.0      1.300904      0.715034  1.0      1.000000      1.000000      1.000000      3.000000\n",
      "Employment_Info_4    59381.0      0.006283      0.030887  0.0      0.000000      0.000000      0.000000      1.000000\n",
      "Employment_Info_5    59381.0      2.142958      0.350033  2.0      2.000000      2.000000      2.000000      3.000000\n",
      "Employment_Info_6    59381.0      0.361469      0.315993  0.0      0.100000      0.350000      0.500000      1.000000\n",
      "InsuredInfo_1        59381.0      1.209326      0.417939  1.0      1.000000      1.000000      1.000000      3.000000\n",
      "InsuredInfo_2        59381.0      2.007427      0.085858  2.0      2.000000      2.000000      2.000000      3.000000\n",
      "InsuredInfo_3        59381.0      5.835840      2.674536  1.0      3.000000      6.000000      8.000000     11.000000\n",
      "InsuredInfo_4        59381.0      2.883666      0.320627  2.0      3.000000      3.000000      3.000000      3.000000\n",
      "InsuredInfo_5        59381.0      1.027180      0.231566  1.0      1.000000      1.000000      1.000000      3.000000\n",
      "InsuredInfo_6        59381.0      1.409188      0.491688  1.0      1.000000      1.000000      2.000000      2.000000\n",
      "InsuredInfo_7        59381.0      1.038531      0.274915  1.0      1.000000      1.000000      1.000000      3.000000\n",
      "Insurance_History_1  59381.0      1.727606      0.445195  1.0      1.000000      2.000000      2.000000      2.000000\n",
      "Insurance_History_2  59381.0      1.055792      0.329328  1.0      1.000000      1.000000      1.000000      3.000000\n",
      "Insurance_History_3  59381.0      2.146983      0.989139  1.0      1.000000      3.000000      3.000000      3.000000\n",
      "Insurance_History_4  59381.0      1.958707      0.945739  1.0      1.000000      2.000000      3.000000      3.000000\n",
      "Insurance_History_5  59381.0      0.001733      0.005551  0.0      0.000667      0.001733      0.001733      1.000000\n",
      "Insurance_History_7  59381.0      1.901989      0.971223  1.0      1.000000      1.000000      3.000000      3.000000\n",
      "Insurance_History_8  59381.0      2.048484      0.755149  1.0      1.000000      2.000000      3.000000      3.000000\n",
      "Insurance_History_9  59381.0      2.419360      0.509577  1.0      2.000000      2.000000      3.000000      3.000000\n",
      "Family_Hist_1        59381.0      2.686230      0.483159  1.0      2.000000      3.000000      3.000000      3.000000\n",
      "Family_Hist_2        59381.0      0.474550      0.111464  0.0      0.449275      0.474550      0.474550      1.000000\n",
      "Family_Hist_3        59381.0      0.497737      0.091214  0.0      0.497737      0.497737      0.497737      1.000000\n",
      "Family_Hist_4        59381.0      0.444890      0.134119  0.0      0.380282      0.444890      0.492958      0.943662\n",
      "Family_Hist_5        59381.0      0.484635      0.070277  0.0      0.484635      0.484635      0.484635      1.000000\n",
      "Medical_History_1    59381.0      7.962172     12.013085  0.0      2.000000      5.000000      8.000000    240.000000\n",
      "Medical_History_2    59381.0    253.987100    178.621154  1.0    112.000000    162.000000    418.000000    648.000000\n",
      "Medical_History_3    59381.0      2.102171      0.303098  1.0      2.000000      2.000000      2.000000      3.000000\n",
      "Medical_History_4    59381.0      1.654873      0.475414  1.0      1.000000      2.000000      2.000000      2.000000\n",
      "Medical_History_5    59381.0      1.007359      0.085864  1.0      1.000000      1.000000      1.000000      3.000000\n",
      "Medical_History_6    59381.0      2.889897      0.456128  1.0      3.000000      3.000000      3.000000      3.000000\n",
      "Medical_History_7    59381.0      2.012277      0.172360  1.0      2.000000      2.000000      2.000000      3.000000\n",
      "Medical_History_8    59381.0      2.044088      0.291353  1.0      2.000000      2.000000      2.000000      3.000000\n",
      "Medical_History_9    59381.0      1.769943      0.421032  1.0      2.000000      2.000000      2.000000      3.000000\n",
      "Medical_History_11   59381.0      2.993836      0.095340  1.0      3.000000      3.000000      3.000000      3.000000\n",
      "Medical_History_12   59381.0      2.056601      0.231153  1.0      2.000000      2.000000      2.000000      3.000000\n",
      "Medical_History_13   59381.0      2.768141      0.640259  1.0      3.000000      3.000000      3.000000      3.000000\n",
      "Medical_History_14   59381.0      2.968542      0.197715  1.0      3.000000      3.000000      3.000000      3.000000\n",
      "Medical_History_16   59381.0      1.327529      0.740118  1.0      1.000000      1.000000      1.000000      3.000000\n",
      "Medical_History_17   59381.0      2.978006      0.146778  1.0      3.000000      3.000000      3.000000      3.000000\n",
      "Medical_History_18   59381.0      1.053536      0.225848  1.0      1.000000      1.000000      1.000000      3.000000\n",
      "Medical_History_19   59381.0      1.034455      0.182859  1.0      1.000000      1.000000      1.000000      3.000000\n",
      "Medical_History_20   59381.0      1.985079      0.121375  1.0      2.000000      2.000000      2.000000      3.000000\n",
      "Medical_History_21   59381.0      1.108991      0.311847  1.0      1.000000      1.000000      1.000000      3.000000\n",
      "Medical_History_22   59381.0      1.981644      0.134236  1.0      2.000000      2.000000      2.000000      2.000000\n",
      "Medical_History_23   59381.0      2.528115      0.849170  1.0      3.000000      3.000000      3.000000      3.000000\n",
      "Medical_History_25   59381.0      1.194961      0.406082  1.0      1.000000      1.000000      1.000000      3.000000\n",
      "Medical_History_26   59381.0      2.808979      0.393237  1.0      3.000000      3.000000      3.000000      3.000000\n",
      "Medical_History_27   59381.0      2.980213      0.197652  1.0      3.000000      3.000000      3.000000      3.000000\n",
      "Medical_History_28   59381.0      1.067210      0.250589  1.0      1.000000      1.000000      1.000000      3.000000\n",
      "Medical_History_29   59381.0      2.542699      0.839904  1.0      3.000000      3.000000      3.000000      3.000000\n",
      "Medical_History_30   59381.0      2.040771      0.198100  1.0      2.000000      2.000000      2.000000      3.000000\n",
      "Medical_History_31   59381.0      2.985265      0.170989  1.0      3.000000      3.000000      3.000000      3.000000\n",
      "Medical_History_33   59381.0      2.804618      0.593798  1.0      3.000000      3.000000      3.000000      3.000000\n",
      "Medical_History_34   59381.0      2.689076      0.724661  1.0      3.000000      3.000000      3.000000      3.000000\n",
      "Medical_History_35   59381.0      1.002055      0.063806  1.0      1.000000      1.000000      1.000000      3.000000\n",
      "Medical_History_36   59381.0      2.179468      0.412633  1.0      2.000000      2.000000      2.000000      3.000000\n",
      "Medical_History_37   59381.0      1.938398      0.240574  1.0      2.000000      2.000000      2.000000      3.000000\n",
      "Medical_History_38   59381.0      1.004850      0.069474  1.0      1.000000      1.000000      1.000000      2.000000\n",
      "Medical_History_39   59381.0      2.830720      0.556665  1.0      3.000000      3.000000      3.000000      3.000000\n",
      "Medical_History_40   59381.0      2.967599      0.252427  1.0      3.000000      3.000000      3.000000      3.000000\n",
      "Medical_History_41   59381.0      1.641064      0.933361  1.0      1.000000      1.000000      3.000000      3.000000\n",
      "Medical_Keyword_1    59381.0      0.042000      0.200591  0.0      0.000000      0.000000      0.000000      1.000000\n",
      "Medical_Keyword_2    59381.0      0.008942      0.094141  0.0      0.000000      0.000000      0.000000      1.000000\n",
      "Medical_Keyword_3    59381.0      0.049275      0.216443  0.0      0.000000      0.000000      0.000000      1.000000\n",
      "Medical_Keyword_4    59381.0      0.014550      0.119744  0.0      0.000000      0.000000      0.000000      1.000000\n",
      "Medical_Keyword_5    59381.0      0.008622      0.092456  0.0      0.000000      0.000000      0.000000      1.000000\n",
      "Medical_Keyword_6    59381.0      0.012597      0.111526  0.0      0.000000      0.000000      0.000000      1.000000\n",
      "Medical_Keyword_7    59381.0      0.013910      0.117119  0.0      0.000000      0.000000      0.000000      1.000000\n",
      "Medical_Keyword_8    59381.0      0.010407      0.101485  0.0      0.000000      0.000000      0.000000      1.000000\n",
      "Medical_Keyword_9    59381.0      0.006652      0.081289  0.0      0.000000      0.000000      0.000000      1.000000\n",
      "Medical_Keyword_10   59381.0      0.036459      0.187432  0.0      0.000000      0.000000      0.000000      1.000000\n",
      "Medical_Keyword_11   59381.0      0.058015      0.233774  0.0      0.000000      0.000000      0.000000      1.000000\n",
      "Medical_Keyword_12   59381.0      0.010003      0.099515  0.0      0.000000      0.000000      0.000000      1.000000\n",
      "Medical_Keyword_13   59381.0      0.005962      0.076981  0.0      0.000000      0.000000      0.000000      1.000000\n",
      "Medical_Keyword_14   59381.0      0.007848      0.088239  0.0      0.000000      0.000000      0.000000      1.000000\n",
      "Medical_Keyword_15   59381.0      0.190465      0.392671  0.0      0.000000      0.000000      0.000000      1.000000\n",
      "Medical_Keyword_16   59381.0      0.012715      0.112040  0.0      0.000000      0.000000      0.000000      1.000000\n",
      "Medical_Keyword_17   59381.0      0.009161      0.095275  0.0      0.000000      0.000000      0.000000      1.000000\n",
      "Medical_Keyword_18   59381.0      0.007494      0.086244  0.0      0.000000      0.000000      0.000000      1.000000\n",
      "Medical_Keyword_19   59381.0      0.009296      0.095967  0.0      0.000000      0.000000      0.000000      1.000000\n",
      "Medical_Keyword_20   59381.0      0.008134      0.089821  0.0      0.000000      0.000000      0.000000      1.000000\n",
      "Medical_Keyword_21   59381.0      0.014601      0.119949  0.0      0.000000      0.000000      0.000000      1.000000\n",
      "Medical_Keyword_22   59381.0      0.037167      0.189172  0.0      0.000000      0.000000      0.000000      1.000000\n",
      "Medical_Keyword_23   59381.0      0.097775      0.297013  0.0      0.000000      0.000000      0.000000      1.000000\n",
      "Medical_Keyword_24   59381.0      0.018895      0.136155  0.0      0.000000      0.000000      0.000000      1.000000\n",
      "Medical_Keyword_25   59381.0      0.089456      0.285404  0.0      0.000000      0.000000      0.000000      1.000000\n",
      "Medical_Keyword_26   59381.0      0.013439      0.115145  0.0      0.000000      0.000000      0.000000      1.000000\n",
      "Medical_Keyword_27   59381.0      0.011856      0.108237  0.0      0.000000      0.000000      0.000000      1.000000\n",
      "Medical_Keyword_28   59381.0      0.014937      0.121304  0.0      0.000000      0.000000      0.000000      1.000000\n",
      "Medical_Keyword_29   59381.0      0.011755      0.107780  0.0      0.000000      0.000000      0.000000      1.000000\n",
      "Medical_Keyword_30   59381.0      0.025042      0.156253  0.0      0.000000      0.000000      0.000000      1.000000\n",
      "Medical_Keyword_31   59381.0      0.010896      0.103813  0.0      0.000000      0.000000      0.000000      1.000000\n",
      "Medical_Keyword_32   59381.0      0.021168      0.143947  0.0      0.000000      0.000000      0.000000      1.000000\n",
      "Medical_Keyword_33   59381.0      0.022836      0.149380  0.0      0.000000      0.000000      0.000000      1.000000\n",
      "Medical_Keyword_34   59381.0      0.020646      0.142198  0.0      0.000000      0.000000      0.000000      1.000000\n",
      "Medical_Keyword_35   59381.0      0.006938      0.083007  0.0      0.000000      0.000000      0.000000      1.000000\n",
      "Medical_Keyword_36   59381.0      0.010407      0.101485  0.0      0.000000      0.000000      0.000000      1.000000\n",
      "Medical_Keyword_37   59381.0      0.066587      0.249307  0.0      0.000000      0.000000      0.000000      1.000000\n",
      "Medical_Keyword_38   59381.0      0.006837      0.082405  0.0      0.000000      0.000000      0.000000      1.000000\n",
      "Medical_Keyword_39   59381.0      0.013658      0.116066  0.0      0.000000      0.000000      0.000000      1.000000\n",
      "Medical_Keyword_40   59381.0      0.056954      0.231757  0.0      0.000000      0.000000      0.000000      1.000000\n",
      "Medical_Keyword_41   59381.0      0.010054      0.099764  0.0      0.000000      0.000000      0.000000      1.000000\n",
      "Medical_Keyword_42   59381.0      0.045536      0.208479  0.0      0.000000      0.000000      0.000000      1.000000\n",
      "Medical_Keyword_43   59381.0      0.010710      0.102937  0.0      0.000000      0.000000      0.000000      1.000000\n",
      "Medical_Keyword_44   59381.0      0.007528      0.086436  0.0      0.000000      0.000000      0.000000      1.000000\n",
      "Medical_Keyword_45   59381.0      0.013691      0.116207  0.0      0.000000      0.000000      0.000000      1.000000\n",
      "Medical_Keyword_46   59381.0      0.008488      0.091737  0.0      0.000000      0.000000      0.000000      1.000000\n",
      "Medical_Keyword_47   59381.0      0.019905      0.139676  0.0      0.000000      0.000000      0.000000      1.000000\n",
      "Medical_Keyword_48   59381.0      0.054496      0.226995  0.0      0.000000      0.000000      0.000000      1.000000\n",
      "Response             59381.0      0.328203      0.469563  0.0      0.000000      0.000000      1.000000      1.000000\n"
     ]
    }
   ],
   "source": [
    "print(dfXY.describe().T.to_string())"
   ]
  },
  {
   "cell_type": "code",
   "execution_count": 51,
   "metadata": {},
   "outputs": [],
   "source": [
    "# Take null value columns name.\n",
    "#list_data=dfXY.columns[dfXY.isna().any()].tolist()"
   ]
  },
  {
   "cell_type": "code",
   "execution_count": 52,
   "metadata": {},
   "outputs": [],
   "source": [
    "# Print columns name and data types which has null values.\n",
    "#for i in range(0,len(list_data)):\n",
    "#    print('column name: ',list_data[i],' Dtype:',dfXY[list_data[i]].dtypes)"
   ]
  },
  {
   "cell_type": "code",
   "execution_count": 53,
   "metadata": {},
   "outputs": [],
   "source": [
    "#Remove NaNs for PCA\n",
    "#dfXY = dfXY.dropna(axis=1) #losing 4 rows\n",
    "#dfXY"
   ]
  },
  {
   "cell_type": "code",
   "execution_count": 54,
   "metadata": {},
   "outputs": [],
   "source": [
    "dfY= dfXY[['Response']]\n",
    "dfX = dfXY.drop(columns='Response')"
   ]
  },
  {
   "cell_type": "code",
   "execution_count": 55,
   "metadata": {},
   "outputs": [
    {
     "data": {
      "text/plain": [
       "pandas.core.frame.DataFrame"
      ]
     },
     "execution_count": 55,
     "metadata": {},
     "output_type": "execute_result"
    }
   ],
   "source": [
    "type(dfY)"
   ]
  },
  {
   "cell_type": "code",
   "execution_count": 56,
   "metadata": {},
   "outputs": [],
   "source": [
    "#Reduce Dimensions of features from 127 to 100\n",
    "from sklearn import decomposition\n",
    "from sklearn import datasets\n",
    "\n",
    "pca = decomposition.PCA(n_components=100) #n_components ==> HyperParameter\n",
    "pca.fit(dfX)\n",
    "npX = pca.transform(dfX)"
   ]
  },
  {
   "cell_type": "code",
   "execution_count": 57,
   "metadata": {},
   "outputs": [
    {
     "data": {
      "text/plain": [
       "numpy.ndarray"
      ]
     },
     "execution_count": 57,
     "metadata": {},
     "output_type": "execute_result"
    }
   ],
   "source": [
    "type(npX)"
   ]
  },
  {
   "cell_type": "code",
   "execution_count": 58,
   "metadata": {},
   "outputs": [],
   "source": [
    "# defining column headers for the \n",
    "# Pandas dataframe\n",
    "columns = ['Feature_' + str(i) for i in range(1, len(npX[0]) + 1)]\n",
    "  \n",
    "# generating the Pandas dataframe\n",
    "# from the Numpy array and specifying the reduced dimensions column headers\n",
    "dfXY= pd.DataFrame(npX, columns = columns)"
   ]
  },
  {
   "cell_type": "code",
   "execution_count": 59,
   "metadata": {},
   "outputs": [
    {
     "data": {
      "text/html": [
       "<div>\n",
       "<style scoped>\n",
       "    .dataframe tbody tr th:only-of-type {\n",
       "        vertical-align: middle;\n",
       "    }\n",
       "\n",
       "    .dataframe tbody tr th {\n",
       "        vertical-align: top;\n",
       "    }\n",
       "\n",
       "    .dataframe thead th {\n",
       "        text-align: right;\n",
       "    }\n",
       "</style>\n",
       "<table border=\"1\" class=\"dataframe\">\n",
       "  <thead>\n",
       "    <tr style=\"text-align: right;\">\n",
       "      <th></th>\n",
       "      <th>Feature_1</th>\n",
       "      <th>Feature_2</th>\n",
       "      <th>Feature_3</th>\n",
       "      <th>Feature_4</th>\n",
       "      <th>Feature_5</th>\n",
       "      <th>Feature_6</th>\n",
       "      <th>Feature_7</th>\n",
       "      <th>Feature_8</th>\n",
       "      <th>Feature_9</th>\n",
       "      <th>Feature_10</th>\n",
       "      <th>...</th>\n",
       "      <th>Feature_91</th>\n",
       "      <th>Feature_92</th>\n",
       "      <th>Feature_93</th>\n",
       "      <th>Feature_94</th>\n",
       "      <th>Feature_95</th>\n",
       "      <th>Feature_96</th>\n",
       "      <th>Feature_97</th>\n",
       "      <th>Feature_98</th>\n",
       "      <th>Feature_99</th>\n",
       "      <th>Feature_100</th>\n",
       "    </tr>\n",
       "  </thead>\n",
       "  <tbody>\n",
       "    <tr>\n",
       "      <th>0</th>\n",
       "      <td>-39505.216243</td>\n",
       "      <td>-140.652618</td>\n",
       "      <td>-3.715001</td>\n",
       "      <td>0.151864</td>\n",
       "      <td>12.877069</td>\n",
       "      <td>8.432080</td>\n",
       "      <td>-0.137116</td>\n",
       "      <td>2.066225</td>\n",
       "      <td>1.049751</td>\n",
       "      <td>-0.647207</td>\n",
       "      <td>...</td>\n",
       "      <td>0.014602</td>\n",
       "      <td>0.006548</td>\n",
       "      <td>-0.037225</td>\n",
       "      <td>0.012364</td>\n",
       "      <td>0.029888</td>\n",
       "      <td>-0.158504</td>\n",
       "      <td>0.003981</td>\n",
       "      <td>0.034382</td>\n",
       "      <td>-0.000096</td>\n",
       "      <td>0.013453</td>\n",
       "    </tr>\n",
       "    <tr>\n",
       "      <th>1</th>\n",
       "      <td>-39502.206196</td>\n",
       "      <td>159.321443</td>\n",
       "      <td>-3.583449</td>\n",
       "      <td>12.934081</td>\n",
       "      <td>-3.638477</td>\n",
       "      <td>-6.251464</td>\n",
       "      <td>0.325982</td>\n",
       "      <td>1.372533</td>\n",
       "      <td>-1.350117</td>\n",
       "      <td>-0.481385</td>\n",
       "      <td>...</td>\n",
       "      <td>-0.003831</td>\n",
       "      <td>-0.011267</td>\n",
       "      <td>0.004377</td>\n",
       "      <td>-0.001145</td>\n",
       "      <td>0.007300</td>\n",
       "      <td>-0.016026</td>\n",
       "      <td>-0.042670</td>\n",
       "      <td>-0.004516</td>\n",
       "      <td>-0.014193</td>\n",
       "      <td>0.010036</td>\n",
       "    </tr>\n",
       "    <tr>\n",
       "      <th>2</th>\n",
       "      <td>-39501.219914</td>\n",
       "      <td>-249.656784</td>\n",
       "      <td>2.588738</td>\n",
       "      <td>-5.702205</td>\n",
       "      <td>0.829628</td>\n",
       "      <td>-0.782742</td>\n",
       "      <td>2.165713</td>\n",
       "      <td>-2.082795</td>\n",
       "      <td>-0.773540</td>\n",
       "      <td>0.107214</td>\n",
       "      <td>...</td>\n",
       "      <td>-0.004161</td>\n",
       "      <td>-0.001023</td>\n",
       "      <td>0.002921</td>\n",
       "      <td>0.003062</td>\n",
       "      <td>0.007317</td>\n",
       "      <td>0.008571</td>\n",
       "      <td>-0.041267</td>\n",
       "      <td>0.013731</td>\n",
       "      <td>0.020779</td>\n",
       "      <td>-0.007999</td>\n",
       "    </tr>\n",
       "    <tr>\n",
       "      <th>3</th>\n",
       "      <td>-39500.208263</td>\n",
       "      <td>97.337528</td>\n",
       "      <td>-8.194267</td>\n",
       "      <td>-0.024972</td>\n",
       "      <td>13.949333</td>\n",
       "      <td>5.708487</td>\n",
       "      <td>2.132347</td>\n",
       "      <td>-1.960475</td>\n",
       "      <td>-0.955815</td>\n",
       "      <td>0.229903</td>\n",
       "      <td>...</td>\n",
       "      <td>0.023108</td>\n",
       "      <td>-0.020270</td>\n",
       "      <td>0.001358</td>\n",
       "      <td>-0.001058</td>\n",
       "      <td>-0.000725</td>\n",
       "      <td>0.014560</td>\n",
       "      <td>-0.011905</td>\n",
       "      <td>0.012146</td>\n",
       "      <td>0.006612</td>\n",
       "      <td>-0.002539</td>\n",
       "    </tr>\n",
       "    <tr>\n",
       "      <th>4</th>\n",
       "      <td>-39499.214579</td>\n",
       "      <td>-90.663132</td>\n",
       "      <td>0.205206</td>\n",
       "      <td>-2.861797</td>\n",
       "      <td>-0.462820</td>\n",
       "      <td>-0.439350</td>\n",
       "      <td>0.250171</td>\n",
       "      <td>-2.219235</td>\n",
       "      <td>-0.737942</td>\n",
       "      <td>0.077737</td>\n",
       "      <td>...</td>\n",
       "      <td>-0.002036</td>\n",
       "      <td>-0.006945</td>\n",
       "      <td>-0.002736</td>\n",
       "      <td>0.001868</td>\n",
       "      <td>-0.007831</td>\n",
       "      <td>-0.004345</td>\n",
       "      <td>0.009640</td>\n",
       "      <td>-0.000812</td>\n",
       "      <td>-0.003381</td>\n",
       "      <td>0.005494</td>\n",
       "    </tr>\n",
       "    <tr>\n",
       "      <th>...</th>\n",
       "      <td>...</td>\n",
       "      <td>...</td>\n",
       "      <td>...</td>\n",
       "      <td>...</td>\n",
       "      <td>...</td>\n",
       "      <td>...</td>\n",
       "      <td>...</td>\n",
       "      <td>...</td>\n",
       "      <td>...</td>\n",
       "      <td>...</td>\n",
       "      <td>...</td>\n",
       "      <td>...</td>\n",
       "      <td>...</td>\n",
       "      <td>...</td>\n",
       "      <td>...</td>\n",
       "      <td>...</td>\n",
       "      <td>...</td>\n",
       "      <td>...</td>\n",
       "      <td>...</td>\n",
       "      <td>...</td>\n",
       "      <td>...</td>\n",
       "    </tr>\n",
       "    <tr>\n",
       "      <th>59376</th>\n",
       "      <td>39634.788704</td>\n",
       "      <td>5.683246</td>\n",
       "      <td>-8.147271</td>\n",
       "      <td>4.684449</td>\n",
       "      <td>15.660381</td>\n",
       "      <td>-1.477635</td>\n",
       "      <td>2.183350</td>\n",
       "      <td>-1.780738</td>\n",
       "      <td>0.048852</td>\n",
       "      <td>-0.963019</td>\n",
       "      <td>...</td>\n",
       "      <td>0.007027</td>\n",
       "      <td>-0.011458</td>\n",
       "      <td>0.002970</td>\n",
       "      <td>-0.005611</td>\n",
       "      <td>0.004286</td>\n",
       "      <td>0.000631</td>\n",
       "      <td>-0.025485</td>\n",
       "      <td>0.012130</td>\n",
       "      <td>-0.000811</td>\n",
       "      <td>-0.001417</td>\n",
       "    </tr>\n",
       "    <tr>\n",
       "      <th>59377</th>\n",
       "      <td>39635.796394</td>\n",
       "      <td>235.715574</td>\n",
       "      <td>15.684611</td>\n",
       "      <td>-3.410986</td>\n",
       "      <td>-0.453615</td>\n",
       "      <td>-0.928919</td>\n",
       "      <td>-2.867995</td>\n",
       "      <td>0.532761</td>\n",
       "      <td>-1.410761</td>\n",
       "      <td>-0.069319</td>\n",
       "      <td>...</td>\n",
       "      <td>-0.009125</td>\n",
       "      <td>0.000155</td>\n",
       "      <td>-0.009021</td>\n",
       "      <td>-0.007197</td>\n",
       "      <td>-0.009967</td>\n",
       "      <td>-0.005476</td>\n",
       "      <td>0.004907</td>\n",
       "      <td>-0.022875</td>\n",
       "      <td>-0.021493</td>\n",
       "      <td>0.006750</td>\n",
       "    </tr>\n",
       "    <tr>\n",
       "      <th>59378</th>\n",
       "      <td>39636.785376</td>\n",
       "      <td>-93.314209</td>\n",
       "      <td>0.317522</td>\n",
       "      <td>-5.661492</td>\n",
       "      <td>0.614032</td>\n",
       "      <td>-0.852966</td>\n",
       "      <td>0.227429</td>\n",
       "      <td>-2.204782</td>\n",
       "      <td>-0.571930</td>\n",
       "      <td>0.067879</td>\n",
       "      <td>...</td>\n",
       "      <td>0.010743</td>\n",
       "      <td>0.005261</td>\n",
       "      <td>0.012847</td>\n",
       "      <td>0.019116</td>\n",
       "      <td>-0.015028</td>\n",
       "      <td>-0.007955</td>\n",
       "      <td>0.018761</td>\n",
       "      <td>-0.013912</td>\n",
       "      <td>0.000518</td>\n",
       "      <td>0.003119</td>\n",
       "    </tr>\n",
       "    <tr>\n",
       "      <th>59379</th>\n",
       "      <td>39637.780498</td>\n",
       "      <td>-239.314864</td>\n",
       "      <td>-7.503640</td>\n",
       "      <td>1.764060</td>\n",
       "      <td>13.557786</td>\n",
       "      <td>5.921760</td>\n",
       "      <td>-2.833416</td>\n",
       "      <td>-1.899379</td>\n",
       "      <td>0.992539</td>\n",
       "      <td>-1.013449</td>\n",
       "      <td>...</td>\n",
       "      <td>-0.002670</td>\n",
       "      <td>-0.005837</td>\n",
       "      <td>0.001262</td>\n",
       "      <td>-0.012145</td>\n",
       "      <td>-0.024469</td>\n",
       "      <td>-0.008323</td>\n",
       "      <td>0.027879</td>\n",
       "      <td>-0.003314</td>\n",
       "      <td>-0.018529</td>\n",
       "      <td>-0.006978</td>\n",
       "    </tr>\n",
       "    <tr>\n",
       "      <th>59380</th>\n",
       "      <td>39638.785379</td>\n",
       "      <td>-93.322078</td>\n",
       "      <td>0.195271</td>\n",
       "      <td>4.473001</td>\n",
       "      <td>-3.454133</td>\n",
       "      <td>0.385589</td>\n",
       "      <td>0.447749</td>\n",
       "      <td>-1.997886</td>\n",
       "      <td>-0.504697</td>\n",
       "      <td>0.136299</td>\n",
       "      <td>...</td>\n",
       "      <td>0.006046</td>\n",
       "      <td>0.009464</td>\n",
       "      <td>0.000072</td>\n",
       "      <td>0.001204</td>\n",
       "      <td>-0.024690</td>\n",
       "      <td>-0.010012</td>\n",
       "      <td>0.074704</td>\n",
       "      <td>-0.022391</td>\n",
       "      <td>-0.022819</td>\n",
       "      <td>0.006060</td>\n",
       "    </tr>\n",
       "  </tbody>\n",
       "</table>\n",
       "<p>59381 rows × 100 columns</p>\n",
       "</div>"
      ],
      "text/plain": [
       "          Feature_1   Feature_2  Feature_3  Feature_4  Feature_5  Feature_6  \\\n",
       "0     -39505.216243 -140.652618  -3.715001   0.151864  12.877069   8.432080   \n",
       "1     -39502.206196  159.321443  -3.583449  12.934081  -3.638477  -6.251464   \n",
       "2     -39501.219914 -249.656784   2.588738  -5.702205   0.829628  -0.782742   \n",
       "3     -39500.208263   97.337528  -8.194267  -0.024972  13.949333   5.708487   \n",
       "4     -39499.214579  -90.663132   0.205206  -2.861797  -0.462820  -0.439350   \n",
       "...             ...         ...        ...        ...        ...        ...   \n",
       "59376  39634.788704    5.683246  -8.147271   4.684449  15.660381  -1.477635   \n",
       "59377  39635.796394  235.715574  15.684611  -3.410986  -0.453615  -0.928919   \n",
       "59378  39636.785376  -93.314209   0.317522  -5.661492   0.614032  -0.852966   \n",
       "59379  39637.780498 -239.314864  -7.503640   1.764060  13.557786   5.921760   \n",
       "59380  39638.785379  -93.322078   0.195271   4.473001  -3.454133   0.385589   \n",
       "\n",
       "       Feature_7  Feature_8  Feature_9  Feature_10  ...  Feature_91  \\\n",
       "0      -0.137116   2.066225   1.049751   -0.647207  ...    0.014602   \n",
       "1       0.325982   1.372533  -1.350117   -0.481385  ...   -0.003831   \n",
       "2       2.165713  -2.082795  -0.773540    0.107214  ...   -0.004161   \n",
       "3       2.132347  -1.960475  -0.955815    0.229903  ...    0.023108   \n",
       "4       0.250171  -2.219235  -0.737942    0.077737  ...   -0.002036   \n",
       "...          ...        ...        ...         ...  ...         ...   \n",
       "59376   2.183350  -1.780738   0.048852   -0.963019  ...    0.007027   \n",
       "59377  -2.867995   0.532761  -1.410761   -0.069319  ...   -0.009125   \n",
       "59378   0.227429  -2.204782  -0.571930    0.067879  ...    0.010743   \n",
       "59379  -2.833416  -1.899379   0.992539   -1.013449  ...   -0.002670   \n",
       "59380   0.447749  -1.997886  -0.504697    0.136299  ...    0.006046   \n",
       "\n",
       "       Feature_92  Feature_93  Feature_94  Feature_95  Feature_96  Feature_97  \\\n",
       "0        0.006548   -0.037225    0.012364    0.029888   -0.158504    0.003981   \n",
       "1       -0.011267    0.004377   -0.001145    0.007300   -0.016026   -0.042670   \n",
       "2       -0.001023    0.002921    0.003062    0.007317    0.008571   -0.041267   \n",
       "3       -0.020270    0.001358   -0.001058   -0.000725    0.014560   -0.011905   \n",
       "4       -0.006945   -0.002736    0.001868   -0.007831   -0.004345    0.009640   \n",
       "...           ...         ...         ...         ...         ...         ...   \n",
       "59376   -0.011458    0.002970   -0.005611    0.004286    0.000631   -0.025485   \n",
       "59377    0.000155   -0.009021   -0.007197   -0.009967   -0.005476    0.004907   \n",
       "59378    0.005261    0.012847    0.019116   -0.015028   -0.007955    0.018761   \n",
       "59379   -0.005837    0.001262   -0.012145   -0.024469   -0.008323    0.027879   \n",
       "59380    0.009464    0.000072    0.001204   -0.024690   -0.010012    0.074704   \n",
       "\n",
       "       Feature_98  Feature_99  Feature_100  \n",
       "0        0.034382   -0.000096     0.013453  \n",
       "1       -0.004516   -0.014193     0.010036  \n",
       "2        0.013731    0.020779    -0.007999  \n",
       "3        0.012146    0.006612    -0.002539  \n",
       "4       -0.000812   -0.003381     0.005494  \n",
       "...           ...         ...          ...  \n",
       "59376    0.012130   -0.000811    -0.001417  \n",
       "59377   -0.022875   -0.021493     0.006750  \n",
       "59378   -0.013912    0.000518     0.003119  \n",
       "59379   -0.003314   -0.018529    -0.006978  \n",
       "59380   -0.022391   -0.022819     0.006060  \n",
       "\n",
       "[59381 rows x 100 columns]"
      ]
     },
     "execution_count": 59,
     "metadata": {},
     "output_type": "execute_result"
    }
   ],
   "source": [
    "dfXY"
   ]
  },
  {
   "cell_type": "code",
   "execution_count": 60,
   "metadata": {},
   "outputs": [
    {
     "name": "stdout",
     "output_type": "stream",
     "text": [
      "               count          mean           std           min           25%        50%           75%           max\n",
      "Feature_1    59381.0  2.007533e-12  22815.883102 -39505.216243 -19727.216265 -20.214601  19703.785382  39638.785379\n",
      "Feature_2    59381.0 -7.413069e-15    178.620012   -254.225710   -141.356922 -91.575904    163.318899    393.370018\n",
      "Feature_3    59381.0  4.231116e-16     12.012757     -9.110572     -6.026697  -2.545121      0.349543    232.105666\n",
      "Feature_4    59381.0  3.503594e-16      5.464162    -12.415728     -4.152298  -2.485876      4.414302     19.700645\n",
      "Feature_5    59381.0  2.546328e-16      5.228747    -17.490418     -2.623281  -0.700089      0.240323     23.071593\n",
      "Feature_6    59381.0  1.429677e-15      4.017458    -14.430123     -0.785141  -0.470830      1.991877     32.797548\n",
      "Feature_7    59381.0 -1.098463e-15      2.676141     -5.188535     -2.787915   0.216184      2.172469      5.707260\n",
      "Feature_8    59381.0  9.835909e-17      1.758437     -2.784234     -1.956599   1.049068      1.561381      2.895062\n",
      "Feature_9    59381.0 -7.095735e-17      1.064752     -2.171708     -0.796801  -0.191755      0.679335      4.507316\n",
      "Feature_10   59381.0 -2.656413e-17      0.885624     -2.150881     -0.469355   0.022928      0.354828      2.734653\n",
      "Feature_11   59381.0 -9.752148e-18      0.838553     -1.661826     -0.547009  -0.076348      0.726080      2.049204\n",
      "Feature_12   59381.0 -2.109575e-16      0.767640     -1.964020     -0.384880  -0.006749      0.111432      1.970317\n",
      "Feature_13   59381.0  1.699147e-17      0.760747     -2.108961     -0.508974  -0.112081      0.421524      3.883607\n",
      "Feature_14   59381.0  1.017394e-16      0.744827     -1.016390     -0.395315  -0.278878     -0.111341      2.304569\n",
      "Feature_15   59381.0  1.751797e-16      0.705735     -1.985535     -0.312207  -0.134460      0.188207      2.370839\n",
      "Feature_16   59381.0  6.868384e-17      0.688620     -2.111470     -0.454983  -0.213871      0.600530      2.885389\n",
      "Feature_17   59381.0  4.185048e-17      0.666782     -1.704534     -0.394811  -0.200164      0.479641      3.492529\n",
      "Feature_18   59381.0 -4.217954e-17      0.640924     -1.855237     -0.269699  -0.081100      0.126757      2.583927\n",
      "Feature_19   59381.0  5.107912e-17      0.563202     -1.025156     -0.209166  -0.080997     -0.002797      2.661278\n",
      "Feature_20   59381.0  8.663258e-17      0.504256     -1.381497     -0.282997  -0.049090      0.138421      2.792102\n",
      "Feature_21   59381.0 -2.461969e-16      0.480589     -1.429781     -0.343374  -0.165802      0.439966      2.065453\n",
      "Feature_22   59381.0  7.403855e-17      0.461007     -2.143763     -0.292751   0.009402      0.316753      2.151562\n",
      "Feature_23   59381.0 -5.082485e-17      0.449863     -1.720798     -0.279653  -0.047668      0.232801      3.510852\n",
      "Feature_24   59381.0  3.111115e-18      0.411389     -1.672384     -0.295105  -0.035289      0.254520      1.707246\n",
      "Feature_25   59381.0 -5.740605e-17      0.400374     -1.468483     -0.291685  -0.025061      0.262162      1.515619\n",
      "Feature_26   59381.0 -5.360690e-17      0.381827     -1.039694     -0.292640  -0.063529      0.246553      1.850111\n",
      "Feature_27   59381.0  1.223506e-16      0.342266     -1.409266     -0.218881  -0.037674      0.185695      1.659818\n",
      "Feature_28   59381.0  6.596162e-17      0.336939     -1.454927     -0.187501  -0.062744      0.124845      2.468611\n",
      "Feature_29   59381.0  2.004276e-18      0.327576     -1.090790     -0.078571  -0.017899      0.046620      2.542126\n",
      "Feature_30   59381.0 -1.073783e-16      0.321103     -1.252681     -0.155178  -0.056938      0.086269      2.136569\n",
      "Feature_31   59381.0  2.147866e-17      0.317566     -1.351242     -0.149417  -0.072397      0.033321      1.950279\n",
      "Feature_32   59381.0 -1.236668e-16      0.313869     -1.294913     -0.189935  -0.012859      0.150828      1.893212\n",
      "Feature_33   59381.0 -6.829495e-17      0.298540     -1.514234     -0.133297   0.006639      0.146064      1.755068\n",
      "Feature_34   59381.0 -7.224368e-18      0.286235     -0.776027     -0.118052  -0.041470      0.023315      3.104221\n",
      "Feature_35   59381.0 -1.601775e-16      0.282094     -1.431671     -0.125889  -0.010423      0.107289      2.376115\n",
      "Feature_36   59381.0 -1.573506e-17      0.258602     -1.072429     -0.128597  -0.013213      0.068847      1.185901\n",
      "Feature_37   59381.0 -8.744028e-17      0.253080     -0.815338     -0.139300  -0.044987      0.053157      2.072026\n",
      "Feature_38   59381.0  1.493335e-16      0.247906     -1.139612     -0.162874  -0.047552      0.133130      1.390277\n",
      "Feature_39   59381.0 -2.578636e-17      0.245156     -1.417407     -0.081610  -0.003226      0.079037      1.497718\n",
      "Feature_40   59381.0  6.736760e-17      0.244306     -1.032597     -0.123046  -0.019161      0.094358      1.515624\n",
      "Feature_41   59381.0 -1.257608e-16      0.241008     -1.431212     -0.080579  -0.000216      0.075677      2.060681\n",
      "Feature_42   59381.0 -1.470600e-16      0.239803     -1.299179     -0.116563  -0.000138      0.122217      1.657885\n",
      "Feature_43   59381.0  1.160685e-17      0.229818     -1.098157     -0.062020  -0.010389      0.050253      1.219830\n",
      "Feature_44   59381.0 -6.916248e-17      0.225161     -0.681315     -0.066478  -0.012250      0.026877      1.604451\n",
      "Feature_45   59381.0 -3.627141e-17      0.220870     -0.906724     -0.076412  -0.027863      0.037073      1.352648\n",
      "Feature_46   59381.0  9.393174e-18      0.220536     -0.904907     -0.082334  -0.029450      0.035306      1.630551\n",
      "Feature_47   59381.0 -1.510686e-17      0.214823     -1.418672     -0.028007  -0.003827      0.018460      2.023754\n",
      "Feature_48   59381.0  2.275003e-17      0.206699     -0.982535     -0.087127  -0.037092      0.008149      1.984925\n",
      "Feature_49   59381.0 -5.261972e-17      0.200845     -1.093536     -0.072080  -0.026819      0.014249      1.377795\n",
      "Feature_50   59381.0  8.981848e-18      0.195623     -0.549804     -0.029474  -0.003546      0.020191      2.189631\n",
      "Feature_51   59381.0  9.699798e-18      0.186496     -1.137924     -0.055551  -0.011355      0.017550      1.769404\n",
      "Feature_52   59381.0 -2.461969e-17      0.179004     -0.688997     -0.045950  -0.004128      0.026595      1.165270\n",
      "Feature_53   59381.0  4.404172e-17      0.170796     -0.278207     -0.033054  -0.012418      0.006572      2.081444\n",
      "Feature_54   59381.0 -9.430567e-18      0.166430     -0.895590     -0.079625   0.003137      0.080702      1.075332\n",
      "Feature_55   59381.0  6.581205e-17      0.164710     -0.921728     -0.090926  -0.010072      0.076310      0.993607\n",
      "Feature_56   59381.0 -7.569881e-17      0.159277     -0.319214     -0.035703  -0.016473     -0.001716      1.751746\n",
      "Feature_57   59381.0  2.989961e-17      0.156833     -0.456690     -0.075696  -0.017273      0.040470      1.117694\n",
      "Feature_58   59381.0  8.349529e-17      0.153590     -1.046270     -0.033783  -0.009177      0.020331      1.594122\n",
      "Feature_59   59381.0 -8.712617e-18      0.145295     -0.905303     -0.023593   0.001911      0.028849      0.910825\n",
      "Feature_60   59381.0  4.158125e-18      0.144075     -0.506305     -0.036369  -0.010887      0.007640      1.535482\n",
      "Feature_61   59381.0  5.938041e-18      0.140631     -0.578801     -0.044831  -0.008600      0.020733      1.111406\n",
      "Feature_62   59381.0  1.316839e-16      0.136431     -1.079043     -0.056793  -0.006305      0.028913      1.288981\n",
      "Feature_63   59381.0  5.875221e-17      0.135515     -0.503086     -0.050293  -0.009039      0.015000      1.139237\n",
      "Feature_64   59381.0  2.991457e-18      0.132417     -0.981368     -0.029455  -0.005521      0.021333      0.991496\n",
      "Feature_65   59381.0 -5.552143e-17      0.131097     -0.715482     -0.066457  -0.014689      0.047334      0.945138\n",
      "Feature_66   59381.0 -2.333336e-18      0.128186     -0.832351     -0.067400  -0.008071      0.063343      0.859085\n",
      "Feature_67   59381.0  4.173082e-18      0.124307     -0.731378     -0.012066  -0.001211      0.009400      0.926357\n",
      "Feature_68   59381.0  9.464969e-17      0.119981     -0.953816     -0.024560  -0.007496      0.006943      1.151809\n",
      "Feature_69   59381.0  1.782908e-17      0.117737     -1.008085     -0.014734  -0.002015      0.010809      1.168530\n",
      "Feature_70   59381.0 -1.492737e-17      0.116702     -0.852114     -0.023376  -0.004540      0.018216      1.699645\n",
      "Feature_71   59381.0 -2.490388e-18      0.115466     -1.071277     -0.013928  -0.000798      0.015412      1.123393\n",
      "Feature_72   59381.0 -1.666241e-17      0.114501     -0.977903     -0.019529  -0.003184      0.012655      0.991566\n",
      "Feature_73   59381.0 -9.976508e-18      0.113411     -0.844667     -0.016748   0.000092      0.013167      1.295882\n",
      "Feature_74   59381.0 -1.101604e-17      0.113205     -0.632459     -0.029497  -0.005661      0.008094      1.286170\n",
      "Feature_75   59381.0  1.736541e-17      0.109999     -0.913726     -0.024079   0.000670      0.024474      1.107136\n",
      "Feature_76   59381.0 -6.027785e-18      0.108761     -0.751067     -0.020040  -0.001214      0.013438      1.200858\n",
      "Feature_77   59381.0 -2.497866e-18      0.107445     -0.944347     -0.006991   0.000641      0.008056      0.977620\n",
      "Feature_78   59381.0  3.410261e-18      0.104515     -0.841591     -0.019506  -0.001760      0.017024      0.938658\n",
      "Feature_79   59381.0  6.469025e-19      0.101995     -0.837478     -0.032789  -0.000518      0.031923      0.869201\n",
      "Feature_80   59381.0  2.348293e-17      0.098561     -0.829372     -0.046899  -0.001883      0.043295      0.840303\n",
      "Feature_81   59381.0 -2.034190e-17      0.096132     -0.814445     -0.033373  -0.000152      0.029618      0.928808\n",
      "Feature_82   59381.0 -4.297975e-17      0.094347     -0.988152     -0.013505  -0.000097      0.014301      1.198075\n",
      "Feature_83   59381.0  1.419446e-17      0.094200     -0.645638     -0.031432  -0.003697      0.023527      1.069941\n",
      "Feature_84   59381.0  5.675541e-17      0.093427     -0.771987     -0.006265   0.002001      0.010831      0.980009\n",
      "Feature_85   59381.0 -5.930563e-17      0.091896     -0.741565     -0.018090  -0.002894      0.016946      1.077360\n",
      "Feature_86   59381.0 -1.735045e-18      0.091385     -0.729389     -0.015672  -0.005345      0.004269      0.958691\n",
      "Feature_87   59381.0  5.195412e-17      0.090966     -0.632530     -0.020463  -0.004047      0.011104      0.969038\n",
      "Feature_88   59381.0 -9.910696e-17      0.090057     -0.802058     -0.018879  -0.006318      0.005351      0.964735\n",
      "Feature_89   59381.0  8.443386e-17      0.089541     -0.991521     -0.013745  -0.001600      0.009219      1.106377\n",
      "Feature_90   59381.0  1.404489e-17      0.088786     -0.845286     -0.014048  -0.000288      0.012141      0.960441\n",
      "Feature_91   59381.0 -7.829390e-17      0.088286     -0.942516     -0.013501   0.001240      0.017443      0.962741\n",
      "Feature_92   59381.0 -4.363413e-17      0.087972     -0.682014     -0.018538  -0.002814      0.006922      0.981684\n",
      "Feature_93   59381.0 -3.260688e-18      0.087185     -0.832452     -0.012117  -0.001586      0.005888      0.931497\n",
      "Feature_94   59381.0 -1.364104e-17      0.086559     -0.779230     -0.010196  -0.001275      0.007868      0.974743\n",
      "Feature_95   59381.0  4.357057e-17      0.085461     -0.463264     -0.018096  -0.003081      0.012507      1.723722\n",
      "Feature_96   59381.0 -4.864856e-17      0.084854     -0.423534     -0.017302  -0.002760      0.009580      1.147201\n",
      "Feature_97   59381.0  4.790070e-18      0.084218     -0.442058     -0.042983  -0.008284      0.029117      0.691049\n",
      "Feature_98   59381.0 -6.816034e-17      0.082736     -0.688230     -0.022239  -0.003948      0.011712      1.148432\n",
      "Feature_99   59381.0  5.878212e-17      0.082313     -0.839867     -0.020651  -0.000948      0.015618      0.913725\n",
      "Feature_100  59381.0 -8.929498e-17      0.081573     -0.626256     -0.015234  -0.003202      0.006419      0.938782\n"
     ]
    }
   ],
   "source": [
    "print(dfXY.describe().T.to_string())"
   ]
  },
  {
   "cell_type": "code",
   "execution_count": 61,
   "metadata": {},
   "outputs": [],
   "source": [
    "dfXY['Response'] = dfY['Response']"
   ]
  },
  {
   "cell_type": "code",
   "execution_count": 62,
   "metadata": {},
   "outputs": [
    {
     "data": {
      "text/html": [
       "<div>\n",
       "<style scoped>\n",
       "    .dataframe tbody tr th:only-of-type {\n",
       "        vertical-align: middle;\n",
       "    }\n",
       "\n",
       "    .dataframe tbody tr th {\n",
       "        vertical-align: top;\n",
       "    }\n",
       "\n",
       "    .dataframe thead th {\n",
       "        text-align: right;\n",
       "    }\n",
       "</style>\n",
       "<table border=\"1\" class=\"dataframe\">\n",
       "  <thead>\n",
       "    <tr style=\"text-align: right;\">\n",
       "      <th></th>\n",
       "      <th>Feature_1</th>\n",
       "      <th>Feature_2</th>\n",
       "      <th>Feature_3</th>\n",
       "      <th>Feature_4</th>\n",
       "      <th>Feature_5</th>\n",
       "      <th>Feature_6</th>\n",
       "      <th>Feature_7</th>\n",
       "      <th>Feature_8</th>\n",
       "      <th>Feature_9</th>\n",
       "      <th>Feature_10</th>\n",
       "      <th>...</th>\n",
       "      <th>Feature_92</th>\n",
       "      <th>Feature_93</th>\n",
       "      <th>Feature_94</th>\n",
       "      <th>Feature_95</th>\n",
       "      <th>Feature_96</th>\n",
       "      <th>Feature_97</th>\n",
       "      <th>Feature_98</th>\n",
       "      <th>Feature_99</th>\n",
       "      <th>Feature_100</th>\n",
       "      <th>Response</th>\n",
       "    </tr>\n",
       "  </thead>\n",
       "  <tbody>\n",
       "    <tr>\n",
       "      <th>0</th>\n",
       "      <td>-39505.216243</td>\n",
       "      <td>-140.652618</td>\n",
       "      <td>-3.715001</td>\n",
       "      <td>0.151864</td>\n",
       "      <td>12.877069</td>\n",
       "      <td>8.432080</td>\n",
       "      <td>-0.137116</td>\n",
       "      <td>2.066225</td>\n",
       "      <td>1.049751</td>\n",
       "      <td>-0.647207</td>\n",
       "      <td>...</td>\n",
       "      <td>0.006548</td>\n",
       "      <td>-0.037225</td>\n",
       "      <td>0.012364</td>\n",
       "      <td>0.029888</td>\n",
       "      <td>-0.158504</td>\n",
       "      <td>0.003981</td>\n",
       "      <td>0.034382</td>\n",
       "      <td>-0.000096</td>\n",
       "      <td>0.013453</td>\n",
       "      <td>1</td>\n",
       "    </tr>\n",
       "    <tr>\n",
       "      <th>1</th>\n",
       "      <td>-39502.206196</td>\n",
       "      <td>159.321443</td>\n",
       "      <td>-3.583449</td>\n",
       "      <td>12.934081</td>\n",
       "      <td>-3.638477</td>\n",
       "      <td>-6.251464</td>\n",
       "      <td>0.325982</td>\n",
       "      <td>1.372533</td>\n",
       "      <td>-1.350117</td>\n",
       "      <td>-0.481385</td>\n",
       "      <td>...</td>\n",
       "      <td>-0.011267</td>\n",
       "      <td>0.004377</td>\n",
       "      <td>-0.001145</td>\n",
       "      <td>0.007300</td>\n",
       "      <td>-0.016026</td>\n",
       "      <td>-0.042670</td>\n",
       "      <td>-0.004516</td>\n",
       "      <td>-0.014193</td>\n",
       "      <td>0.010036</td>\n",
       "      <td>0</td>\n",
       "    </tr>\n",
       "    <tr>\n",
       "      <th>2</th>\n",
       "      <td>-39501.219914</td>\n",
       "      <td>-249.656784</td>\n",
       "      <td>2.588738</td>\n",
       "      <td>-5.702205</td>\n",
       "      <td>0.829628</td>\n",
       "      <td>-0.782742</td>\n",
       "      <td>2.165713</td>\n",
       "      <td>-2.082795</td>\n",
       "      <td>-0.773540</td>\n",
       "      <td>0.107214</td>\n",
       "      <td>...</td>\n",
       "      <td>-0.001023</td>\n",
       "      <td>0.002921</td>\n",
       "      <td>0.003062</td>\n",
       "      <td>0.007317</td>\n",
       "      <td>0.008571</td>\n",
       "      <td>-0.041267</td>\n",
       "      <td>0.013731</td>\n",
       "      <td>0.020779</td>\n",
       "      <td>-0.007999</td>\n",
       "      <td>1</td>\n",
       "    </tr>\n",
       "    <tr>\n",
       "      <th>3</th>\n",
       "      <td>-39500.208263</td>\n",
       "      <td>97.337528</td>\n",
       "      <td>-8.194267</td>\n",
       "      <td>-0.024972</td>\n",
       "      <td>13.949333</td>\n",
       "      <td>5.708487</td>\n",
       "      <td>2.132347</td>\n",
       "      <td>-1.960475</td>\n",
       "      <td>-0.955815</td>\n",
       "      <td>0.229903</td>\n",
       "      <td>...</td>\n",
       "      <td>-0.020270</td>\n",
       "      <td>0.001358</td>\n",
       "      <td>-0.001058</td>\n",
       "      <td>-0.000725</td>\n",
       "      <td>0.014560</td>\n",
       "      <td>-0.011905</td>\n",
       "      <td>0.012146</td>\n",
       "      <td>0.006612</td>\n",
       "      <td>-0.002539</td>\n",
       "      <td>1</td>\n",
       "    </tr>\n",
       "    <tr>\n",
       "      <th>4</th>\n",
       "      <td>-39499.214579</td>\n",
       "      <td>-90.663132</td>\n",
       "      <td>0.205206</td>\n",
       "      <td>-2.861797</td>\n",
       "      <td>-0.462820</td>\n",
       "      <td>-0.439350</td>\n",
       "      <td>0.250171</td>\n",
       "      <td>-2.219235</td>\n",
       "      <td>-0.737942</td>\n",
       "      <td>0.077737</td>\n",
       "      <td>...</td>\n",
       "      <td>-0.006945</td>\n",
       "      <td>-0.002736</td>\n",
       "      <td>0.001868</td>\n",
       "      <td>-0.007831</td>\n",
       "      <td>-0.004345</td>\n",
       "      <td>0.009640</td>\n",
       "      <td>-0.000812</td>\n",
       "      <td>-0.003381</td>\n",
       "      <td>0.005494</td>\n",
       "      <td>1</td>\n",
       "    </tr>\n",
       "    <tr>\n",
       "      <th>...</th>\n",
       "      <td>...</td>\n",
       "      <td>...</td>\n",
       "      <td>...</td>\n",
       "      <td>...</td>\n",
       "      <td>...</td>\n",
       "      <td>...</td>\n",
       "      <td>...</td>\n",
       "      <td>...</td>\n",
       "      <td>...</td>\n",
       "      <td>...</td>\n",
       "      <td>...</td>\n",
       "      <td>...</td>\n",
       "      <td>...</td>\n",
       "      <td>...</td>\n",
       "      <td>...</td>\n",
       "      <td>...</td>\n",
       "      <td>...</td>\n",
       "      <td>...</td>\n",
       "      <td>...</td>\n",
       "      <td>...</td>\n",
       "      <td>...</td>\n",
       "    </tr>\n",
       "    <tr>\n",
       "      <th>59376</th>\n",
       "      <td>39634.788704</td>\n",
       "      <td>5.683246</td>\n",
       "      <td>-8.147271</td>\n",
       "      <td>4.684449</td>\n",
       "      <td>15.660381</td>\n",
       "      <td>-1.477635</td>\n",
       "      <td>2.183350</td>\n",
       "      <td>-1.780738</td>\n",
       "      <td>0.048852</td>\n",
       "      <td>-0.963019</td>\n",
       "      <td>...</td>\n",
       "      <td>-0.011458</td>\n",
       "      <td>0.002970</td>\n",
       "      <td>-0.005611</td>\n",
       "      <td>0.004286</td>\n",
       "      <td>0.000631</td>\n",
       "      <td>-0.025485</td>\n",
       "      <td>0.012130</td>\n",
       "      <td>-0.000811</td>\n",
       "      <td>-0.001417</td>\n",
       "      <td>0</td>\n",
       "    </tr>\n",
       "    <tr>\n",
       "      <th>59377</th>\n",
       "      <td>39635.796394</td>\n",
       "      <td>235.715574</td>\n",
       "      <td>15.684611</td>\n",
       "      <td>-3.410986</td>\n",
       "      <td>-0.453615</td>\n",
       "      <td>-0.928919</td>\n",
       "      <td>-2.867995</td>\n",
       "      <td>0.532761</td>\n",
       "      <td>-1.410761</td>\n",
       "      <td>-0.069319</td>\n",
       "      <td>...</td>\n",
       "      <td>0.000155</td>\n",
       "      <td>-0.009021</td>\n",
       "      <td>-0.007197</td>\n",
       "      <td>-0.009967</td>\n",
       "      <td>-0.005476</td>\n",
       "      <td>0.004907</td>\n",
       "      <td>-0.022875</td>\n",
       "      <td>-0.021493</td>\n",
       "      <td>0.006750</td>\n",
       "      <td>0</td>\n",
       "    </tr>\n",
       "    <tr>\n",
       "      <th>59378</th>\n",
       "      <td>39636.785376</td>\n",
       "      <td>-93.314209</td>\n",
       "      <td>0.317522</td>\n",
       "      <td>-5.661492</td>\n",
       "      <td>0.614032</td>\n",
       "      <td>-0.852966</td>\n",
       "      <td>0.227429</td>\n",
       "      <td>-2.204782</td>\n",
       "      <td>-0.571930</td>\n",
       "      <td>0.067879</td>\n",
       "      <td>...</td>\n",
       "      <td>0.005261</td>\n",
       "      <td>0.012847</td>\n",
       "      <td>0.019116</td>\n",
       "      <td>-0.015028</td>\n",
       "      <td>-0.007955</td>\n",
       "      <td>0.018761</td>\n",
       "      <td>-0.013912</td>\n",
       "      <td>0.000518</td>\n",
       "      <td>0.003119</td>\n",
       "      <td>1</td>\n",
       "    </tr>\n",
       "    <tr>\n",
       "      <th>59379</th>\n",
       "      <td>39637.780498</td>\n",
       "      <td>-239.314864</td>\n",
       "      <td>-7.503640</td>\n",
       "      <td>1.764060</td>\n",
       "      <td>13.557786</td>\n",
       "      <td>5.921760</td>\n",
       "      <td>-2.833416</td>\n",
       "      <td>-1.899379</td>\n",
       "      <td>0.992539</td>\n",
       "      <td>-1.013449</td>\n",
       "      <td>...</td>\n",
       "      <td>-0.005837</td>\n",
       "      <td>0.001262</td>\n",
       "      <td>-0.012145</td>\n",
       "      <td>-0.024469</td>\n",
       "      <td>-0.008323</td>\n",
       "      <td>0.027879</td>\n",
       "      <td>-0.003314</td>\n",
       "      <td>-0.018529</td>\n",
       "      <td>-0.006978</td>\n",
       "      <td>1</td>\n",
       "    </tr>\n",
       "    <tr>\n",
       "      <th>59380</th>\n",
       "      <td>39638.785379</td>\n",
       "      <td>-93.322078</td>\n",
       "      <td>0.195271</td>\n",
       "      <td>4.473001</td>\n",
       "      <td>-3.454133</td>\n",
       "      <td>0.385589</td>\n",
       "      <td>0.447749</td>\n",
       "      <td>-1.997886</td>\n",
       "      <td>-0.504697</td>\n",
       "      <td>0.136299</td>\n",
       "      <td>...</td>\n",
       "      <td>0.009464</td>\n",
       "      <td>0.000072</td>\n",
       "      <td>0.001204</td>\n",
       "      <td>-0.024690</td>\n",
       "      <td>-0.010012</td>\n",
       "      <td>0.074704</td>\n",
       "      <td>-0.022391</td>\n",
       "      <td>-0.022819</td>\n",
       "      <td>0.006060</td>\n",
       "      <td>0</td>\n",
       "    </tr>\n",
       "  </tbody>\n",
       "</table>\n",
       "<p>59381 rows × 101 columns</p>\n",
       "</div>"
      ],
      "text/plain": [
       "          Feature_1   Feature_2  Feature_3  Feature_4  Feature_5  Feature_6  \\\n",
       "0     -39505.216243 -140.652618  -3.715001   0.151864  12.877069   8.432080   \n",
       "1     -39502.206196  159.321443  -3.583449  12.934081  -3.638477  -6.251464   \n",
       "2     -39501.219914 -249.656784   2.588738  -5.702205   0.829628  -0.782742   \n",
       "3     -39500.208263   97.337528  -8.194267  -0.024972  13.949333   5.708487   \n",
       "4     -39499.214579  -90.663132   0.205206  -2.861797  -0.462820  -0.439350   \n",
       "...             ...         ...        ...        ...        ...        ...   \n",
       "59376  39634.788704    5.683246  -8.147271   4.684449  15.660381  -1.477635   \n",
       "59377  39635.796394  235.715574  15.684611  -3.410986  -0.453615  -0.928919   \n",
       "59378  39636.785376  -93.314209   0.317522  -5.661492   0.614032  -0.852966   \n",
       "59379  39637.780498 -239.314864  -7.503640   1.764060  13.557786   5.921760   \n",
       "59380  39638.785379  -93.322078   0.195271   4.473001  -3.454133   0.385589   \n",
       "\n",
       "       Feature_7  Feature_8  Feature_9  Feature_10  ...  Feature_92  \\\n",
       "0      -0.137116   2.066225   1.049751   -0.647207  ...    0.006548   \n",
       "1       0.325982   1.372533  -1.350117   -0.481385  ...   -0.011267   \n",
       "2       2.165713  -2.082795  -0.773540    0.107214  ...   -0.001023   \n",
       "3       2.132347  -1.960475  -0.955815    0.229903  ...   -0.020270   \n",
       "4       0.250171  -2.219235  -0.737942    0.077737  ...   -0.006945   \n",
       "...          ...        ...        ...         ...  ...         ...   \n",
       "59376   2.183350  -1.780738   0.048852   -0.963019  ...   -0.011458   \n",
       "59377  -2.867995   0.532761  -1.410761   -0.069319  ...    0.000155   \n",
       "59378   0.227429  -2.204782  -0.571930    0.067879  ...    0.005261   \n",
       "59379  -2.833416  -1.899379   0.992539   -1.013449  ...   -0.005837   \n",
       "59380   0.447749  -1.997886  -0.504697    0.136299  ...    0.009464   \n",
       "\n",
       "       Feature_93  Feature_94  Feature_95  Feature_96  Feature_97  Feature_98  \\\n",
       "0       -0.037225    0.012364    0.029888   -0.158504    0.003981    0.034382   \n",
       "1        0.004377   -0.001145    0.007300   -0.016026   -0.042670   -0.004516   \n",
       "2        0.002921    0.003062    0.007317    0.008571   -0.041267    0.013731   \n",
       "3        0.001358   -0.001058   -0.000725    0.014560   -0.011905    0.012146   \n",
       "4       -0.002736    0.001868   -0.007831   -0.004345    0.009640   -0.000812   \n",
       "...           ...         ...         ...         ...         ...         ...   \n",
       "59376    0.002970   -0.005611    0.004286    0.000631   -0.025485    0.012130   \n",
       "59377   -0.009021   -0.007197   -0.009967   -0.005476    0.004907   -0.022875   \n",
       "59378    0.012847    0.019116   -0.015028   -0.007955    0.018761   -0.013912   \n",
       "59379    0.001262   -0.012145   -0.024469   -0.008323    0.027879   -0.003314   \n",
       "59380    0.000072    0.001204   -0.024690   -0.010012    0.074704   -0.022391   \n",
       "\n",
       "       Feature_99  Feature_100  Response  \n",
       "0       -0.000096     0.013453         1  \n",
       "1       -0.014193     0.010036         0  \n",
       "2        0.020779    -0.007999         1  \n",
       "3        0.006612    -0.002539         1  \n",
       "4       -0.003381     0.005494         1  \n",
       "...           ...          ...       ...  \n",
       "59376   -0.000811    -0.001417         0  \n",
       "59377   -0.021493     0.006750         0  \n",
       "59378    0.000518     0.003119         1  \n",
       "59379   -0.018529    -0.006978         1  \n",
       "59380   -0.022819     0.006060         0  \n",
       "\n",
       "[59381 rows x 101 columns]"
      ]
     },
     "execution_count": 62,
     "metadata": {},
     "output_type": "execute_result"
    }
   ],
   "source": [
    "dfXY"
   ]
  },
  {
   "cell_type": "code",
   "execution_count": 63,
   "metadata": {},
   "outputs": [
    {
     "data": {
      "text/plain": [
       "<Axes: xlabel='feature', ylabel='corr'>"
      ]
     },
     "execution_count": 63,
     "metadata": {},
     "output_type": "execute_result"
    },
    {
     "data": {
      "image/png": "[encoded data removed]",
      "text/plain": [
       "<Figure size 640x480 with 1 Axes>"
      ]
     },
     "metadata": {},
     "output_type": "display_data"
    }
   ],
   "source": [
    "df2FeatureCorr = pd.DataFrame(columns=['feature','corr'])\n",
    "for col in dfXY.columns:\n",
    "    if col in ('Response'):\n",
    "        continue\n",
    "    df2FeatureCorr.loc[len(df2FeatureCorr.index)] = [col, dfXY[col].corr(dfXY['Response'])]\n",
    "sns.scatterplot(data=df2FeatureCorr, x=\"feature\", y=\"corr\")"
   ]
  },
  {
   "cell_type": "markdown",
   "metadata": {},
   "source": [
    "- Lost some highly correlated features\n",
    "- Also lost some high correlated features\n",
    "- Remembering does not imply reminding, correlation does not imply causation"
   ]
  },
  {
   "cell_type": "code",
   "execution_count": 64,
   "metadata": {},
   "outputs": [
    {
     "data": {
      "text/plain": [
       "<Axes: xlabel='feature', ylabel='corr'>"
      ]
     },
     "execution_count": 64,
     "metadata": {},
     "output_type": "execute_result"
    },
    {
     "data": {
      "image/png": "[encoded data removed]",
      "text/plain": [
       "<Figure size 640x480 with 1 Axes>"
      ]
     },
     "metadata": {},
     "output_type": "display_data"
    }
   ],
   "source": [
    "sns.scatterplot(data=dfFeatureCorr, x=\"feature\", y=\"corr\")"
   ]
  },
  {
   "cell_type": "markdown",
   "metadata": {},
   "source": [
    "## TODO: Perform further feature extraction by Hyperparamter tuning\n",
    "- Choose the number of Features for the model"
   ]
  },
  {
   "cell_type": "code",
   "execution_count": null,
   "metadata": {},
   "outputs": [
    {
     "name": "stderr",
     "output_type": "stream",
     "text": [
      "/home/jupyter-tanggn/.local/lib/python3.10/site-packages/sklearn/utils/validation.py:1183: DataConversionWarning: A column-vector y was passed when a 1d array was expected. Please change the shape of y to (n_samples, ), for example using ravel().\n",
      "  y = column_or_1d(y, warn=True)\n"
     ]
    }
   ],
   "source": [
    "# Importing needed packages\n",
    "from sklearn.ensemble import RandomForestClassifier\n",
    "from sklearn.model_selection import GridSearchCV\n",
    "from sklearn.feature_selection import SelectKBest, f_classif\n",
    "from sklearn.pipeline import Pipeline\n",
    "\n",
    "# Will define the classifier, I'm going to use RF.\n",
    "# RF is often used for hyperparameter tuning because it is a robust model + has good out of box performance. It can also handle both classification + regression tasks and is a versatile choice. \n",
    "# n_estimators is 100 which is the number of trees in the forest (setting higher will provide more robust and accurate results but computational costs must be considered.\n",
    "# set to random_state = 42 for code reproducibility\n",
    "classifier = RandomForestClassifier(n_estimators=100, random_state=42)\n",
    "\n",
    "# Using SelectKBest from sklearn to select the top independent variables from dataset based on statistical test. \n",
    "# f_classif here is the statistical test that we will use to compute the feature scores. \n",
    "feature_selector = SelectKBest(score_func=f_classif)\n",
    "\n",
    "# We now need to make our hyperparameter grid of what we want to test when we optimize our model.\n",
    "param_grid = {\n",
    "    'feature_selection__k': [10, 20],  # Choosing the number of features to select. Keeping it low because I tried setting this higher but computational cost was too high and the code took 15+ mins and it still did not run. \n",
    "    'classify__n_estimators': [100], # 100 decision trees\n",
    "    'classify__max_depth': [None, 10], # Testing two values, \"none\" indicating no max depth to 10 to see how the tree depth will impact the model. \n",
    "    'classify__min_samples_split': [2, 5], # Setting the minimum number of samples required to split internal node. \n",
    "}\n",
    "\n",
    "# Taken from sklearn's 'Pipeline' class. Allows us to define a sequence of data processing steps. \n",
    "pipe = Pipeline([\n",
    "    ('feature_selection', feature_selector), # First step is feature selection where it will pick the best features based on data.\n",
    "    ('classify', classifier) # Second step is using the RF Classifier which we designed earlier. \n",
    "])\n",
    "\n",
    "# Fitting feature selector (SelectKBest) on feature matrix (dfX) and target variable (dfY)\n",
    "feature_selector.fit(dfX, dfY) \n",
    "\n",
    "# We're creating a grid search object by using 'GridSearchCV' which will help us find the best combination of hyperparameters for our classifier. \n",
    "grid_search = GridSearchCV(pipe, param_grid, cv=5) # Using 5-fold cross validation, meaning data is split 5 parts and the model is trained and evaluated 5x.\n",
    "grid_search.fit(dfX, dfY.values.ravel()) \n",
    "\n",
    "# Let's store the best hyperparameters from grid_search.best_params_.\n",
    "best_params = grid_search.best_params_\n",
    "print(\"Best hyperparameters:\", best_params) # Printing since I am curious to see the grid search found for the best hyperparameters. \n",
    "# Results: {'classify__max_depth': 10, 'classify__min_samples_split': 5, 'classify__n_estimators': 100, 'feature_selection__k': 20}\n",
    "\n",
    "# 'dfX.columns' is selected so we can see the column names of features picked during the feature selection process. \n",
    "selected_features = dfX.columns[feature_selector.get_support()]\n",
    "print(\"Selected features after feature selection:\", selected_features) # Printing the specific features that were most important by feature selection method. \n",
    "# Results: 'Product_Info_4', 'Ins_Age', 'Ht', 'Wt', 'BMI', 'InsuredInfo_6', 'Medical_History_4', 'Medical_History_23', 'Medical_Keyword_3', 'Medical_Keyword_15'\n",
    "\n",
    "# Note this took around 3 minutes to run."
   ]
  },
  {
   "cell_type": "markdown",
   "metadata": {},
   "source": [
    "## TODO: Develop a model to Predict Response \n",
    "- Break the dataset into Train and Validate dataset (5%)\n",
    "- Choose one or more models\n",
    "- Perform cross validation using Train Dataset (80/20 split)\n",
    "- Perform ROC/AUC analysis"
   ]
  },
  {
   "cell_type": "code",
   "execution_count": null,
   "metadata": {},
   "outputs": [],
   "source": [
    "#Importing needed package from sklearn. \n",
    "from sklearn.model_selection import train_test_split\n",
    "\n",
    "# Splitting into 80/20, random state = 42 for reproducibility \n",
    "X_train, X_val, y_train, y_val = train_test_split(dfX, dfY, test_size=0.2, random_state=42)\n"
   ]
  },
  {
   "cell_type": "markdown",
   "metadata": {},
   "source": [
    "# Let's tackle a random forest model first. "
   ]
  },
  {
   "cell_type": "code",
   "execution_count": null,
   "metadata": {},
   "outputs": [],
   "source": [
    "# Importing needed packages \n",
    "from sklearn.ensemble import RandomForestClassifier\n",
    "from sklearn.metrics import roc_auc_score\n",
    "\n",
    "# Let's first initialize the RF classiffier. Using 100 decision trees and random_state 42 for reproducibility. \n",
    "rf_classifier = RandomForestClassifier(n_estimators=100, random_state=42)\n",
    "# Training the RF classifier. X_train are the features and y_train are the target variables. \n",
    "rf_classifier.fit(X_train, y_train)\n",
    "\n",
    "# Now we will make predictions using the (now) trained RF classifier and store it in rf_predictions.\n",
    "rf_predictions = rf_classifier.predict(X_val) # X_val is the validation data \n",
    "\n",
    "# Lastly, we'll calculate the ROC AUC score for the RF model\n",
    "rf_roc_auc = roc_auc_score(y_val, rf_predictions)\n",
    "print(f\"Random Forest ROC AUC Score: {rf_roc_auc}\")\n",
    "\n",
    "# Results: Random Forest ROC AUC Score: 0.8036292834890966"
   ]
  },
  {
   "cell_type": "markdown",
   "metadata": {},
   "source": [
    "# We'll try a logisitic regression model next."
   ]
  },
  {
   "cell_type": "code",
   "execution_count": null,
   "metadata": {},
   "outputs": [],
   "source": [
    "# Importing logistic regression class from sklearn\n",
    "from sklearn.linear_model import LogisticRegression\n",
    "\n",
    "# Initializing the logistic regression model. \n",
    "lr_classifier = LogisticRegression()\n",
    "# Training the model. \n",
    "lr_classifier.fit(X_train, y_train)\n",
    "\n",
    "# Making predictions for logistic regression model and storing them in lr_predictions.\n",
    "lr_predictions = lr_classifier.predict(X_val)\n",
    "\n",
    "# Calculating ROC AUC score for the logistic regression model. \n",
    "lr_roc_auc = roc_auc_score(y_val, lr_predictions)\n",
    "print(f\"Logistic Regression ROC AUC Score: {lr_roc_auc}\")\n",
    "\n",
    "# Results: Logistic Regression ROC AUC Score: 0.5005867082035306\n",
    "# Significantly worse performance compared to the RF model. Let's try one more. "
   ]
  },
  {
   "cell_type": "markdown",
   "metadata": {},
   "source": [
    "# The last model I want to try is the gradient boosting model. GB models often have highly predictive models and is a robust model that can handle noisy data. "
   ]
  },
  {
   "cell_type": "code",
   "execution_count": null,
   "metadata": {},
   "outputs": [],
   "source": [
    "# Import GradientBoostingClassifier from sklearn.\n",
    "from sklearn.ensemble import GradientBoostingClassifier\n",
    "\n",
    "# Creating classifier.\n",
    "gb_classifier = GradientBoostingClassifier(random_state=42)\n",
    "# Fitting classifier on train data. \n",
    "gb_classifier.fit(X_train, y_train)\n",
    "\n",
    "# Making predictions for gradient boosting model and storing them in gb_predictions. \n",
    "gb_predictions = gb_classifier.predict(X_val)\n",
    "\n",
    "# Calculating ROC AUC score for gradient boosting model.\n",
    "gb_roc_auc = roc_auc_score(y_val, gb_predictions)\n",
    "print(f\"Gradient Boosting ROC AUC Score: {gb_roc_auc}\")\n",
    "\n",
    "# Results: Gradient Boosting ROC AUC Score: 0.8133229491173417\n",
    "# Best performance compared to RF and Logistic Regression models "
   ]
  },
  {
   "cell_type": "markdown",
   "metadata": {},
   "source": [
    "From these results, we can determine that both the RF and GB model can be effective in distingiuishing between positive and negative classes. The RF model (ROC AUC score = 0.8036) is reasonably effective and has a good ability to rank and classify examples correctly. The GB model ROC AUC score at 0.8133 shows that it is highly effective in distinguishing between classes and can rank/classify examples well. Logistic regression had a ROC AUC score of 0.5006 which shows that essentially the model performance is random. Both the RF and GB model outperformed the logistic regression model by a significant margin."
   ]
  },
  {
   "cell_type": "code",
   "execution_count": null,
   "metadata": {},
   "outputs": [],
   "source": []
  }
 ],
 "metadata": {
  "kernelspec": {
   "display_name": "Python 3 (ipykernel)",
   "language": "python",
   "name": "python3"
  },
  "language_info": {
   "codemirror_mode": {
    "name": "ipython",
    "version": 3
   },
   "file_extension": ".py",
   "mimetype": "text/x-python",
   "name": "python",
   "nbconvert_exporter": "python",
   "pygments_lexer": "ipython3",
   "version": "3.10.10"
  }
 },
 "nbformat": 4,
 "nbformat_minor": 4
}
